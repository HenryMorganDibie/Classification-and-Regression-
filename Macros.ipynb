{
 "cells": [
  {
   "cell_type": "code",
   "execution_count": 1,
   "id": "8639be72",
   "metadata": {},
   "outputs": [],
   "source": [
    "import pandas as pd\n",
    "import numpy as np\n",
    "import seaborn as sns\n",
    "import matplotlib.pyplot as plt"
   ]
  },
  {
   "cell_type": "code",
   "execution_count": 2,
   "id": "8a49b410",
   "metadata": {},
   "outputs": [
    {
     "data": {
      "text/html": [
       "<div>\n",
       "<style scoped>\n",
       "    .dataframe tbody tr th:only-of-type {\n",
       "        vertical-align: middle;\n",
       "    }\n",
       "\n",
       "    .dataframe tbody tr th {\n",
       "        vertical-align: top;\n",
       "    }\n",
       "\n",
       "    .dataframe thead th {\n",
       "        text-align: right;\n",
       "    }\n",
       "</style>\n",
       "<table border=\"1\" class=\"dataframe\">\n",
       "  <thead>\n",
       "    <tr style=\"text-align: right;\">\n",
       "      <th></th>\n",
       "      <th>food_name</th>\n",
       "      <th>proteins_100g</th>\n",
       "      <th>carbohydrates_100g</th>\n",
       "      <th>fat_100g</th>\n",
       "      <th>energy_100g</th>\n",
       "      <th>category_name</th>\n",
       "      <th>origin</th>\n",
       "      <th>diet_type</th>\n",
       "    </tr>\n",
       "  </thead>\n",
       "  <tbody>\n",
       "    <tr>\n",
       "      <th>0</th>\n",
       "      <td>Alaskan salmon</td>\n",
       "      <td>25.4</td>\n",
       "      <td>0.0</td>\n",
       "      <td>6.7</td>\n",
       "      <td>170.0</td>\n",
       "      <td>Fish</td>\n",
       "      <td>Animal</td>\n",
       "      <td>Omnivorous</td>\n",
       "    </tr>\n",
       "    <tr>\n",
       "      <th>1</th>\n",
       "      <td>Almonds</td>\n",
       "      <td>21.3</td>\n",
       "      <td>19.7</td>\n",
       "      <td>50.6</td>\n",
       "      <td>577.0</td>\n",
       "      <td>Nuts</td>\n",
       "      <td>Non-animal</td>\n",
       "      <td>Vegan</td>\n",
       "    </tr>\n",
       "    <tr>\n",
       "      <th>2</th>\n",
       "      <td>Amaranth</td>\n",
       "      <td>14.5</td>\n",
       "      <td>66.2</td>\n",
       "      <td>6.5</td>\n",
       "      <td>374.0</td>\n",
       "      <td>Grains</td>\n",
       "      <td>Non-animal</td>\n",
       "      <td>Vegan</td>\n",
       "    </tr>\n",
       "    <tr>\n",
       "      <th>3</th>\n",
       "      <td>Anchovies</td>\n",
       "      <td>29.0</td>\n",
       "      <td>0.0</td>\n",
       "      <td>9.7</td>\n",
       "      <td>210.0</td>\n",
       "      <td>Fish</td>\n",
       "      <td>Animal</td>\n",
       "      <td>Omnivorous</td>\n",
       "    </tr>\n",
       "    <tr>\n",
       "      <th>4</th>\n",
       "      <td>Asparagus</td>\n",
       "      <td>2.4</td>\n",
       "      <td>4.1</td>\n",
       "      <td>0.2</td>\n",
       "      <td>22.0</td>\n",
       "      <td>Vegetables</td>\n",
       "      <td>Non-animal</td>\n",
       "      <td>Vegan</td>\n",
       "    </tr>\n",
       "  </tbody>\n",
       "</table>\n",
       "</div>"
      ],
      "text/plain": [
       "        food_name  proteins_100g  carbohydrates_100g  fat_100g  energy_100g  \\\n",
       "0  Alaskan salmon           25.4                 0.0       6.7        170.0   \n",
       "1         Almonds           21.3                19.7      50.6        577.0   \n",
       "2        Amaranth           14.5                66.2       6.5        374.0   \n",
       "3       Anchovies           29.0                 0.0       9.7        210.0   \n",
       "4       Asparagus            2.4                 4.1       0.2         22.0   \n",
       "\n",
       "  category_name      origin   diet_type  \n",
       "0          Fish      Animal  Omnivorous  \n",
       "1          Nuts  Non-animal       Vegan  \n",
       "2        Grains  Non-animal       Vegan  \n",
       "3          Fish      Animal  Omnivorous  \n",
       "4    Vegetables  Non-animal       Vegan  "
      ]
     },
     "execution_count": 2,
     "metadata": {},
     "output_type": "execute_result"
    }
   ],
   "source": [
    "Macros = pd.read_csv('macros_dataset.csv')\n",
    "Macros.head()"
   ]
  },
  {
   "cell_type": "code",
   "execution_count": 3,
   "id": "d588e83b",
   "metadata": {},
   "outputs": [
    {
     "data": {
      "text/plain": [
       "(60, 8)"
      ]
     },
     "execution_count": 3,
     "metadata": {},
     "output_type": "execute_result"
    }
   ],
   "source": [
    "Macros.shape"
   ]
  },
  {
   "cell_type": "code",
   "execution_count": 4,
   "id": "9494c461",
   "metadata": {},
   "outputs": [
    {
     "data": {
      "text/plain": [
       "60"
      ]
     },
     "execution_count": 4,
     "metadata": {},
     "output_type": "execute_result"
    }
   ],
   "source": [
    "len(Macros)"
   ]
  },
  {
   "cell_type": "code",
   "execution_count": 5,
   "id": "06977fa3",
   "metadata": {},
   "outputs": [
    {
     "data": {
      "text/html": [
       "<div>\n",
       "<style scoped>\n",
       "    .dataframe tbody tr th:only-of-type {\n",
       "        vertical-align: middle;\n",
       "    }\n",
       "\n",
       "    .dataframe tbody tr th {\n",
       "        vertical-align: top;\n",
       "    }\n",
       "\n",
       "    .dataframe thead th {\n",
       "        text-align: right;\n",
       "    }\n",
       "</style>\n",
       "<table border=\"1\" class=\"dataframe\">\n",
       "  <thead>\n",
       "    <tr style=\"text-align: right;\">\n",
       "      <th></th>\n",
       "      <th>proteins_100g</th>\n",
       "      <th>carbohydrates_100g</th>\n",
       "      <th>fat_100g</th>\n",
       "      <th>energy_100g</th>\n",
       "    </tr>\n",
       "  </thead>\n",
       "  <tbody>\n",
       "    <tr>\n",
       "      <th>count</th>\n",
       "      <td>60.000000</td>\n",
       "      <td>60.000000</td>\n",
       "      <td>60.000000</td>\n",
       "      <td>60.000000</td>\n",
       "    </tr>\n",
       "    <tr>\n",
       "      <th>mean</th>\n",
       "      <td>19.263333</td>\n",
       "      <td>10.483333</td>\n",
       "      <td>13.256667</td>\n",
       "      <td>231.566667</td>\n",
       "    </tr>\n",
       "    <tr>\n",
       "      <th>std</th>\n",
       "      <td>10.176093</td>\n",
       "      <td>15.565348</td>\n",
       "      <td>16.035473</td>\n",
       "      <td>163.310935</td>\n",
       "    </tr>\n",
       "    <tr>\n",
       "      <th>min</th>\n",
       "      <td>2.000000</td>\n",
       "      <td>0.000000</td>\n",
       "      <td>0.200000</td>\n",
       "      <td>22.000000</td>\n",
       "    </tr>\n",
       "    <tr>\n",
       "      <th>25%</th>\n",
       "      <td>12.475000</td>\n",
       "      <td>0.375000</td>\n",
       "      <td>1.975000</td>\n",
       "      <td>114.000000</td>\n",
       "    </tr>\n",
       "    <tr>\n",
       "      <th>50%</th>\n",
       "      <td>21.000000</td>\n",
       "      <td>4.050000</td>\n",
       "      <td>6.450000</td>\n",
       "      <td>164.000000</td>\n",
       "    </tr>\n",
       "    <tr>\n",
       "      <th>75%</th>\n",
       "      <td>25.175000</td>\n",
       "      <td>15.825000</td>\n",
       "      <td>20.925000</td>\n",
       "      <td>314.250000</td>\n",
       "    </tr>\n",
       "    <tr>\n",
       "      <th>max</th>\n",
       "      <td>57.500000</td>\n",
       "      <td>67.400000</td>\n",
       "      <td>65.200000</td>\n",
       "      <td>653.000000</td>\n",
       "    </tr>\n",
       "  </tbody>\n",
       "</table>\n",
       "</div>"
      ],
      "text/plain": [
       "       proteins_100g  carbohydrates_100g   fat_100g  energy_100g\n",
       "count      60.000000           60.000000  60.000000    60.000000\n",
       "mean       19.263333           10.483333  13.256667   231.566667\n",
       "std        10.176093           15.565348  16.035473   163.310935\n",
       "min         2.000000            0.000000   0.200000    22.000000\n",
       "25%        12.475000            0.375000   1.975000   114.000000\n",
       "50%        21.000000            4.050000   6.450000   164.000000\n",
       "75%        25.175000           15.825000  20.925000   314.250000\n",
       "max        57.500000           67.400000  65.200000   653.000000"
      ]
     },
     "execution_count": 5,
     "metadata": {},
     "output_type": "execute_result"
    }
   ],
   "source": [
    "Macros.describe()"
   ]
  },
  {
   "cell_type": "code",
   "execution_count": 7,
   "id": "1f2bb597",
   "metadata": {},
   "outputs": [
    {
     "data": {
      "text/plain": [
       "food_name             0\n",
       "proteins_100g         0\n",
       "carbohydrates_100g    0\n",
       "fat_100g              0\n",
       "energy_100g           0\n",
       "category_name         0\n",
       "origin                0\n",
       "diet_type             0\n",
       "dtype: int64"
      ]
     },
     "execution_count": 7,
     "metadata": {},
     "output_type": "execute_result"
    }
   ],
   "source": [
    "Macros.isna().sum()"
   ]
  },
  {
   "cell_type": "code",
   "execution_count": 9,
   "id": "9c8f1cb7",
   "metadata": {},
   "outputs": [
    {
     "data": {
      "text/plain": [
       "array(['Animal', 'Non-animal'], dtype=object)"
      ]
     },
     "execution_count": 9,
     "metadata": {},
     "output_type": "execute_result"
    }
   ],
   "source": [
    "Macros['origin'].unique()"
   ]
  },
  {
   "cell_type": "code",
   "execution_count": 10,
   "id": "d5a6fc84",
   "metadata": {},
   "outputs": [],
   "source": [
    "# Create X (all the feature columns)\n",
    "x = Macros.drop('origin', axis=1)\n",
    "# Create y (the target column)\n",
    "y = Macros['origin']"
   ]
  },
  {
   "cell_type": "code",
   "execution_count": 11,
   "id": "a31907c2",
   "metadata": {},
   "outputs": [
    {
     "data": {
      "text/plain": [
       "(60, 7)"
      ]
     },
     "execution_count": 11,
     "metadata": {},
     "output_type": "execute_result"
    }
   ],
   "source": [
    "x.shape"
   ]
  },
  {
   "cell_type": "code",
   "execution_count": 12,
   "id": "e8bca954",
   "metadata": {},
   "outputs": [],
   "source": [
    "# Split the data into training and test sets\n",
    "from sklearn.model_selection import train_test_split\n",
    "x_train, x_test, y_train, y_test = train_test_split(x, y, test_size=0.2)"
   ]
  },
  {
   "cell_type": "code",
   "execution_count": 15,
   "id": "c76898bd",
   "metadata": {},
   "outputs": [],
   "source": [
    "from sklearn.ensemble import RandomForestClassifier\n",
    "\n",
    "model = RandomForestClassifier(n_estimators=100)"
   ]
  },
  {
   "cell_type": "code",
   "execution_count": 16,
   "id": "40028fcb",
   "metadata": {},
   "outputs": [
    {
     "data": {
      "text/plain": [
       "Index(['food_name', 'proteins_100g', 'carbohydrates_100g', 'fat_100g',\n",
       "       'energy_100g', 'category_name', 'diet_type'],\n",
       "      dtype='object')"
      ]
     },
     "execution_count": 16,
     "metadata": {},
     "output_type": "execute_result"
    }
   ],
   "source": [
    "x.columns"
   ]
  },
  {
   "cell_type": "code",
   "execution_count": 17,
   "id": "7bb0b7c3",
   "metadata": {},
   "outputs": [
    {
     "data": {
      "text/plain": [
       "<60x280 sparse matrix of type '<class 'numpy.float64'>'\n",
       "\twith 420 stored elements in Compressed Sparse Row format>"
      ]
     },
     "execution_count": 17,
     "metadata": {},
     "output_type": "execute_result"
    }
   ],
   "source": [
    "# Turn the categories into numbers\n",
    "from sklearn.preprocessing import OneHotEncoder\n",
    "from sklearn.compose import ColumnTransformer\n",
    "\n",
    "categorical_features = ['food_name', 'proteins_100g', 'carbohydrates_100g', 'fat_100g',\n",
    "       'energy_100g', 'category_name', 'diet_type']\n",
    "one_hot = OneHotEncoder()\n",
    "transformer = ColumnTransformer([(\"one_hot\", \n",
    "                                 one_hot, \n",
    "                                 categorical_features)],\n",
    "                                 remainder=\"passthrough\")\n",
    "transformed_X = transformer.fit_transform(x)\n",
    "transformed_X"
   ]
  },
  {
   "cell_type": "code",
   "execution_count": 18,
   "id": "9c87e983",
   "metadata": {},
   "outputs": [
    {
     "data": {
      "text/plain": [
       "<1x280 sparse matrix of type '<class 'numpy.float64'>'\n",
       "\twith 7 stored elements in Compressed Sparse Row format>"
      ]
     },
     "execution_count": 18,
     "metadata": {},
     "output_type": "execute_result"
    }
   ],
   "source": [
    "transformed_X[0]"
   ]
  },
  {
   "cell_type": "code",
   "execution_count": 19,
   "id": "298c44e6",
   "metadata": {},
   "outputs": [
    {
     "data": {
      "text/html": [
       "<div>\n",
       "<style scoped>\n",
       "    .dataframe tbody tr th:only-of-type {\n",
       "        vertical-align: middle;\n",
       "    }\n",
       "\n",
       "    .dataframe tbody tr th {\n",
       "        vertical-align: top;\n",
       "    }\n",
       "\n",
       "    .dataframe thead th {\n",
       "        text-align: right;\n",
       "    }\n",
       "</style>\n",
       "<table border=\"1\" class=\"dataframe\">\n",
       "  <thead>\n",
       "    <tr style=\"text-align: right;\">\n",
       "      <th></th>\n",
       "      <th>0</th>\n",
       "    </tr>\n",
       "  </thead>\n",
       "  <tbody>\n",
       "    <tr>\n",
       "      <th>0</th>\n",
       "      <td>(0, 0)\\t1.0\\n  (0, 98)\\t1.0\\n  (0, 110)\\t1.0...</td>\n",
       "    </tr>\n",
       "    <tr>\n",
       "      <th>1</th>\n",
       "      <td>(0, 1)\\t1.0\\n  (0, 88)\\t1.0\\n  (0, 140)\\t1.0...</td>\n",
       "    </tr>\n",
       "    <tr>\n",
       "      <th>2</th>\n",
       "      <td>(0, 2)\\t1.0\\n  (0, 76)\\t1.0\\n  (0, 151)\\t1.0...</td>\n",
       "    </tr>\n",
       "    <tr>\n",
       "      <th>3</th>\n",
       "      <td>(0, 3)\\t1.0\\n  (0, 104)\\t1.0\\n  (0, 110)\\t1....</td>\n",
       "    </tr>\n",
       "    <tr>\n",
       "      <th>4</th>\n",
       "      <td>(0, 4)\\t1.0\\n  (0, 62)\\t1.0\\n  (0, 125)\\t1.0...</td>\n",
       "    </tr>\n",
       "    <tr>\n",
       "      <th>5</th>\n",
       "      <td>(0, 5)\\t1.0\\n  (0, 60)\\t1.0\\n  (0, 133)\\t1.0...</td>\n",
       "    </tr>\n",
       "    <tr>\n",
       "      <th>6</th>\n",
       "      <td>(0, 6)\\t1.0\\n  (0, 61)\\t1.0\\n  (0, 147)\\t1.0...</td>\n",
       "    </tr>\n",
       "    <tr>\n",
       "      <th>7</th>\n",
       "      <td>(0, 7)\\t1.0\\n  (0, 69)\\t1.0\\n  (0, 143)\\t1.0...</td>\n",
       "    </tr>\n",
       "    <tr>\n",
       "      <th>8</th>\n",
       "      <td>(0, 8)\\t1.0\\n  (0, 62)\\t1.0\\n  (0, 131)\\t1.0...</td>\n",
       "    </tr>\n",
       "    <tr>\n",
       "      <th>9</th>\n",
       "      <td>(0, 9)\\t1.0\\n  (0, 82)\\t1.0\\n  (0, 111)\\t1.0...</td>\n",
       "    </tr>\n",
       "    <tr>\n",
       "      <th>10</th>\n",
       "      <td>(0, 10)\\t1.0\\n  (0, 81)\\t1.0\\n  (0, 148)\\t1....</td>\n",
       "    </tr>\n",
       "    <tr>\n",
       "      <th>11</th>\n",
       "      <td>(0, 11)\\t1.0\\n  (0, 96)\\t1.0\\n  (0, 114)\\t1....</td>\n",
       "    </tr>\n",
       "    <tr>\n",
       "      <th>12</th>\n",
       "      <td>(0, 12)\\t1.0\\n  (0, 79)\\t1.0\\n  (0, 149)\\t1....</td>\n",
       "    </tr>\n",
       "    <tr>\n",
       "      <th>13</th>\n",
       "      <td>(0, 13)\\t1.0\\n  (0, 106)\\t1.0\\n  (0, 110)\\t1...</td>\n",
       "    </tr>\n",
       "    <tr>\n",
       "      <th>14</th>\n",
       "      <td>(0, 14)\\t1.0\\n  (0, 69)\\t1.0\\n  (0, 145)\\t1....</td>\n",
       "    </tr>\n",
       "    <tr>\n",
       "      <th>15</th>\n",
       "      <td>(0, 15)\\t1.0\\n  (0, 99)\\t1.0\\n  (0, 129)\\t1....</td>\n",
       "    </tr>\n",
       "    <tr>\n",
       "      <th>16</th>\n",
       "      <td>(0, 16)\\t1.0\\n  (0, 90)\\t1.0\\n  (0, 110)\\t1....</td>\n",
       "    </tr>\n",
       "    <tr>\n",
       "      <th>17</th>\n",
       "      <td>(0, 17)\\t1.0\\n  (0, 73)\\t1.0\\n  (0, 119)\\t1....</td>\n",
       "    </tr>\n",
       "    <tr>\n",
       "      <th>18</th>\n",
       "      <td>(0, 18)\\t1.0\\n  (0, 63)\\t1.0\\n  (0, 127)\\t1....</td>\n",
       "    </tr>\n",
       "    <tr>\n",
       "      <th>19</th>\n",
       "      <td>(0, 19)\\t1.0\\n  (0, 86)\\t1.0\\n  (0, 110)\\t1....</td>\n",
       "    </tr>\n",
       "    <tr>\n",
       "      <th>20</th>\n",
       "      <td>(0, 20)\\t1.0\\n  (0, 107)\\t1.0\\n  (0, 116)\\t1...</td>\n",
       "    </tr>\n",
       "    <tr>\n",
       "      <th>21</th>\n",
       "      <td>(0, 21)\\t1.0\\n  (0, 89)\\t1.0\\n  (0, 110)\\t1....</td>\n",
       "    </tr>\n",
       "    <tr>\n",
       "      <th>22</th>\n",
       "      <td>(0, 22)\\t1.0\\n  (0, 96)\\t1.0\\n  (0, 115)\\t1....</td>\n",
       "    </tr>\n",
       "    <tr>\n",
       "      <th>23</th>\n",
       "      <td>(0, 23)\\t1.0\\n  (0, 72)\\t1.0\\n  (0, 135)\\t1....</td>\n",
       "    </tr>\n",
       "    <tr>\n",
       "      <th>24</th>\n",
       "      <td>(0, 24)\\t1.0\\n  (0, 74)\\t1.0\\n  (0, 112)\\t1....</td>\n",
       "    </tr>\n",
       "    <tr>\n",
       "      <th>25</th>\n",
       "      <td>(0, 25)\\t1.0\\n  (0, 75)\\t1.0\\n  (0, 125)\\t1....</td>\n",
       "    </tr>\n",
       "    <tr>\n",
       "      <th>26</th>\n",
       "      <td>(0, 26)\\t1.0\\n  (0, 68)\\t1.0\\n  (0, 117)\\t1....</td>\n",
       "    </tr>\n",
       "    <tr>\n",
       "      <th>27</th>\n",
       "      <td>(0, 27)\\t1.0\\n  (0, 64)\\t1.0\\n  (0, 126)\\t1....</td>\n",
       "    </tr>\n",
       "    <tr>\n",
       "      <th>28</th>\n",
       "      <td>(0, 28)\\t1.0\\n  (0, 67)\\t1.0\\n  (0, 124)\\t1....</td>\n",
       "    </tr>\n",
       "    <tr>\n",
       "      <th>29</th>\n",
       "      <td>(0, 29)\\t1.0\\n  (0, 101)\\t1.0\\n  (0, 110)\\t1...</td>\n",
       "    </tr>\n",
       "    <tr>\n",
       "      <th>30</th>\n",
       "      <td>(0, 30)\\t1.0\\n  (0, 93)\\t1.0\\n  (0, 110)\\t1....</td>\n",
       "    </tr>\n",
       "    <tr>\n",
       "      <th>31</th>\n",
       "      <td>(0, 31)\\t1.0\\n  (0, 86)\\t1.0\\n  (0, 110)\\t1....</td>\n",
       "    </tr>\n",
       "    <tr>\n",
       "      <th>32</th>\n",
       "      <td>(0, 32)\\t1.0\\n  (0, 104)\\t1.0\\n  (0, 110)\\t1...</td>\n",
       "    </tr>\n",
       "    <tr>\n",
       "      <th>33</th>\n",
       "      <td>(0, 33)\\t1.0\\n  (0, 70)\\t1.0\\n  (0, 141)\\t1....</td>\n",
       "    </tr>\n",
       "    <tr>\n",
       "      <th>34</th>\n",
       "      <td>(0, 34)\\t1.0\\n  (0, 84)\\t1.0\\n  (0, 114)\\t1....</td>\n",
       "    </tr>\n",
       "    <tr>\n",
       "      <th>35</th>\n",
       "      <td>(0, 35)\\t1.0\\n  (0, 91)\\t1.0\\n  (0, 110)\\t1....</td>\n",
       "    </tr>\n",
       "    <tr>\n",
       "      <th>36</th>\n",
       "      <td>(0, 36)\\t1.0\\n  (0, 89)\\t1.0\\n  (0, 118)\\t1....</td>\n",
       "    </tr>\n",
       "    <tr>\n",
       "      <th>37</th>\n",
       "      <td>(0, 37)\\t1.0\\n  (0, 92)\\t1.0\\n  (0, 132)\\t1....</td>\n",
       "    </tr>\n",
       "    <tr>\n",
       "      <th>38</th>\n",
       "      <td>(0, 38)\\t1.0\\n  (0, 77)\\t1.0\\n  (0, 152)\\t1....</td>\n",
       "    </tr>\n",
       "    <tr>\n",
       "      <th>39</th>\n",
       "      <td>(0, 39)\\t1.0\\n  (0, 105)\\t1.0\\n  (0, 126)\\t1...</td>\n",
       "    </tr>\n",
       "    <tr>\n",
       "      <th>40</th>\n",
       "      <td>(0, 40)\\t1.0\\n  (0, 108)\\t1.0\\n  (0, 122)\\t1...</td>\n",
       "    </tr>\n",
       "    <tr>\n",
       "      <th>41</th>\n",
       "      <td>(0, 41)\\t1.0\\n  (0, 97)\\t1.0\\n  (0, 139)\\t1....</td>\n",
       "    </tr>\n",
       "    <tr>\n",
       "      <th>42</th>\n",
       "      <td>(0, 42)\\t1.0\\n  (0, 103)\\t1.0\\n  (0, 138)\\t1...</td>\n",
       "    </tr>\n",
       "    <tr>\n",
       "      <th>43</th>\n",
       "      <td>(0, 43)\\t1.0\\n  (0, 85)\\t1.0\\n  (0, 146)\\t1....</td>\n",
       "    </tr>\n",
       "    <tr>\n",
       "      <th>44</th>\n",
       "      <td>(0, 44)\\t1.0\\n  (0, 104)\\t1.0\\n  (0, 137)\\t1...</td>\n",
       "    </tr>\n",
       "    <tr>\n",
       "      <th>45</th>\n",
       "      <td>(0, 45)\\t1.0\\n  (0, 65)\\t1.0\\n  (0, 142)\\t1....</td>\n",
       "    </tr>\n",
       "    <tr>\n",
       "      <th>46</th>\n",
       "      <td>(0, 46)\\t1.0\\n  (0, 71)\\t1.0\\n  (0, 120)\\t1....</td>\n",
       "    </tr>\n",
       "    <tr>\n",
       "      <th>47</th>\n",
       "      <td>(0, 47)\\t1.0\\n  (0, 95)\\t1.0\\n  (0, 110)\\t1....</td>\n",
       "    </tr>\n",
       "    <tr>\n",
       "      <th>48</th>\n",
       "      <td>(0, 48)\\t1.0\\n  (0, 87)\\t1.0\\n  (0, 123)\\t1....</td>\n",
       "    </tr>\n",
       "    <tr>\n",
       "      <th>49</th>\n",
       "      <td>(0, 49)\\t1.0\\n  (0, 83)\\t1.0\\n  (0, 113)\\t1....</td>\n",
       "    </tr>\n",
       "    <tr>\n",
       "      <th>50</th>\n",
       "      <td>(0, 50)\\t1.0\\n  (0, 66)\\t1.0\\n  (0, 128)\\t1....</td>\n",
       "    </tr>\n",
       "    <tr>\n",
       "      <th>51</th>\n",
       "      <td>(0, 51)\\t1.0\\n  (0, 109)\\t1.0\\n  (0, 144)\\t1...</td>\n",
       "    </tr>\n",
       "    <tr>\n",
       "      <th>52</th>\n",
       "      <td>(0, 52)\\t1.0\\n  (0, 80)\\t1.0\\n  (0, 121)\\t1....</td>\n",
       "    </tr>\n",
       "    <tr>\n",
       "      <th>53</th>\n",
       "      <td>(0, 53)\\t1.0\\n  (0, 102)\\t1.0\\n  (0, 130)\\t1...</td>\n",
       "    </tr>\n",
       "    <tr>\n",
       "      <th>54</th>\n",
       "      <td>(0, 54)\\t1.0\\n  (0, 81)\\t1.0\\n  (0, 134)\\t1....</td>\n",
       "    </tr>\n",
       "    <tr>\n",
       "      <th>55</th>\n",
       "      <td>(0, 55)\\t1.0\\n  (0, 100)\\t1.0\\n  (0, 110)\\t1...</td>\n",
       "    </tr>\n",
       "    <tr>\n",
       "      <th>56</th>\n",
       "      <td>(0, 56)\\t1.0\\n  (0, 94)\\t1.0\\n  (0, 110)\\t1....</td>\n",
       "    </tr>\n",
       "    <tr>\n",
       "      <th>57</th>\n",
       "      <td>(0, 57)\\t1.0\\n  (0, 104)\\t1.0\\n  (0, 110)\\t1...</td>\n",
       "    </tr>\n",
       "    <tr>\n",
       "      <th>58</th>\n",
       "      <td>(0, 58)\\t1.0\\n  (0, 78)\\t1.0\\n  (0, 136)\\t1....</td>\n",
       "    </tr>\n",
       "    <tr>\n",
       "      <th>59</th>\n",
       "      <td>(0, 59)\\t1.0\\n  (0, 91)\\t1.0\\n  (0, 150)\\t1....</td>\n",
       "    </tr>\n",
       "  </tbody>\n",
       "</table>\n",
       "</div>"
      ],
      "text/plain": [
       "                                                    0\n",
       "0     (0, 0)\\t1.0\\n  (0, 98)\\t1.0\\n  (0, 110)\\t1.0...\n",
       "1     (0, 1)\\t1.0\\n  (0, 88)\\t1.0\\n  (0, 140)\\t1.0...\n",
       "2     (0, 2)\\t1.0\\n  (0, 76)\\t1.0\\n  (0, 151)\\t1.0...\n",
       "3     (0, 3)\\t1.0\\n  (0, 104)\\t1.0\\n  (0, 110)\\t1....\n",
       "4     (0, 4)\\t1.0\\n  (0, 62)\\t1.0\\n  (0, 125)\\t1.0...\n",
       "5     (0, 5)\\t1.0\\n  (0, 60)\\t1.0\\n  (0, 133)\\t1.0...\n",
       "6     (0, 6)\\t1.0\\n  (0, 61)\\t1.0\\n  (0, 147)\\t1.0...\n",
       "7     (0, 7)\\t1.0\\n  (0, 69)\\t1.0\\n  (0, 143)\\t1.0...\n",
       "8     (0, 8)\\t1.0\\n  (0, 62)\\t1.0\\n  (0, 131)\\t1.0...\n",
       "9     (0, 9)\\t1.0\\n  (0, 82)\\t1.0\\n  (0, 111)\\t1.0...\n",
       "10    (0, 10)\\t1.0\\n  (0, 81)\\t1.0\\n  (0, 148)\\t1....\n",
       "11    (0, 11)\\t1.0\\n  (0, 96)\\t1.0\\n  (0, 114)\\t1....\n",
       "12    (0, 12)\\t1.0\\n  (0, 79)\\t1.0\\n  (0, 149)\\t1....\n",
       "13    (0, 13)\\t1.0\\n  (0, 106)\\t1.0\\n  (0, 110)\\t1...\n",
       "14    (0, 14)\\t1.0\\n  (0, 69)\\t1.0\\n  (0, 145)\\t1....\n",
       "15    (0, 15)\\t1.0\\n  (0, 99)\\t1.0\\n  (0, 129)\\t1....\n",
       "16    (0, 16)\\t1.0\\n  (0, 90)\\t1.0\\n  (0, 110)\\t1....\n",
       "17    (0, 17)\\t1.0\\n  (0, 73)\\t1.0\\n  (0, 119)\\t1....\n",
       "18    (0, 18)\\t1.0\\n  (0, 63)\\t1.0\\n  (0, 127)\\t1....\n",
       "19    (0, 19)\\t1.0\\n  (0, 86)\\t1.0\\n  (0, 110)\\t1....\n",
       "20    (0, 20)\\t1.0\\n  (0, 107)\\t1.0\\n  (0, 116)\\t1...\n",
       "21    (0, 21)\\t1.0\\n  (0, 89)\\t1.0\\n  (0, 110)\\t1....\n",
       "22    (0, 22)\\t1.0\\n  (0, 96)\\t1.0\\n  (0, 115)\\t1....\n",
       "23    (0, 23)\\t1.0\\n  (0, 72)\\t1.0\\n  (0, 135)\\t1....\n",
       "24    (0, 24)\\t1.0\\n  (0, 74)\\t1.0\\n  (0, 112)\\t1....\n",
       "25    (0, 25)\\t1.0\\n  (0, 75)\\t1.0\\n  (0, 125)\\t1....\n",
       "26    (0, 26)\\t1.0\\n  (0, 68)\\t1.0\\n  (0, 117)\\t1....\n",
       "27    (0, 27)\\t1.0\\n  (0, 64)\\t1.0\\n  (0, 126)\\t1....\n",
       "28    (0, 28)\\t1.0\\n  (0, 67)\\t1.0\\n  (0, 124)\\t1....\n",
       "29    (0, 29)\\t1.0\\n  (0, 101)\\t1.0\\n  (0, 110)\\t1...\n",
       "30    (0, 30)\\t1.0\\n  (0, 93)\\t1.0\\n  (0, 110)\\t1....\n",
       "31    (0, 31)\\t1.0\\n  (0, 86)\\t1.0\\n  (0, 110)\\t1....\n",
       "32    (0, 32)\\t1.0\\n  (0, 104)\\t1.0\\n  (0, 110)\\t1...\n",
       "33    (0, 33)\\t1.0\\n  (0, 70)\\t1.0\\n  (0, 141)\\t1....\n",
       "34    (0, 34)\\t1.0\\n  (0, 84)\\t1.0\\n  (0, 114)\\t1....\n",
       "35    (0, 35)\\t1.0\\n  (0, 91)\\t1.0\\n  (0, 110)\\t1....\n",
       "36    (0, 36)\\t1.0\\n  (0, 89)\\t1.0\\n  (0, 118)\\t1....\n",
       "37    (0, 37)\\t1.0\\n  (0, 92)\\t1.0\\n  (0, 132)\\t1....\n",
       "38    (0, 38)\\t1.0\\n  (0, 77)\\t1.0\\n  (0, 152)\\t1....\n",
       "39    (0, 39)\\t1.0\\n  (0, 105)\\t1.0\\n  (0, 126)\\t1...\n",
       "40    (0, 40)\\t1.0\\n  (0, 108)\\t1.0\\n  (0, 122)\\t1...\n",
       "41    (0, 41)\\t1.0\\n  (0, 97)\\t1.0\\n  (0, 139)\\t1....\n",
       "42    (0, 42)\\t1.0\\n  (0, 103)\\t1.0\\n  (0, 138)\\t1...\n",
       "43    (0, 43)\\t1.0\\n  (0, 85)\\t1.0\\n  (0, 146)\\t1....\n",
       "44    (0, 44)\\t1.0\\n  (0, 104)\\t1.0\\n  (0, 137)\\t1...\n",
       "45    (0, 45)\\t1.0\\n  (0, 65)\\t1.0\\n  (0, 142)\\t1....\n",
       "46    (0, 46)\\t1.0\\n  (0, 71)\\t1.0\\n  (0, 120)\\t1....\n",
       "47    (0, 47)\\t1.0\\n  (0, 95)\\t1.0\\n  (0, 110)\\t1....\n",
       "48    (0, 48)\\t1.0\\n  (0, 87)\\t1.0\\n  (0, 123)\\t1....\n",
       "49    (0, 49)\\t1.0\\n  (0, 83)\\t1.0\\n  (0, 113)\\t1....\n",
       "50    (0, 50)\\t1.0\\n  (0, 66)\\t1.0\\n  (0, 128)\\t1....\n",
       "51    (0, 51)\\t1.0\\n  (0, 109)\\t1.0\\n  (0, 144)\\t1...\n",
       "52    (0, 52)\\t1.0\\n  (0, 80)\\t1.0\\n  (0, 121)\\t1....\n",
       "53    (0, 53)\\t1.0\\n  (0, 102)\\t1.0\\n  (0, 130)\\t1...\n",
       "54    (0, 54)\\t1.0\\n  (0, 81)\\t1.0\\n  (0, 134)\\t1....\n",
       "55    (0, 55)\\t1.0\\n  (0, 100)\\t1.0\\n  (0, 110)\\t1...\n",
       "56    (0, 56)\\t1.0\\n  (0, 94)\\t1.0\\n  (0, 110)\\t1....\n",
       "57    (0, 57)\\t1.0\\n  (0, 104)\\t1.0\\n  (0, 110)\\t1...\n",
       "58    (0, 58)\\t1.0\\n  (0, 78)\\t1.0\\n  (0, 136)\\t1....\n",
       "59    (0, 59)\\t1.0\\n  (0, 91)\\t1.0\\n  (0, 150)\\t1...."
      ]
     },
     "execution_count": 19,
     "metadata": {},
     "output_type": "execute_result"
    }
   ],
   "source": [
    "pd.DataFrame(transformed_X)"
   ]
  },
  {
   "cell_type": "code",
   "execution_count": 20,
   "id": "4820fad0",
   "metadata": {},
   "outputs": [
    {
     "data": {
      "text/plain": [
       "1.0"
      ]
     },
     "execution_count": 20,
     "metadata": {},
     "output_type": "execute_result"
    }
   ],
   "source": [
    "# Let's refit the model\n",
    "from sklearn.ensemble import RandomForestClassifier\n",
    "\n",
    "np.random.seed(42)\n",
    "from sklearn.model_selection import train_test_split\n",
    "X_train, X_test, y_train, y_test = train_test_split(transformed_X,\n",
    "                                                    y,\n",
    "                                                    test_size=0.2)\n",
    "model = RandomForestClassifier(n_estimators=100)\n",
    "model.fit(X_train, y_train)\n",
    "model.score(X_test, y_test)"
   ]
  },
  {
   "cell_type": "code",
   "execution_count": 21,
   "id": "f2eab366",
   "metadata": {},
   "outputs": [],
   "source": [
    "# Make predictions\n",
    "y_preds = model.predict(X_test)"
   ]
  },
  {
   "cell_type": "code",
   "execution_count": 22,
   "id": "9ee6ff4a",
   "metadata": {},
   "outputs": [
    {
     "data": {
      "text/plain": [
       "(array([[1.  , 0.  ],\n",
       "        [0.17, 0.83],\n",
       "        [0.97, 0.03],\n",
       "        [0.06, 0.94],\n",
       "        [0.99, 0.01],\n",
       "        [0.16, 0.84],\n",
       "        [0.09, 0.91],\n",
       "        [0.18, 0.82],\n",
       "        [0.13, 0.87],\n",
       "        [0.98, 0.02]]),\n",
       " 12)"
      ]
     },
     "execution_count": 22,
     "metadata": {},
     "output_type": "execute_result"
    }
   ],
   "source": [
    "# Make predictions with probabilities\n",
    "y_probs = model.predict_proba(X_test)\n",
    "\n",
    "y_probs[:10], len(y_probs)"
   ]
  },
  {
   "cell_type": "code",
   "execution_count": 23,
   "id": "ba675714",
   "metadata": {},
   "outputs": [
    {
     "data": {
      "text/plain": [
       "array([[1.  , 0.  ],\n",
       "       [0.17, 0.83],\n",
       "       [0.97, 0.03],\n",
       "       [0.06, 0.94],\n",
       "       [0.99, 0.01],\n",
       "       [0.16, 0.84],\n",
       "       [0.09, 0.91],\n",
       "       [0.18, 0.82],\n",
       "       [0.13, 0.87],\n",
       "       [0.98, 0.02]])"
      ]
     },
     "execution_count": 23,
     "metadata": {},
     "output_type": "execute_result"
    }
   ],
   "source": [
    "y_probs_positive = y_probs[:10]\n",
    "y_probs_positive[:10]"
   ]
  },
  {
   "cell_type": "code",
   "execution_count": 24,
   "id": "9ab417b1",
   "metadata": {},
   "outputs": [
    {
     "name": "stdout",
     "output_type": "stream",
     "text": [
      "              precision    recall  f1-score   support\n",
      "\n",
      "      Animal       1.00      1.00      1.00         5\n",
      "  Non-animal       1.00      1.00      1.00         7\n",
      "\n",
      "    accuracy                           1.00        12\n",
      "   macro avg       1.00      1.00      1.00        12\n",
      "weighted avg       1.00      1.00      1.00        12\n",
      "\n"
     ]
    }
   ],
   "source": [
    "from sklearn.metrics import classification_report, confusion_matrix, accuracy_score\n",
    "\n",
    "print(classification_report(y_test, y_preds))"
   ]
  },
  {
   "cell_type": "code",
   "execution_count": 25,
   "id": "756b620b",
   "metadata": {},
   "outputs": [
    {
     "name": "stdout",
     "output_type": "stream",
     "text": [
      "training accuaracy: 1.0\n"
     ]
    }
   ],
   "source": [
    "# Evaluating the model\n",
    "print(f'training accuaracy: {model.score(X_train,y_train)}')"
   ]
  },
  {
   "cell_type": "code",
   "execution_count": 26,
   "id": "a11985b2",
   "metadata": {},
   "outputs": [
    {
     "name": "stdout",
     "output_type": "stream",
     "text": [
      "testing accuaracy: 1.0\n"
     ]
    }
   ],
   "source": [
    "# Evaluating the model\n",
    "print(f'testing accuaracy: {model.score(X_train,y_train)}')"
   ]
  },
  {
   "cell_type": "code",
   "execution_count": 27,
   "id": "585934d5",
   "metadata": {},
   "outputs": [
    {
     "name": "stdout",
     "output_type": "stream",
     "text": [
      "Trying model with 10 estimators...\n",
      "Model accuracy on test set: 100.00%\n",
      "\n",
      "Trying model with 20 estimators...\n",
      "Model accuracy on test set: 100.00%\n",
      "\n",
      "Trying model with 30 estimators...\n",
      "Model accuracy on test set: 100.00%\n",
      "\n",
      "Trying model with 40 estimators...\n",
      "Model accuracy on test set: 100.00%\n",
      "\n",
      "Trying model with 50 estimators...\n",
      "Model accuracy on test set: 100.00%\n",
      "\n",
      "Trying model with 60 estimators...\n",
      "Model accuracy on test set: 100.00%\n",
      "\n",
      "Trying model with 70 estimators...\n",
      "Model accuracy on test set: 100.00%\n",
      "\n",
      "Trying model with 80 estimators...\n",
      "Model accuracy on test set: 100.00%\n",
      "\n",
      "Trying model with 90 estimators...\n",
      "Model accuracy on test set: 100.00%\n",
      "\n"
     ]
    }
   ],
   "source": [
    "# Improve a model\n",
    "# Try different amount of n_estimators\n",
    "np.random.seed(42)\n",
    "for i in range(10, 100, 10):\n",
    "    print(f\"Trying model with {i} estimators...\")\n",
    "    model = RandomForestClassifier(n_estimators=i).fit(X_train, y_train)\n",
    "    print(f\"Model accuracy on test set: {model.score(X_test, y_test) * 100:.2f}%\")\n",
    "    print(\"\")"
   ]
  },
  {
   "cell_type": "code",
   "execution_count": null,
   "id": "55db999a",
   "metadata": {},
   "outputs": [],
   "source": []
  }
 ],
 "metadata": {
  "kernelspec": {
   "display_name": "Python 3 (ipykernel)",
   "language": "python",
   "name": "python3"
  },
  "language_info": {
   "codemirror_mode": {
    "name": "ipython",
    "version": 3
   },
   "file_extension": ".py",
   "mimetype": "text/x-python",
   "name": "python",
   "nbconvert_exporter": "python",
   "pygments_lexer": "ipython3",
   "version": "3.9.12"
  }
 },
 "nbformat": 4,
 "nbformat_minor": 5
}
