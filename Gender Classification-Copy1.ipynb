{
 "cells": [
  {
   "cell_type": "code",
   "execution_count": 1,
   "id": "1ae6cfc7",
   "metadata": {},
   "outputs": [],
   "source": [
    "import numpy as np\n",
    "import pandas as pd\n",
    "import matplotlib.pyplot as plt\n",
    "import seaborn as sns\n",
    "import warnings\n",
    "warnings.filterwarnings('ignore')"
   ]
  },
  {
   "cell_type": "code",
   "execution_count": 2,
   "id": "2bd812ca",
   "metadata": {},
   "outputs": [
    {
     "data": {
      "text/html": [
       "<div>\n",
       "<style scoped>\n",
       "    .dataframe tbody tr th:only-of-type {\n",
       "        vertical-align: middle;\n",
       "    }\n",
       "\n",
       "    .dataframe tbody tr th {\n",
       "        vertical-align: top;\n",
       "    }\n",
       "\n",
       "    .dataframe thead th {\n",
       "        text-align: right;\n",
       "    }\n",
       "</style>\n",
       "<table border=\"1\" class=\"dataframe\">\n",
       "  <thead>\n",
       "    <tr style=\"text-align: right;\">\n",
       "      <th></th>\n",
       "      <th>Favorite Color</th>\n",
       "      <th>Favorite Music Genre</th>\n",
       "      <th>Favorite Beverage</th>\n",
       "      <th>Favorite Soft Drink</th>\n",
       "      <th>Gender</th>\n",
       "    </tr>\n",
       "  </thead>\n",
       "  <tbody>\n",
       "    <tr>\n",
       "      <th>0</th>\n",
       "      <td>Cool</td>\n",
       "      <td>Rock</td>\n",
       "      <td>Vodka</td>\n",
       "      <td>7UP/Sprite</td>\n",
       "      <td>F</td>\n",
       "    </tr>\n",
       "    <tr>\n",
       "      <th>1</th>\n",
       "      <td>Neutral</td>\n",
       "      <td>Hip hop</td>\n",
       "      <td>Vodka</td>\n",
       "      <td>Coca Cola/Pepsi</td>\n",
       "      <td>F</td>\n",
       "    </tr>\n",
       "    <tr>\n",
       "      <th>2</th>\n",
       "      <td>Warm</td>\n",
       "      <td>Rock</td>\n",
       "      <td>Wine</td>\n",
       "      <td>Coca Cola/Pepsi</td>\n",
       "      <td>F</td>\n",
       "    </tr>\n",
       "    <tr>\n",
       "      <th>3</th>\n",
       "      <td>Warm</td>\n",
       "      <td>Folk/Traditional</td>\n",
       "      <td>Whiskey</td>\n",
       "      <td>Fanta</td>\n",
       "      <td>F</td>\n",
       "    </tr>\n",
       "    <tr>\n",
       "      <th>4</th>\n",
       "      <td>Cool</td>\n",
       "      <td>Rock</td>\n",
       "      <td>Vodka</td>\n",
       "      <td>Coca Cola/Pepsi</td>\n",
       "      <td>F</td>\n",
       "    </tr>\n",
       "    <tr>\n",
       "      <th>...</th>\n",
       "      <td>...</td>\n",
       "      <td>...</td>\n",
       "      <td>...</td>\n",
       "      <td>...</td>\n",
       "      <td>...</td>\n",
       "    </tr>\n",
       "    <tr>\n",
       "      <th>61</th>\n",
       "      <td>Cool</td>\n",
       "      <td>Rock</td>\n",
       "      <td>Vodka</td>\n",
       "      <td>Coca Cola/Pepsi</td>\n",
       "      <td>M</td>\n",
       "    </tr>\n",
       "    <tr>\n",
       "      <th>62</th>\n",
       "      <td>Cool</td>\n",
       "      <td>Hip hop</td>\n",
       "      <td>Beer</td>\n",
       "      <td>Coca Cola/Pepsi</td>\n",
       "      <td>M</td>\n",
       "    </tr>\n",
       "    <tr>\n",
       "      <th>63</th>\n",
       "      <td>Neutral</td>\n",
       "      <td>Hip hop</td>\n",
       "      <td>Doesn't drink</td>\n",
       "      <td>Fanta</td>\n",
       "      <td>M</td>\n",
       "    </tr>\n",
       "    <tr>\n",
       "      <th>64</th>\n",
       "      <td>Cool</td>\n",
       "      <td>Rock</td>\n",
       "      <td>Wine</td>\n",
       "      <td>Coca Cola/Pepsi</td>\n",
       "      <td>M</td>\n",
       "    </tr>\n",
       "    <tr>\n",
       "      <th>65</th>\n",
       "      <td>Cool</td>\n",
       "      <td>Electronic</td>\n",
       "      <td>Beer</td>\n",
       "      <td>Coca Cola/Pepsi</td>\n",
       "      <td>M</td>\n",
       "    </tr>\n",
       "  </tbody>\n",
       "</table>\n",
       "<p>66 rows × 5 columns</p>\n",
       "</div>"
      ],
      "text/plain": [
       "   Favorite Color Favorite Music Genre Favorite Beverage Favorite Soft Drink  \\\n",
       "0            Cool                 Rock             Vodka          7UP/Sprite   \n",
       "1         Neutral              Hip hop             Vodka     Coca Cola/Pepsi   \n",
       "2            Warm                 Rock              Wine     Coca Cola/Pepsi   \n",
       "3            Warm     Folk/Traditional           Whiskey               Fanta   \n",
       "4            Cool                 Rock             Vodka     Coca Cola/Pepsi   \n",
       "..            ...                  ...               ...                 ...   \n",
       "61           Cool                 Rock             Vodka     Coca Cola/Pepsi   \n",
       "62           Cool              Hip hop              Beer     Coca Cola/Pepsi   \n",
       "63        Neutral              Hip hop     Doesn't drink               Fanta   \n",
       "64           Cool                 Rock              Wine     Coca Cola/Pepsi   \n",
       "65           Cool           Electronic              Beer     Coca Cola/Pepsi   \n",
       "\n",
       "   Gender  \n",
       "0       F  \n",
       "1       F  \n",
       "2       F  \n",
       "3       F  \n",
       "4       F  \n",
       "..    ...  \n",
       "61      M  \n",
       "62      M  \n",
       "63      M  \n",
       "64      M  \n",
       "65      M  \n",
       "\n",
       "[66 rows x 5 columns]"
      ]
     },
     "execution_count": 2,
     "metadata": {},
     "output_type": "execute_result"
    }
   ],
   "source": [
    "df = pd.read_csv('Transformed Data Set - Sheet1.csv')\n",
    "df"
   ]
  },
  {
   "cell_type": "code",
   "execution_count": 3,
   "id": "07e6a996",
   "metadata": {},
   "outputs": [
    {
     "name": "stdout",
     "output_type": "stream",
     "text": [
      "<class 'pandas.core.frame.DataFrame'>\n",
      "RangeIndex: 66 entries, 0 to 65\n",
      "Data columns (total 5 columns):\n",
      " #   Column                Non-Null Count  Dtype \n",
      "---  ------                --------------  ----- \n",
      " 0   Favorite Color        66 non-null     object\n",
      " 1   Favorite Music Genre  66 non-null     object\n",
      " 2   Favorite Beverage     66 non-null     object\n",
      " 3   Favorite Soft Drink   66 non-null     object\n",
      " 4   Gender                66 non-null     object\n",
      "dtypes: object(5)\n",
      "memory usage: 2.7+ KB\n"
     ]
    }
   ],
   "source": [
    "df.info()"
   ]
  },
  {
   "cell_type": "code",
   "execution_count": 4,
   "id": "67c2ba6e",
   "metadata": {},
   "outputs": [
    {
     "data": {
      "text/plain": [
       "<AxesSubplot:xlabel='Gender', ylabel='count'>"
      ]
     },
     "execution_count": 4,
     "metadata": {},
     "output_type": "execute_result"
    },
    {
     "data": {
      "image/png": "[encoded data removed]",
      "text/plain": [
       "<Figure size 432x288 with 1 Axes>"
      ]
     },
     "metadata": {
      "needs_background": "light"
     },
     "output_type": "display_data"
    }
   ],
   "source": [
    "sns.countplot(x='Gender',data=df)"
   ]
  },
  {
   "cell_type": "code",
   "execution_count": 5,
   "id": "d6f6d304",
   "metadata": {},
   "outputs": [
    {
     "data": {
      "text/plain": [
       "array(['Cool', 'Neutral', 'Warm'], dtype=object)"
      ]
     },
     "execution_count": 5,
     "metadata": {},
     "output_type": "execute_result"
    }
   ],
   "source": [
    "df['Favorite Color'].unique()#all Favorite Colors"
   ]
  },
  {
   "cell_type": "code",
   "execution_count": 6,
   "id": "480d6ec5",
   "metadata": {},
   "outputs": [
    {
     "data": {
      "text/plain": [
       "<AxesSubplot:>"
      ]
     },
     "execution_count": 6,
     "metadata": {},
     "output_type": "execute_result"
    },
    {
     "data": {
      "image/png": "[encoded data removed]",
      "text/plain": [
       "<Figure size 1080x360 with 1 Axes>"
      ]
     },
     "metadata": {
      "needs_background": "light"
     },
     "output_type": "display_data"
    }
   ],
   "source": [
    "plt.figure(figsize=(15,5))\n",
    "df['Favorite Color'].value_counts().plot.bar(edgecolor='red',alpha=0.5)"
   ]
  },
  {
   "cell_type": "code",
   "execution_count": 7,
   "id": "ca6304f4",
   "metadata": {},
   "outputs": [
    {
     "data": {
      "text/plain": [
       "<AxesSubplot:xlabel='Gender', ylabel='count'>"
      ]
     },
     "execution_count": 7,
     "metadata": {},
     "output_type": "execute_result"
    },
    {
     "data": {
      "image/png": "[encoded data removed]",
      "text/plain": [
       "<Figure size 1080x360 with 1 Axes>"
      ]
     },
     "metadata": {
      "needs_background": "light"
     },
     "output_type": "display_data"
    }
   ],
   "source": [
    "plt.figure(figsize=(15,5))\n",
    "sns.countplot(x='Gender',data=df,hue='Favorite Color')"
   ]
  },
  {
   "cell_type": "code",
   "execution_count": 8,
   "id": "bd5e021e",
   "metadata": {},
   "outputs": [
    {
     "data": {
      "text/plain": [
       "Doesn't drink    14\n",
       "Beer             13\n",
       "Other            11\n",
       "Wine             10\n",
       "Vodka             9\n",
       "Whiskey           9\n",
       "Name: Favorite Beverage, dtype: int64"
      ]
     },
     "execution_count": 8,
     "metadata": {},
     "output_type": "execute_result"
    }
   ],
   "source": [
    "df['Favorite Beverage'].value_counts()"
   ]
  },
  {
   "cell_type": "code",
   "execution_count": 9,
   "id": "02579376",
   "metadata": {},
   "outputs": [
    {
     "data": {
      "text/plain": [
       "<AxesSubplot:ylabel='Favorite Beverage'>"
      ]
     },
     "execution_count": 9,
     "metadata": {},
     "output_type": "execute_result"
    },
    {
     "data": {
      "image/png": "[encoded data removed]",
      "text/plain": [
       "<Figure size 432x288 with 1 Axes>"
      ]
     },
     "metadata": {},
     "output_type": "display_data"
    }
   ],
   "source": [
    "df['Favorite Beverage'].value_counts().plot.pie(autopct='%1.1f%%',explode=[0.04,0.04,0.04,0.04,0.04,0.04],shadow=True,startangle = 95)"
   ]
  },
  {
   "cell_type": "code",
   "execution_count": 10,
   "id": "dda71db7",
   "metadata": {},
   "outputs": [],
   "source": [
    "#Checking for missing values"
   ]
  },
  {
   "cell_type": "code",
   "execution_count": 11,
   "id": "2495a556",
   "metadata": {},
   "outputs": [
    {
     "data": {
      "text/plain": [
       "Favorite Color          0\n",
       "Favorite Music Genre    0\n",
       "Favorite Beverage       0\n",
       "Favorite Soft Drink     0\n",
       "Gender                  0\n",
       "dtype: int64"
      ]
     },
     "execution_count": 11,
     "metadata": {},
     "output_type": "execute_result"
    }
   ],
   "source": [
    "df.isnull().sum()"
   ]
  },
  {
   "cell_type": "code",
   "execution_count": 12,
   "id": "617ce96c",
   "metadata": {},
   "outputs": [],
   "source": [
    "from sklearn.neighbors import KNeighborsClassifier"
   ]
  },
  {
   "cell_type": "code",
   "execution_count": 13,
   "id": "11150a50",
   "metadata": {},
   "outputs": [],
   "source": [
    "X = df.drop('Gender', axis=1).values\n",
    "y = df['Gender'].values"
   ]
  },
  {
   "cell_type": "code",
   "execution_count": 14,
   "id": "3e66d9dd",
   "metadata": {},
   "outputs": [
    {
     "data": {
      "text/plain": [
       "((66, 4), (66,))"
      ]
     },
     "execution_count": 14,
     "metadata": {},
     "output_type": "execute_result"
    }
   ],
   "source": [
    "X.shape, y.shape"
   ]
  },
  {
   "cell_type": "code",
   "execution_count": 15,
   "id": "5e480d8f",
   "metadata": {},
   "outputs": [],
   "source": [
    "knn = KNeighborsClassifier(n_neighbors=3)"
   ]
  },
  {
   "cell_type": "code",
   "execution_count": 16,
   "id": "82d0d478",
   "metadata": {},
   "outputs": [
    {
     "data": {
      "text/plain": [
       "Index(['Favorite Color', 'Favorite Music Genre', 'Favorite Beverage',\n",
       "       'Favorite Soft Drink', 'Gender'],\n",
       "      dtype='object')"
      ]
     },
     "execution_count": 16,
     "metadata": {},
     "output_type": "execute_result"
    }
   ],
   "source": [
    "df.columns"
   ]
  },
  {
   "cell_type": "code",
   "execution_count": 17,
   "id": "bd2a0a98",
   "metadata": {},
   "outputs": [
    {
     "data": {
      "text/html": [
       "<div>\n",
       "<style scoped>\n",
       "    .dataframe tbody tr th:only-of-type {\n",
       "        vertical-align: middle;\n",
       "    }\n",
       "\n",
       "    .dataframe tbody tr th {\n",
       "        vertical-align: top;\n",
       "    }\n",
       "\n",
       "    .dataframe thead th {\n",
       "        text-align: right;\n",
       "    }\n",
       "</style>\n",
       "<table border=\"1\" class=\"dataframe\">\n",
       "  <thead>\n",
       "    <tr style=\"text-align: right;\">\n",
       "      <th></th>\n",
       "      <th>Favorite Color_Cool</th>\n",
       "      <th>Favorite Color_Neutral</th>\n",
       "      <th>Favorite Color_Warm</th>\n",
       "      <th>Favorite Music Genre_Electronic</th>\n",
       "      <th>Favorite Music Genre_Folk/Traditional</th>\n",
       "      <th>Favorite Music Genre_Hip hop</th>\n",
       "      <th>Favorite Music Genre_Jazz/Blues</th>\n",
       "      <th>Favorite Music Genre_Pop</th>\n",
       "      <th>Favorite Music Genre_R&amp;B and soul</th>\n",
       "      <th>Favorite Music Genre_Rock</th>\n",
       "      <th>Favorite Beverage_Beer</th>\n",
       "      <th>Favorite Beverage_Doesn't drink</th>\n",
       "      <th>Favorite Beverage_Other</th>\n",
       "      <th>Favorite Beverage_Vodka</th>\n",
       "      <th>Favorite Beverage_Whiskey</th>\n",
       "      <th>Favorite Beverage_Wine</th>\n",
       "      <th>Favorite Soft Drink_7UP/Sprite</th>\n",
       "      <th>Favorite Soft Drink_Coca Cola/Pepsi</th>\n",
       "      <th>Favorite Soft Drink_Fanta</th>\n",
       "      <th>Favorite Soft Drink_Other</th>\n",
       "    </tr>\n",
       "  </thead>\n",
       "  <tbody>\n",
       "    <tr>\n",
       "      <th>0</th>\n",
       "      <td>1</td>\n",
       "      <td>0</td>\n",
       "      <td>0</td>\n",
       "      <td>0</td>\n",
       "      <td>0</td>\n",
       "      <td>0</td>\n",
       "      <td>0</td>\n",
       "      <td>0</td>\n",
       "      <td>0</td>\n",
       "      <td>1</td>\n",
       "      <td>0</td>\n",
       "      <td>0</td>\n",
       "      <td>0</td>\n",
       "      <td>1</td>\n",
       "      <td>0</td>\n",
       "      <td>0</td>\n",
       "      <td>1</td>\n",
       "      <td>0</td>\n",
       "      <td>0</td>\n",
       "      <td>0</td>\n",
       "    </tr>\n",
       "    <tr>\n",
       "      <th>1</th>\n",
       "      <td>0</td>\n",
       "      <td>1</td>\n",
       "      <td>0</td>\n",
       "      <td>0</td>\n",
       "      <td>0</td>\n",
       "      <td>1</td>\n",
       "      <td>0</td>\n",
       "      <td>0</td>\n",
       "      <td>0</td>\n",
       "      <td>0</td>\n",
       "      <td>0</td>\n",
       "      <td>0</td>\n",
       "      <td>0</td>\n",
       "      <td>1</td>\n",
       "      <td>0</td>\n",
       "      <td>0</td>\n",
       "      <td>0</td>\n",
       "      <td>1</td>\n",
       "      <td>0</td>\n",
       "      <td>0</td>\n",
       "    </tr>\n",
       "    <tr>\n",
       "      <th>2</th>\n",
       "      <td>0</td>\n",
       "      <td>0</td>\n",
       "      <td>1</td>\n",
       "      <td>0</td>\n",
       "      <td>0</td>\n",
       "      <td>0</td>\n",
       "      <td>0</td>\n",
       "      <td>0</td>\n",
       "      <td>0</td>\n",
       "      <td>1</td>\n",
       "      <td>0</td>\n",
       "      <td>0</td>\n",
       "      <td>0</td>\n",
       "      <td>0</td>\n",
       "      <td>0</td>\n",
       "      <td>1</td>\n",
       "      <td>0</td>\n",
       "      <td>1</td>\n",
       "      <td>0</td>\n",
       "      <td>0</td>\n",
       "    </tr>\n",
       "    <tr>\n",
       "      <th>3</th>\n",
       "      <td>0</td>\n",
       "      <td>0</td>\n",
       "      <td>1</td>\n",
       "      <td>0</td>\n",
       "      <td>1</td>\n",
       "      <td>0</td>\n",
       "      <td>0</td>\n",
       "      <td>0</td>\n",
       "      <td>0</td>\n",
       "      <td>0</td>\n",
       "      <td>0</td>\n",
       "      <td>0</td>\n",
       "      <td>0</td>\n",
       "      <td>0</td>\n",
       "      <td>1</td>\n",
       "      <td>0</td>\n",
       "      <td>0</td>\n",
       "      <td>0</td>\n",
       "      <td>1</td>\n",
       "      <td>0</td>\n",
       "    </tr>\n",
       "    <tr>\n",
       "      <th>4</th>\n",
       "      <td>1</td>\n",
       "      <td>0</td>\n",
       "      <td>0</td>\n",
       "      <td>0</td>\n",
       "      <td>0</td>\n",
       "      <td>0</td>\n",
       "      <td>0</td>\n",
       "      <td>0</td>\n",
       "      <td>0</td>\n",
       "      <td>1</td>\n",
       "      <td>0</td>\n",
       "      <td>0</td>\n",
       "      <td>0</td>\n",
       "      <td>1</td>\n",
       "      <td>0</td>\n",
       "      <td>0</td>\n",
       "      <td>0</td>\n",
       "      <td>1</td>\n",
       "      <td>0</td>\n",
       "      <td>0</td>\n",
       "    </tr>\n",
       "    <tr>\n",
       "      <th>...</th>\n",
       "      <td>...</td>\n",
       "      <td>...</td>\n",
       "      <td>...</td>\n",
       "      <td>...</td>\n",
       "      <td>...</td>\n",
       "      <td>...</td>\n",
       "      <td>...</td>\n",
       "      <td>...</td>\n",
       "      <td>...</td>\n",
       "      <td>...</td>\n",
       "      <td>...</td>\n",
       "      <td>...</td>\n",
       "      <td>...</td>\n",
       "      <td>...</td>\n",
       "      <td>...</td>\n",
       "      <td>...</td>\n",
       "      <td>...</td>\n",
       "      <td>...</td>\n",
       "      <td>...</td>\n",
       "      <td>...</td>\n",
       "    </tr>\n",
       "    <tr>\n",
       "      <th>61</th>\n",
       "      <td>1</td>\n",
       "      <td>0</td>\n",
       "      <td>0</td>\n",
       "      <td>0</td>\n",
       "      <td>0</td>\n",
       "      <td>0</td>\n",
       "      <td>0</td>\n",
       "      <td>0</td>\n",
       "      <td>0</td>\n",
       "      <td>1</td>\n",
       "      <td>0</td>\n",
       "      <td>0</td>\n",
       "      <td>0</td>\n",
       "      <td>1</td>\n",
       "      <td>0</td>\n",
       "      <td>0</td>\n",
       "      <td>0</td>\n",
       "      <td>1</td>\n",
       "      <td>0</td>\n",
       "      <td>0</td>\n",
       "    </tr>\n",
       "    <tr>\n",
       "      <th>62</th>\n",
       "      <td>1</td>\n",
       "      <td>0</td>\n",
       "      <td>0</td>\n",
       "      <td>0</td>\n",
       "      <td>0</td>\n",
       "      <td>1</td>\n",
       "      <td>0</td>\n",
       "      <td>0</td>\n",
       "      <td>0</td>\n",
       "      <td>0</td>\n",
       "      <td>1</td>\n",
       "      <td>0</td>\n",
       "      <td>0</td>\n",
       "      <td>0</td>\n",
       "      <td>0</td>\n",
       "      <td>0</td>\n",
       "      <td>0</td>\n",
       "      <td>1</td>\n",
       "      <td>0</td>\n",
       "      <td>0</td>\n",
       "    </tr>\n",
       "    <tr>\n",
       "      <th>63</th>\n",
       "      <td>0</td>\n",
       "      <td>1</td>\n",
       "      <td>0</td>\n",
       "      <td>0</td>\n",
       "      <td>0</td>\n",
       "      <td>1</td>\n",
       "      <td>0</td>\n",
       "      <td>0</td>\n",
       "      <td>0</td>\n",
       "      <td>0</td>\n",
       "      <td>0</td>\n",
       "      <td>1</td>\n",
       "      <td>0</td>\n",
       "      <td>0</td>\n",
       "      <td>0</td>\n",
       "      <td>0</td>\n",
       "      <td>0</td>\n",
       "      <td>0</td>\n",
       "      <td>1</td>\n",
       "      <td>0</td>\n",
       "    </tr>\n",
       "    <tr>\n",
       "      <th>64</th>\n",
       "      <td>1</td>\n",
       "      <td>0</td>\n",
       "      <td>0</td>\n",
       "      <td>0</td>\n",
       "      <td>0</td>\n",
       "      <td>0</td>\n",
       "      <td>0</td>\n",
       "      <td>0</td>\n",
       "      <td>0</td>\n",
       "      <td>1</td>\n",
       "      <td>0</td>\n",
       "      <td>0</td>\n",
       "      <td>0</td>\n",
       "      <td>0</td>\n",
       "      <td>0</td>\n",
       "      <td>1</td>\n",
       "      <td>0</td>\n",
       "      <td>1</td>\n",
       "      <td>0</td>\n",
       "      <td>0</td>\n",
       "    </tr>\n",
       "    <tr>\n",
       "      <th>65</th>\n",
       "      <td>1</td>\n",
       "      <td>0</td>\n",
       "      <td>0</td>\n",
       "      <td>1</td>\n",
       "      <td>0</td>\n",
       "      <td>0</td>\n",
       "      <td>0</td>\n",
       "      <td>0</td>\n",
       "      <td>0</td>\n",
       "      <td>0</td>\n",
       "      <td>1</td>\n",
       "      <td>0</td>\n",
       "      <td>0</td>\n",
       "      <td>0</td>\n",
       "      <td>0</td>\n",
       "      <td>0</td>\n",
       "      <td>0</td>\n",
       "      <td>1</td>\n",
       "      <td>0</td>\n",
       "      <td>0</td>\n",
       "    </tr>\n",
       "  </tbody>\n",
       "</table>\n",
       "<p>66 rows × 20 columns</p>\n",
       "</div>"
      ],
      "text/plain": [
       "    Favorite Color_Cool  Favorite Color_Neutral  Favorite Color_Warm  \\\n",
       "0                     1                       0                    0   \n",
       "1                     0                       1                    0   \n",
       "2                     0                       0                    1   \n",
       "3                     0                       0                    1   \n",
       "4                     1                       0                    0   \n",
       "..                  ...                     ...                  ...   \n",
       "61                    1                       0                    0   \n",
       "62                    1                       0                    0   \n",
       "63                    0                       1                    0   \n",
       "64                    1                       0                    0   \n",
       "65                    1                       0                    0   \n",
       "\n",
       "    Favorite Music Genre_Electronic  Favorite Music Genre_Folk/Traditional  \\\n",
       "0                                 0                                      0   \n",
       "1                                 0                                      0   \n",
       "2                                 0                                      0   \n",
       "3                                 0                                      1   \n",
       "4                                 0                                      0   \n",
       "..                              ...                                    ...   \n",
       "61                                0                                      0   \n",
       "62                                0                                      0   \n",
       "63                                0                                      0   \n",
       "64                                0                                      0   \n",
       "65                                1                                      0   \n",
       "\n",
       "    Favorite Music Genre_Hip hop  Favorite Music Genre_Jazz/Blues  \\\n",
       "0                              0                                0   \n",
       "1                              1                                0   \n",
       "2                              0                                0   \n",
       "3                              0                                0   \n",
       "4                              0                                0   \n",
       "..                           ...                              ...   \n",
       "61                             0                                0   \n",
       "62                             1                                0   \n",
       "63                             1                                0   \n",
       "64                             0                                0   \n",
       "65                             0                                0   \n",
       "\n",
       "    Favorite Music Genre_Pop  Favorite Music Genre_R&B and soul  \\\n",
       "0                          0                                  0   \n",
       "1                          0                                  0   \n",
       "2                          0                                  0   \n",
       "3                          0                                  0   \n",
       "4                          0                                  0   \n",
       "..                       ...                                ...   \n",
       "61                         0                                  0   \n",
       "62                         0                                  0   \n",
       "63                         0                                  0   \n",
       "64                         0                                  0   \n",
       "65                         0                                  0   \n",
       "\n",
       "    Favorite Music Genre_Rock  Favorite Beverage_Beer  \\\n",
       "0                           1                       0   \n",
       "1                           0                       0   \n",
       "2                           1                       0   \n",
       "3                           0                       0   \n",
       "4                           1                       0   \n",
       "..                        ...                     ...   \n",
       "61                          1                       0   \n",
       "62                          0                       1   \n",
       "63                          0                       0   \n",
       "64                          1                       0   \n",
       "65                          0                       1   \n",
       "\n",
       "    Favorite Beverage_Doesn't drink  Favorite Beverage_Other  \\\n",
       "0                                 0                        0   \n",
       "1                                 0                        0   \n",
       "2                                 0                        0   \n",
       "3                                 0                        0   \n",
       "4                                 0                        0   \n",
       "..                              ...                      ...   \n",
       "61                                0                        0   \n",
       "62                                0                        0   \n",
       "63                                1                        0   \n",
       "64                                0                        0   \n",
       "65                                0                        0   \n",
       "\n",
       "    Favorite Beverage_Vodka  Favorite Beverage_Whiskey  \\\n",
       "0                         1                          0   \n",
       "1                         1                          0   \n",
       "2                         0                          0   \n",
       "3                         0                          1   \n",
       "4                         1                          0   \n",
       "..                      ...                        ...   \n",
       "61                        1                          0   \n",
       "62                        0                          0   \n",
       "63                        0                          0   \n",
       "64                        0                          0   \n",
       "65                        0                          0   \n",
       "\n",
       "    Favorite Beverage_Wine  Favorite Soft Drink_7UP/Sprite  \\\n",
       "0                        0                               1   \n",
       "1                        0                               0   \n",
       "2                        1                               0   \n",
       "3                        0                               0   \n",
       "4                        0                               0   \n",
       "..                     ...                             ...   \n",
       "61                       0                               0   \n",
       "62                       0                               0   \n",
       "63                       0                               0   \n",
       "64                       1                               0   \n",
       "65                       0                               0   \n",
       "\n",
       "    Favorite Soft Drink_Coca Cola/Pepsi  Favorite Soft Drink_Fanta  \\\n",
       "0                                     0                          0   \n",
       "1                                     1                          0   \n",
       "2                                     1                          0   \n",
       "3                                     0                          1   \n",
       "4                                     1                          0   \n",
       "..                                  ...                        ...   \n",
       "61                                    1                          0   \n",
       "62                                    1                          0   \n",
       "63                                    0                          1   \n",
       "64                                    1                          0   \n",
       "65                                    1                          0   \n",
       "\n",
       "    Favorite Soft Drink_Other  \n",
       "0                           0  \n",
       "1                           0  \n",
       "2                           0  \n",
       "3                           0  \n",
       "4                           0  \n",
       "..                        ...  \n",
       "61                          0  \n",
       "62                          0  \n",
       "63                          0  \n",
       "64                          0  \n",
       "65                          0  \n",
       "\n",
       "[66 rows x 20 columns]"
      ]
     },
     "execution_count": 17,
     "metadata": {},
     "output_type": "execute_result"
    }
   ],
   "source": [
    "dummies = pd.get_dummies(df[['Favorite Color', 'Favorite Music Genre', 'Favorite Beverage','Favorite Soft Drink']])\n",
    "dummies"
   ]
  },
  {
   "cell_type": "code",
   "execution_count": 18,
   "id": "10b578c3",
   "metadata": {},
   "outputs": [
    {
     "data": {
      "text/html": [
       "<div>\n",
       "<style scoped>\n",
       "    .dataframe tbody tr th:only-of-type {\n",
       "        vertical-align: middle;\n",
       "    }\n",
       "\n",
       "    .dataframe tbody tr th {\n",
       "        vertical-align: top;\n",
       "    }\n",
       "\n",
       "    .dataframe thead th {\n",
       "        text-align: right;\n",
       "    }\n",
       "</style>\n",
       "<table border=\"1\" class=\"dataframe\">\n",
       "  <thead>\n",
       "    <tr style=\"text-align: right;\">\n",
       "      <th></th>\n",
       "      <th>Favorite Color_Cool</th>\n",
       "      <th>Favorite Color_Neutral</th>\n",
       "      <th>Favorite Color_Warm</th>\n",
       "      <th>Favorite Music Genre_Electronic</th>\n",
       "      <th>Favorite Music Genre_Folk/Traditional</th>\n",
       "      <th>Favorite Music Genre_Hip hop</th>\n",
       "      <th>Favorite Music Genre_Jazz/Blues</th>\n",
       "      <th>Favorite Music Genre_Pop</th>\n",
       "      <th>Favorite Music Genre_R&amp;B and soul</th>\n",
       "      <th>Favorite Music Genre_Rock</th>\n",
       "      <th>Favorite Beverage_Beer</th>\n",
       "      <th>Favorite Beverage_Doesn't drink</th>\n",
       "      <th>Favorite Beverage_Other</th>\n",
       "      <th>Favorite Beverage_Vodka</th>\n",
       "      <th>Favorite Beverage_Whiskey</th>\n",
       "      <th>Favorite Beverage_Wine</th>\n",
       "      <th>Favorite Soft Drink_7UP/Sprite</th>\n",
       "      <th>Favorite Soft Drink_Coca Cola/Pepsi</th>\n",
       "      <th>Favorite Soft Drink_Fanta</th>\n",
       "      <th>Favorite Soft Drink_Other</th>\n",
       "    </tr>\n",
       "  </thead>\n",
       "  <tbody>\n",
       "    <tr>\n",
       "      <th>0</th>\n",
       "      <td>1</td>\n",
       "      <td>0</td>\n",
       "      <td>0</td>\n",
       "      <td>0</td>\n",
       "      <td>0</td>\n",
       "      <td>0</td>\n",
       "      <td>0</td>\n",
       "      <td>0</td>\n",
       "      <td>0</td>\n",
       "      <td>1</td>\n",
       "      <td>0</td>\n",
       "      <td>0</td>\n",
       "      <td>0</td>\n",
       "      <td>1</td>\n",
       "      <td>0</td>\n",
       "      <td>0</td>\n",
       "      <td>1</td>\n",
       "      <td>0</td>\n",
       "      <td>0</td>\n",
       "      <td>0</td>\n",
       "    </tr>\n",
       "    <tr>\n",
       "      <th>1</th>\n",
       "      <td>0</td>\n",
       "      <td>1</td>\n",
       "      <td>0</td>\n",
       "      <td>0</td>\n",
       "      <td>0</td>\n",
       "      <td>1</td>\n",
       "      <td>0</td>\n",
       "      <td>0</td>\n",
       "      <td>0</td>\n",
       "      <td>0</td>\n",
       "      <td>0</td>\n",
       "      <td>0</td>\n",
       "      <td>0</td>\n",
       "      <td>1</td>\n",
       "      <td>0</td>\n",
       "      <td>0</td>\n",
       "      <td>0</td>\n",
       "      <td>1</td>\n",
       "      <td>0</td>\n",
       "      <td>0</td>\n",
       "    </tr>\n",
       "    <tr>\n",
       "      <th>2</th>\n",
       "      <td>0</td>\n",
       "      <td>0</td>\n",
       "      <td>1</td>\n",
       "      <td>0</td>\n",
       "      <td>0</td>\n",
       "      <td>0</td>\n",
       "      <td>0</td>\n",
       "      <td>0</td>\n",
       "      <td>0</td>\n",
       "      <td>1</td>\n",
       "      <td>0</td>\n",
       "      <td>0</td>\n",
       "      <td>0</td>\n",
       "      <td>0</td>\n",
       "      <td>0</td>\n",
       "      <td>1</td>\n",
       "      <td>0</td>\n",
       "      <td>1</td>\n",
       "      <td>0</td>\n",
       "      <td>0</td>\n",
       "    </tr>\n",
       "    <tr>\n",
       "      <th>3</th>\n",
       "      <td>0</td>\n",
       "      <td>0</td>\n",
       "      <td>1</td>\n",
       "      <td>0</td>\n",
       "      <td>1</td>\n",
       "      <td>0</td>\n",
       "      <td>0</td>\n",
       "      <td>0</td>\n",
       "      <td>0</td>\n",
       "      <td>0</td>\n",
       "      <td>0</td>\n",
       "      <td>0</td>\n",
       "      <td>0</td>\n",
       "      <td>0</td>\n",
       "      <td>1</td>\n",
       "      <td>0</td>\n",
       "      <td>0</td>\n",
       "      <td>0</td>\n",
       "      <td>1</td>\n",
       "      <td>0</td>\n",
       "    </tr>\n",
       "    <tr>\n",
       "      <th>4</th>\n",
       "      <td>1</td>\n",
       "      <td>0</td>\n",
       "      <td>0</td>\n",
       "      <td>0</td>\n",
       "      <td>0</td>\n",
       "      <td>0</td>\n",
       "      <td>0</td>\n",
       "      <td>0</td>\n",
       "      <td>0</td>\n",
       "      <td>1</td>\n",
       "      <td>0</td>\n",
       "      <td>0</td>\n",
       "      <td>0</td>\n",
       "      <td>1</td>\n",
       "      <td>0</td>\n",
       "      <td>0</td>\n",
       "      <td>0</td>\n",
       "      <td>1</td>\n",
       "      <td>0</td>\n",
       "      <td>0</td>\n",
       "    </tr>\n",
       "    <tr>\n",
       "      <th>...</th>\n",
       "      <td>...</td>\n",
       "      <td>...</td>\n",
       "      <td>...</td>\n",
       "      <td>...</td>\n",
       "      <td>...</td>\n",
       "      <td>...</td>\n",
       "      <td>...</td>\n",
       "      <td>...</td>\n",
       "      <td>...</td>\n",
       "      <td>...</td>\n",
       "      <td>...</td>\n",
       "      <td>...</td>\n",
       "      <td>...</td>\n",
       "      <td>...</td>\n",
       "      <td>...</td>\n",
       "      <td>...</td>\n",
       "      <td>...</td>\n",
       "      <td>...</td>\n",
       "      <td>...</td>\n",
       "      <td>...</td>\n",
       "    </tr>\n",
       "    <tr>\n",
       "      <th>61</th>\n",
       "      <td>1</td>\n",
       "      <td>0</td>\n",
       "      <td>0</td>\n",
       "      <td>0</td>\n",
       "      <td>0</td>\n",
       "      <td>0</td>\n",
       "      <td>0</td>\n",
       "      <td>0</td>\n",
       "      <td>0</td>\n",
       "      <td>1</td>\n",
       "      <td>0</td>\n",
       "      <td>0</td>\n",
       "      <td>0</td>\n",
       "      <td>1</td>\n",
       "      <td>0</td>\n",
       "      <td>0</td>\n",
       "      <td>0</td>\n",
       "      <td>1</td>\n",
       "      <td>0</td>\n",
       "      <td>0</td>\n",
       "    </tr>\n",
       "    <tr>\n",
       "      <th>62</th>\n",
       "      <td>1</td>\n",
       "      <td>0</td>\n",
       "      <td>0</td>\n",
       "      <td>0</td>\n",
       "      <td>0</td>\n",
       "      <td>1</td>\n",
       "      <td>0</td>\n",
       "      <td>0</td>\n",
       "      <td>0</td>\n",
       "      <td>0</td>\n",
       "      <td>1</td>\n",
       "      <td>0</td>\n",
       "      <td>0</td>\n",
       "      <td>0</td>\n",
       "      <td>0</td>\n",
       "      <td>0</td>\n",
       "      <td>0</td>\n",
       "      <td>1</td>\n",
       "      <td>0</td>\n",
       "      <td>0</td>\n",
       "    </tr>\n",
       "    <tr>\n",
       "      <th>63</th>\n",
       "      <td>0</td>\n",
       "      <td>1</td>\n",
       "      <td>0</td>\n",
       "      <td>0</td>\n",
       "      <td>0</td>\n",
       "      <td>1</td>\n",
       "      <td>0</td>\n",
       "      <td>0</td>\n",
       "      <td>0</td>\n",
       "      <td>0</td>\n",
       "      <td>0</td>\n",
       "      <td>1</td>\n",
       "      <td>0</td>\n",
       "      <td>0</td>\n",
       "      <td>0</td>\n",
       "      <td>0</td>\n",
       "      <td>0</td>\n",
       "      <td>0</td>\n",
       "      <td>1</td>\n",
       "      <td>0</td>\n",
       "    </tr>\n",
       "    <tr>\n",
       "      <th>64</th>\n",
       "      <td>1</td>\n",
       "      <td>0</td>\n",
       "      <td>0</td>\n",
       "      <td>0</td>\n",
       "      <td>0</td>\n",
       "      <td>0</td>\n",
       "      <td>0</td>\n",
       "      <td>0</td>\n",
       "      <td>0</td>\n",
       "      <td>1</td>\n",
       "      <td>0</td>\n",
       "      <td>0</td>\n",
       "      <td>0</td>\n",
       "      <td>0</td>\n",
       "      <td>0</td>\n",
       "      <td>1</td>\n",
       "      <td>0</td>\n",
       "      <td>1</td>\n",
       "      <td>0</td>\n",
       "      <td>0</td>\n",
       "    </tr>\n",
       "    <tr>\n",
       "      <th>65</th>\n",
       "      <td>1</td>\n",
       "      <td>0</td>\n",
       "      <td>0</td>\n",
       "      <td>1</td>\n",
       "      <td>0</td>\n",
       "      <td>0</td>\n",
       "      <td>0</td>\n",
       "      <td>0</td>\n",
       "      <td>0</td>\n",
       "      <td>0</td>\n",
       "      <td>1</td>\n",
       "      <td>0</td>\n",
       "      <td>0</td>\n",
       "      <td>0</td>\n",
       "      <td>0</td>\n",
       "      <td>0</td>\n",
       "      <td>0</td>\n",
       "      <td>1</td>\n",
       "      <td>0</td>\n",
       "      <td>0</td>\n",
       "    </tr>\n",
       "  </tbody>\n",
       "</table>\n",
       "<p>66 rows × 20 columns</p>\n",
       "</div>"
      ],
      "text/plain": [
       "    Favorite Color_Cool  Favorite Color_Neutral  Favorite Color_Warm  \\\n",
       "0                     1                       0                    0   \n",
       "1                     0                       1                    0   \n",
       "2                     0                       0                    1   \n",
       "3                     0                       0                    1   \n",
       "4                     1                       0                    0   \n",
       "..                  ...                     ...                  ...   \n",
       "61                    1                       0                    0   \n",
       "62                    1                       0                    0   \n",
       "63                    0                       1                    0   \n",
       "64                    1                       0                    0   \n",
       "65                    1                       0                    0   \n",
       "\n",
       "    Favorite Music Genre_Electronic  Favorite Music Genre_Folk/Traditional  \\\n",
       "0                                 0                                      0   \n",
       "1                                 0                                      0   \n",
       "2                                 0                                      0   \n",
       "3                                 0                                      1   \n",
       "4                                 0                                      0   \n",
       "..                              ...                                    ...   \n",
       "61                                0                                      0   \n",
       "62                                0                                      0   \n",
       "63                                0                                      0   \n",
       "64                                0                                      0   \n",
       "65                                1                                      0   \n",
       "\n",
       "    Favorite Music Genre_Hip hop  Favorite Music Genre_Jazz/Blues  \\\n",
       "0                              0                                0   \n",
       "1                              1                                0   \n",
       "2                              0                                0   \n",
       "3                              0                                0   \n",
       "4                              0                                0   \n",
       "..                           ...                              ...   \n",
       "61                             0                                0   \n",
       "62                             1                                0   \n",
       "63                             1                                0   \n",
       "64                             0                                0   \n",
       "65                             0                                0   \n",
       "\n",
       "    Favorite Music Genre_Pop  Favorite Music Genre_R&B and soul  \\\n",
       "0                          0                                  0   \n",
       "1                          0                                  0   \n",
       "2                          0                                  0   \n",
       "3                          0                                  0   \n",
       "4                          0                                  0   \n",
       "..                       ...                                ...   \n",
       "61                         0                                  0   \n",
       "62                         0                                  0   \n",
       "63                         0                                  0   \n",
       "64                         0                                  0   \n",
       "65                         0                                  0   \n",
       "\n",
       "    Favorite Music Genre_Rock  Favorite Beverage_Beer  \\\n",
       "0                           1                       0   \n",
       "1                           0                       0   \n",
       "2                           1                       0   \n",
       "3                           0                       0   \n",
       "4                           1                       0   \n",
       "..                        ...                     ...   \n",
       "61                          1                       0   \n",
       "62                          0                       1   \n",
       "63                          0                       0   \n",
       "64                          1                       0   \n",
       "65                          0                       1   \n",
       "\n",
       "    Favorite Beverage_Doesn't drink  Favorite Beverage_Other  \\\n",
       "0                                 0                        0   \n",
       "1                                 0                        0   \n",
       "2                                 0                        0   \n",
       "3                                 0                        0   \n",
       "4                                 0                        0   \n",
       "..                              ...                      ...   \n",
       "61                                0                        0   \n",
       "62                                0                        0   \n",
       "63                                1                        0   \n",
       "64                                0                        0   \n",
       "65                                0                        0   \n",
       "\n",
       "    Favorite Beverage_Vodka  Favorite Beverage_Whiskey  \\\n",
       "0                         1                          0   \n",
       "1                         1                          0   \n",
       "2                         0                          0   \n",
       "3                         0                          1   \n",
       "4                         1                          0   \n",
       "..                      ...                        ...   \n",
       "61                        1                          0   \n",
       "62                        0                          0   \n",
       "63                        0                          0   \n",
       "64                        0                          0   \n",
       "65                        0                          0   \n",
       "\n",
       "    Favorite Beverage_Wine  Favorite Soft Drink_7UP/Sprite  \\\n",
       "0                        0                               1   \n",
       "1                        0                               0   \n",
       "2                        1                               0   \n",
       "3                        0                               0   \n",
       "4                        0                               0   \n",
       "..                     ...                             ...   \n",
       "61                       0                               0   \n",
       "62                       0                               0   \n",
       "63                       0                               0   \n",
       "64                       1                               0   \n",
       "65                       0                               0   \n",
       "\n",
       "    Favorite Soft Drink_Coca Cola/Pepsi  Favorite Soft Drink_Fanta  \\\n",
       "0                                     0                          0   \n",
       "1                                     1                          0   \n",
       "2                                     1                          0   \n",
       "3                                     0                          1   \n",
       "4                                     1                          0   \n",
       "..                                  ...                        ...   \n",
       "61                                    1                          0   \n",
       "62                                    1                          0   \n",
       "63                                    0                          1   \n",
       "64                                    1                          0   \n",
       "65                                    1                          0   \n",
       "\n",
       "    Favorite Soft Drink_Other  \n",
       "0                           0  \n",
       "1                           0  \n",
       "2                           0  \n",
       "3                           0  \n",
       "4                           0  \n",
       "..                        ...  \n",
       "61                          0  \n",
       "62                          0  \n",
       "63                          0  \n",
       "64                          0  \n",
       "65                          0  \n",
       "\n",
       "[66 rows x 20 columns]"
      ]
     },
     "execution_count": 18,
     "metadata": {},
     "output_type": "execute_result"
    }
   ],
   "source": [
    "df[\"Favorite Color\"] = df[\"Favorite Color\"].astype(object)\n",
    "X = pd.get_dummies(df[['Favorite Color', 'Favorite Music Genre', 'Favorite Beverage',\n",
    "       'Favorite Soft Drink']])\n",
    "X"
   ]
  },
  {
   "cell_type": "code",
   "execution_count": 19,
   "id": "0d38df53",
   "metadata": {},
   "outputs": [],
   "source": [
    "from sklearn.model_selection import train_test_split"
   ]
  },
  {
   "cell_type": "code",
   "execution_count": 20,
   "id": "296da676",
   "metadata": {},
   "outputs": [
    {
     "data": {
      "text/plain": [
       "KNeighborsClassifier(n_neighbors=3)"
      ]
     },
     "execution_count": 20,
     "metadata": {},
     "output_type": "execute_result"
    }
   ],
   "source": [
    "np.random.seed(42)\n",
    "X_train, X_test, y_train, y_test = train_test_split(X,\n",
    "                                                    y,\n",
    "                                                    test_size=0.2)\n",
    "\n",
    "knn.fit(X_train, y_train)"
   ]
  },
  {
   "cell_type": "code",
   "execution_count": 21,
   "id": "3536219f",
   "metadata": {},
   "outputs": [
    {
     "data": {
      "text/plain": [
       "0.7884615384615384"
      ]
     },
     "execution_count": 21,
     "metadata": {},
     "output_type": "execute_result"
    }
   ],
   "source": [
    "KT = knn.score(X_train, y_train)\n",
    "KT"
   ]
  },
  {
   "cell_type": "code",
   "execution_count": 22,
   "id": "920e385e",
   "metadata": {},
   "outputs": [
    {
     "data": {
      "text/plain": [
       "0.5"
      ]
     },
     "execution_count": 22,
     "metadata": {},
     "output_type": "execute_result"
    }
   ],
   "source": [
    "KTT = knn.score(X_test, y_test)\n",
    "KTT"
   ]
  },
  {
   "cell_type": "code",
   "execution_count": 23,
   "id": "4a47539b",
   "metadata": {},
   "outputs": [],
   "source": [
    "# Make predictions\n",
    "y_preds = knn.predict(X_test)"
   ]
  },
  {
   "cell_type": "code",
   "execution_count": 24,
   "id": "65692706",
   "metadata": {},
   "outputs": [
    {
     "data": {
      "text/plain": [
       "array(['F', 'F', 'M', 'F', 'F', 'M', 'F', 'F', 'F', 'F'], dtype=object)"
      ]
     },
     "execution_count": 24,
     "metadata": {},
     "output_type": "execute_result"
    }
   ],
   "source": [
    "y_preds[:10]"
   ]
  },
  {
   "cell_type": "code",
   "execution_count": 25,
   "id": "79f9e24a",
   "metadata": {},
   "outputs": [
    {
     "data": {
      "text/plain": [
       "<AxesSubplot:>"
      ]
     },
     "execution_count": 25,
     "metadata": {},
     "output_type": "execute_result"
    },
    {
     "data": {
      "image/png": "[encoded data removed]",
      "text/plain": [
       "<Figure size 432x288 with 2 Axes>"
      ]
     },
     "metadata": {
      "needs_background": "light"
     },
     "output_type": "display_data"
    }
   ],
   "source": [
    "from sklearn.metrics import confusion_matrix,classification_report\n",
    "cm=confusion_matrix(y_test,y_preds)\n",
    "sns.heatmap(cm,annot=True)"
   ]
  },
  {
   "cell_type": "code",
   "execution_count": 26,
   "id": "84dbaebc",
   "metadata": {},
   "outputs": [
    {
     "name": "stdout",
     "output_type": "stream",
     "text": [
      "              precision    recall  f1-score   support\n",
      "\n",
      "           F       0.50      0.86      0.63         7\n",
      "           M       0.50      0.14      0.22         7\n",
      "\n",
      "    accuracy                           0.50        14\n",
      "   macro avg       0.50      0.50      0.43        14\n",
      "weighted avg       0.50      0.50      0.43        14\n",
      "\n"
     ]
    }
   ],
   "source": [
    "from sklearn.metrics import classification_report\n",
    "\n",
    "print(classification_report(y_test, y_preds))"
   ]
  },
  {
   "cell_type": "code",
   "execution_count": 27,
   "id": "2add75b6",
   "metadata": {
    "scrolled": false
   },
   "outputs": [
    {
     "name": "stdout",
     "output_type": "stream",
     "text": [
      "Trying model with 10 estimators...\n",
      "Model accuracy on test set: 50.0%\n",
      "Cross-validation score: 48.57142857142856%\n",
      "\n",
      "Trying model with 20 estimators...\n",
      "Model accuracy on test set: 50.0%\n",
      "Cross-validation score: 48.57142857142856%\n",
      "\n",
      "Trying model with 30 estimators...\n",
      "Model accuracy on test set: 50.0%\n",
      "Cross-validation score: 48.57142857142856%\n",
      "\n",
      "Trying model with 40 estimators...\n",
      "Model accuracy on test set: 50.0%\n",
      "Cross-validation score: 48.57142857142856%\n",
      "\n",
      "Trying model with 50 estimators...\n",
      "Model accuracy on test set: 50.0%\n",
      "Cross-validation score: 48.57142857142856%\n",
      "\n",
      "Trying model with 60 estimators...\n",
      "Model accuracy on test set: 50.0%\n",
      "Cross-validation score: 48.57142857142856%\n",
      "\n",
      "Trying model with 70 estimators...\n",
      "Model accuracy on test set: 50.0%\n",
      "Cross-validation score: 48.57142857142856%\n",
      "\n",
      "Trying model with 80 estimators...\n",
      "Model accuracy on test set: 50.0%\n",
      "Cross-validation score: 48.57142857142856%\n",
      "\n",
      "Trying model with 90 estimators...\n",
      "Model accuracy on test set: 50.0%\n",
      "Cross-validation score: 48.57142857142856%\n",
      "\n"
     ]
    }
   ],
   "source": [
    "from sklearn.model_selection import cross_val_score\n",
    "import warnings\n",
    "warnings.filterwarnings('ignore')\n",
    "\n",
    "# With cross-validation\n",
    "np.random.seed(42)\n",
    "for i in range(10, 100, 10):\n",
    "    print(f\"Trying model with {i} estimators...\")\n",
    "    knn.fit(X_train, y_train)\n",
    "    print(f\"Model accuracy on test set: {knn.score(X_test, y_test) * 100}%\")\n",
    "    print(f\"Cross-validation score: {np.mean(cross_val_score(knn, X, y, cv=5)) * 100}%\")\n",
    "    print(\"\")"
   ]
  },
  {
   "cell_type": "code",
   "execution_count": 28,
   "id": "9daeb8e4",
   "metadata": {},
   "outputs": [
    {
     "data": {
      "image/png": "[encoded data removed]",
      "text/plain": [
       "<Figure size 432x288 with 2 Axes>"
      ]
     },
     "metadata": {
      "needs_background": "light"
     },
     "output_type": "display_data"
    }
   ],
   "source": [
    "# Plot confusion matrix from predictions\n",
    "from sklearn.metrics import ConfusionMatrixDisplay\n",
    "ConfusionMatrixDisplay.from_predictions(y_true=y_test, \n",
    "                                        y_pred=y_preds);"
   ]
  },
  {
   "cell_type": "code",
   "execution_count": 29,
   "id": "2ad6f2cb",
   "metadata": {},
   "outputs": [
    {
     "data": {
      "text/plain": [
       "array([0.33333333, 0.33333333, 0.66666667, 0.33333333, 0.33333333,\n",
       "       0.66666667, 0.33333333, 0.        , 0.33333333, 0.        ,\n",
       "       0.        , 0.33333333, 0.33333333, 0.33333333])"
      ]
     },
     "execution_count": 29,
     "metadata": {},
     "output_type": "execute_result"
    }
   ],
   "source": [
    "y_pred_probs = knn.predict_proba(X_test)[:,1]\n",
    "y_pred_probs"
   ]
  }
 ],
 "metadata": {
  "kernelspec": {
   "display_name": "Python 3 (ipykernel)",
   "language": "python",
   "name": "python3"
  },
  "language_info": {
   "codemirror_mode": {
    "name": "ipython",
    "version": 3
   },
   "file_extension": ".py",
   "mimetype": "text/x-python",
   "name": "python",
   "nbconvert_exporter": "python",
   "pygments_lexer": "ipython3",
   "version": "3.9.12"
  }
 },
 "nbformat": 4,
 "nbformat_minor": 5
}
