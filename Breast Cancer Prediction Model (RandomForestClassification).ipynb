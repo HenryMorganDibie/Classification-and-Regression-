{
 "cells": [
  {
   "cell_type": "code",
   "execution_count": 6,
   "id": "557d991f",
   "metadata": {},
   "outputs": [],
   "source": [
    "%matplotlib inline\n",
    "import matplotlib.pyplot as plt\n",
    "import pandas as pd\n",
    "import numpy as np"
   ]
  },
  {
   "cell_type": "code",
   "execution_count": 7,
   "id": "89089f49",
   "metadata": {
    "scrolled": true
   },
   "outputs": [
    {
     "data": {
      "text/html": [
       "<div>\n",
       "<style scoped>\n",
       "    .dataframe tbody tr th:only-of-type {\n",
       "        vertical-align: middle;\n",
       "    }\n",
       "\n",
       "    .dataframe tbody tr th {\n",
       "        vertical-align: top;\n",
       "    }\n",
       "\n",
       "    .dataframe thead th {\n",
       "        text-align: right;\n",
       "    }\n",
       "</style>\n",
       "<table border=\"1\" class=\"dataframe\">\n",
       "  <thead>\n",
       "    <tr style=\"text-align: right;\">\n",
       "      <th></th>\n",
       "      <th>Age</th>\n",
       "      <th>Race</th>\n",
       "      <th>Marital Status</th>\n",
       "      <th>T Stage</th>\n",
       "      <th>N Stage</th>\n",
       "      <th>6th Stage</th>\n",
       "      <th>differentiate</th>\n",
       "      <th>Grade</th>\n",
       "      <th>A Stage</th>\n",
       "      <th>Tumor Size</th>\n",
       "      <th>Estrogen Status</th>\n",
       "      <th>Progesterone Status</th>\n",
       "      <th>Regional Node Examined</th>\n",
       "      <th>Reginol Node Positive</th>\n",
       "      <th>Survival Months</th>\n",
       "      <th>Status</th>\n",
       "    </tr>\n",
       "  </thead>\n",
       "  <tbody>\n",
       "    <tr>\n",
       "      <th>0</th>\n",
       "      <td>68</td>\n",
       "      <td>White</td>\n",
       "      <td>Married</td>\n",
       "      <td>T1</td>\n",
       "      <td>N1</td>\n",
       "      <td>IIA</td>\n",
       "      <td>Poorly differentiated</td>\n",
       "      <td>3</td>\n",
       "      <td>Regional</td>\n",
       "      <td>4</td>\n",
       "      <td>Positive</td>\n",
       "      <td>Positive</td>\n",
       "      <td>24</td>\n",
       "      <td>1</td>\n",
       "      <td>60</td>\n",
       "      <td>Alive</td>\n",
       "    </tr>\n",
       "    <tr>\n",
       "      <th>1</th>\n",
       "      <td>50</td>\n",
       "      <td>White</td>\n",
       "      <td>Married</td>\n",
       "      <td>T2</td>\n",
       "      <td>N2</td>\n",
       "      <td>IIIA</td>\n",
       "      <td>Moderately differentiated</td>\n",
       "      <td>2</td>\n",
       "      <td>Regional</td>\n",
       "      <td>35</td>\n",
       "      <td>Positive</td>\n",
       "      <td>Positive</td>\n",
       "      <td>14</td>\n",
       "      <td>5</td>\n",
       "      <td>62</td>\n",
       "      <td>Alive</td>\n",
       "    </tr>\n",
       "    <tr>\n",
       "      <th>2</th>\n",
       "      <td>58</td>\n",
       "      <td>White</td>\n",
       "      <td>Divorced</td>\n",
       "      <td>T3</td>\n",
       "      <td>N3</td>\n",
       "      <td>IIIC</td>\n",
       "      <td>Moderately differentiated</td>\n",
       "      <td>2</td>\n",
       "      <td>Regional</td>\n",
       "      <td>63</td>\n",
       "      <td>Positive</td>\n",
       "      <td>Positive</td>\n",
       "      <td>14</td>\n",
       "      <td>7</td>\n",
       "      <td>75</td>\n",
       "      <td>Alive</td>\n",
       "    </tr>\n",
       "    <tr>\n",
       "      <th>3</th>\n",
       "      <td>58</td>\n",
       "      <td>White</td>\n",
       "      <td>Married</td>\n",
       "      <td>T1</td>\n",
       "      <td>N1</td>\n",
       "      <td>IIA</td>\n",
       "      <td>Poorly differentiated</td>\n",
       "      <td>3</td>\n",
       "      <td>Regional</td>\n",
       "      <td>18</td>\n",
       "      <td>Positive</td>\n",
       "      <td>Positive</td>\n",
       "      <td>2</td>\n",
       "      <td>1</td>\n",
       "      <td>84</td>\n",
       "      <td>Alive</td>\n",
       "    </tr>\n",
       "    <tr>\n",
       "      <th>4</th>\n",
       "      <td>47</td>\n",
       "      <td>White</td>\n",
       "      <td>Married</td>\n",
       "      <td>T2</td>\n",
       "      <td>N1</td>\n",
       "      <td>IIB</td>\n",
       "      <td>Poorly differentiated</td>\n",
       "      <td>3</td>\n",
       "      <td>Regional</td>\n",
       "      <td>41</td>\n",
       "      <td>Positive</td>\n",
       "      <td>Positive</td>\n",
       "      <td>3</td>\n",
       "      <td>1</td>\n",
       "      <td>50</td>\n",
       "      <td>Alive</td>\n",
       "    </tr>\n",
       "  </tbody>\n",
       "</table>\n",
       "</div>"
      ],
      "text/plain": [
       "   Age   Race Marital Status T Stage  N Stage 6th Stage  \\\n",
       "0   68  White        Married       T1      N1       IIA   \n",
       "1   50  White        Married       T2      N2      IIIA   \n",
       "2   58  White       Divorced       T3      N3      IIIC   \n",
       "3   58  White        Married       T1      N1       IIA   \n",
       "4   47  White        Married       T2      N1       IIB   \n",
       "\n",
       "               differentiate Grade   A Stage  Tumor Size Estrogen Status  \\\n",
       "0      Poorly differentiated     3  Regional           4        Positive   \n",
       "1  Moderately differentiated     2  Regional          35        Positive   \n",
       "2  Moderately differentiated     2  Regional          63        Positive   \n",
       "3      Poorly differentiated     3  Regional          18        Positive   \n",
       "4      Poorly differentiated     3  Regional          41        Positive   \n",
       "\n",
       "  Progesterone Status  Regional Node Examined  Reginol Node Positive  \\\n",
       "0            Positive                      24                      1   \n",
       "1            Positive                      14                      5   \n",
       "2            Positive                      14                      7   \n",
       "3            Positive                       2                      1   \n",
       "4            Positive                       3                      1   \n",
       "\n",
       "   Survival Months Status  \n",
       "0               60  Alive  \n",
       "1               62  Alive  \n",
       "2               75  Alive  \n",
       "3               84  Alive  \n",
       "4               50  Alive  "
      ]
     },
     "execution_count": 7,
     "metadata": {},
     "output_type": "execute_result"
    }
   ],
   "source": [
    "Breast_cancer = pd.read_csv('Breast_Cancer.csv')\n",
    "# view the data\n",
    "Breast_cancer.head()"
   ]
  },
  {
   "cell_type": "code",
   "execution_count": 8,
   "id": "8ddddeb4",
   "metadata": {},
   "outputs": [
    {
     "data": {
      "text/plain": [
       "(4024, 16)"
      ]
     },
     "execution_count": 8,
     "metadata": {},
     "output_type": "execute_result"
    }
   ],
   "source": [
    "Breast_cancer.shape"
   ]
  },
  {
   "cell_type": "code",
   "execution_count": 9,
   "id": "e4cb6950",
   "metadata": {},
   "outputs": [
    {
     "data": {
      "text/plain": [
       "4024"
      ]
     },
     "execution_count": 9,
     "metadata": {},
     "output_type": "execute_result"
    }
   ],
   "source": [
    "len(Breast_cancer)"
   ]
  },
  {
   "cell_type": "code",
   "execution_count": 10,
   "id": "0a402435",
   "metadata": {},
   "outputs": [
    {
     "data": {
      "text/plain": [
       "Age                        int64\n",
       "Race                      object\n",
       "Marital Status            object\n",
       "T Stage                   object\n",
       "N Stage                   object\n",
       "6th Stage                 object\n",
       "differentiate             object\n",
       "Grade                     object\n",
       "A Stage                   object\n",
       "Tumor Size                 int64\n",
       "Estrogen Status           object\n",
       "Progesterone Status       object\n",
       "Regional Node Examined     int64\n",
       "Reginol Node Positive      int64\n",
       "Survival Months            int64\n",
       "Status                    object\n",
       "dtype: object"
      ]
     },
     "execution_count": 10,
     "metadata": {},
     "output_type": "execute_result"
    }
   ],
   "source": [
    "Breast_cancer.dtypes"
   ]
  },
  {
   "cell_type": "code",
   "execution_count": 12,
   "id": "c4c94afc",
   "metadata": {},
   "outputs": [
    {
     "data": {
      "text/html": [
       "<div>\n",
       "<style scoped>\n",
       "    .dataframe tbody tr th:only-of-type {\n",
       "        vertical-align: middle;\n",
       "    }\n",
       "\n",
       "    .dataframe tbody tr th {\n",
       "        vertical-align: top;\n",
       "    }\n",
       "\n",
       "    .dataframe thead th {\n",
       "        text-align: right;\n",
       "    }\n",
       "</style>\n",
       "<table border=\"1\" class=\"dataframe\">\n",
       "  <thead>\n",
       "    <tr style=\"text-align: right;\">\n",
       "      <th></th>\n",
       "      <th>Age</th>\n",
       "      <th>Tumor Size</th>\n",
       "      <th>Regional Node Examined</th>\n",
       "      <th>Reginol Node Positive</th>\n",
       "      <th>Survival Months</th>\n",
       "    </tr>\n",
       "  </thead>\n",
       "  <tbody>\n",
       "    <tr>\n",
       "      <th>count</th>\n",
       "      <td>4024.000000</td>\n",
       "      <td>4024.000000</td>\n",
       "      <td>4024.000000</td>\n",
       "      <td>4024.000000</td>\n",
       "      <td>4024.000000</td>\n",
       "    </tr>\n",
       "    <tr>\n",
       "      <th>mean</th>\n",
       "      <td>53.972167</td>\n",
       "      <td>30.473658</td>\n",
       "      <td>14.357107</td>\n",
       "      <td>4.158052</td>\n",
       "      <td>71.297962</td>\n",
       "    </tr>\n",
       "    <tr>\n",
       "      <th>std</th>\n",
       "      <td>8.963134</td>\n",
       "      <td>21.119696</td>\n",
       "      <td>8.099675</td>\n",
       "      <td>5.109331</td>\n",
       "      <td>22.921430</td>\n",
       "    </tr>\n",
       "    <tr>\n",
       "      <th>min</th>\n",
       "      <td>30.000000</td>\n",
       "      <td>1.000000</td>\n",
       "      <td>1.000000</td>\n",
       "      <td>1.000000</td>\n",
       "      <td>1.000000</td>\n",
       "    </tr>\n",
       "    <tr>\n",
       "      <th>25%</th>\n",
       "      <td>47.000000</td>\n",
       "      <td>16.000000</td>\n",
       "      <td>9.000000</td>\n",
       "      <td>1.000000</td>\n",
       "      <td>56.000000</td>\n",
       "    </tr>\n",
       "    <tr>\n",
       "      <th>50%</th>\n",
       "      <td>54.000000</td>\n",
       "      <td>25.000000</td>\n",
       "      <td>14.000000</td>\n",
       "      <td>2.000000</td>\n",
       "      <td>73.000000</td>\n",
       "    </tr>\n",
       "    <tr>\n",
       "      <th>75%</th>\n",
       "      <td>61.000000</td>\n",
       "      <td>38.000000</td>\n",
       "      <td>19.000000</td>\n",
       "      <td>5.000000</td>\n",
       "      <td>90.000000</td>\n",
       "    </tr>\n",
       "    <tr>\n",
       "      <th>max</th>\n",
       "      <td>69.000000</td>\n",
       "      <td>140.000000</td>\n",
       "      <td>61.000000</td>\n",
       "      <td>46.000000</td>\n",
       "      <td>107.000000</td>\n",
       "    </tr>\n",
       "  </tbody>\n",
       "</table>\n",
       "</div>"
      ],
      "text/plain": [
       "               Age   Tumor Size  Regional Node Examined  \\\n",
       "count  4024.000000  4024.000000             4024.000000   \n",
       "mean     53.972167    30.473658               14.357107   \n",
       "std       8.963134    21.119696                8.099675   \n",
       "min      30.000000     1.000000                1.000000   \n",
       "25%      47.000000    16.000000                9.000000   \n",
       "50%      54.000000    25.000000               14.000000   \n",
       "75%      61.000000    38.000000               19.000000   \n",
       "max      69.000000   140.000000               61.000000   \n",
       "\n",
       "       Reginol Node Positive  Survival Months  \n",
       "count            4024.000000      4024.000000  \n",
       "mean                4.158052        71.297962  \n",
       "std                 5.109331        22.921430  \n",
       "min                 1.000000         1.000000  \n",
       "25%                 1.000000        56.000000  \n",
       "50%                 2.000000        73.000000  \n",
       "75%                 5.000000        90.000000  \n",
       "max                46.000000       107.000000  "
      ]
     },
     "execution_count": 12,
     "metadata": {},
     "output_type": "execute_result"
    }
   ],
   "source": [
    "Breast_cancer.describe()"
   ]
  },
  {
   "cell_type": "code",
   "execution_count": 13,
   "id": "79480b71",
   "metadata": {},
   "outputs": [
    {
     "data": {
      "text/plain": [
       "Age                                                                  217184\n",
       "Race                      WhiteWhiteWhiteWhiteWhiteWhiteWhiteWhiteWhiteW...\n",
       "Marital Status            MarriedMarriedDivorcedMarriedMarriedSingle Mar...\n",
       "T Stage                   T1T2T3T1T2T1T1T2T4T4T1T3T2T1T2T1T2T2T2T2T2T2T2...\n",
       "N Stage                   N1N2N3N1N1N1N1N1N3N3N1N1N1N2N3N1N1N1N1N1N1N2N1...\n",
       "6th Stage                 IIAIIIAIIICIIAIIBIIAIIAIIBIIICIIICIIAIIIAIIBII...\n",
       "differentiate             Poorly differentiatedModerately differentiated...\n",
       "Grade                     3223321231233322222212333231131222212222222322...\n",
       "A Stage                   RegionalRegionalRegionalRegionalRegionalRegion...\n",
       "Tumor Size                                                           122626\n",
       "Estrogen Status           PositivePositivePositivePositivePositivePositi...\n",
       "Progesterone Status       PositivePositivePositivePositivePositivePositi...\n",
       "Regional Node Examined                                                57773\n",
       "Reginol Node Positive                                                 16732\n",
       "Survival Months                                                      286903\n",
       "Status                    AliveAliveAliveAliveAliveAliveAliveDeadAliveAl...\n",
       "dtype: object"
      ]
     },
     "execution_count": 13,
     "metadata": {},
     "output_type": "execute_result"
    }
   ],
   "source": [
    "Breast_cancer.sum()"
   ]
  },
  {
   "cell_type": "code",
   "execution_count": 14,
   "id": "101e84d0",
   "metadata": {},
   "outputs": [
    {
     "data": {
      "text/plain": [
       "Age                       0\n",
       "Race                      0\n",
       "Marital Status            0\n",
       "T Stage                   0\n",
       "N Stage                   0\n",
       "6th Stage                 0\n",
       "differentiate             0\n",
       "Grade                     0\n",
       "A Stage                   0\n",
       "Tumor Size                0\n",
       "Estrogen Status           0\n",
       "Progesterone Status       0\n",
       "Regional Node Examined    0\n",
       "Reginol Node Positive     0\n",
       "Survival Months           0\n",
       "Status                    0\n",
       "dtype: int64"
      ]
     },
     "execution_count": 14,
     "metadata": {},
     "output_type": "execute_result"
    }
   ],
   "source": [
    "Breast_cancer.isna().sum()"
   ]
  },
  {
   "cell_type": "code",
   "execution_count": 15,
   "id": "026a3854",
   "metadata": {},
   "outputs": [
    {
     "name": "stdout",
     "output_type": "stream",
     "text": [
      "<class 'pandas.core.frame.DataFrame'>\n",
      "RangeIndex: 4024 entries, 0 to 4023\n",
      "Data columns (total 16 columns):\n",
      " #   Column                  Non-Null Count  Dtype \n",
      "---  ------                  --------------  ----- \n",
      " 0   Age                     4024 non-null   int64 \n",
      " 1   Race                    4024 non-null   object\n",
      " 2   Marital Status          4024 non-null   object\n",
      " 3   T Stage                 4024 non-null   object\n",
      " 4   N Stage                 4024 non-null   object\n",
      " 5   6th Stage               4024 non-null   object\n",
      " 6   differentiate           4024 non-null   object\n",
      " 7   Grade                   4024 non-null   object\n",
      " 8   A Stage                 4024 non-null   object\n",
      " 9   Tumor Size              4024 non-null   int64 \n",
      " 10  Estrogen Status         4024 non-null   object\n",
      " 11  Progesterone Status     4024 non-null   object\n",
      " 12  Regional Node Examined  4024 non-null   int64 \n",
      " 13  Reginol Node Positive   4024 non-null   int64 \n",
      " 14  Survival Months         4024 non-null   int64 \n",
      " 15  Status                  4024 non-null   object\n",
      "dtypes: int64(5), object(11)\n",
      "memory usage: 503.1+ KB\n"
     ]
    }
   ],
   "source": [
    "Breast_cancer.info()"
   ]
  },
  {
   "cell_type": "code",
   "execution_count": 24,
   "id": "e3c58133",
   "metadata": {},
   "outputs": [],
   "source": [
    "# Create X (features matrix)\n",
    "X = Breast_cancer.drop(\"Status\", axis=1)\n",
    "\n",
    "# Create y (labels)\n",
    "y = Breast_cancer[\"Status\"]"
   ]
  },
  {
   "cell_type": "code",
   "execution_count": 39,
   "id": "ad8a31e1",
   "metadata": {},
   "outputs": [
    {
     "data": {
      "text/html": [
       "<div>\n",
       "<style scoped>\n",
       "    .dataframe tbody tr th:only-of-type {\n",
       "        vertical-align: middle;\n",
       "    }\n",
       "\n",
       "    .dataframe tbody tr th {\n",
       "        vertical-align: top;\n",
       "    }\n",
       "\n",
       "    .dataframe thead th {\n",
       "        text-align: right;\n",
       "    }\n",
       "</style>\n",
       "<table border=\"1\" class=\"dataframe\">\n",
       "  <thead>\n",
       "    <tr style=\"text-align: right;\">\n",
       "      <th></th>\n",
       "      <th>Age</th>\n",
       "      <th>Race</th>\n",
       "      <th>Marital Status</th>\n",
       "      <th>T Stage</th>\n",
       "      <th>N Stage</th>\n",
       "      <th>6th Stage</th>\n",
       "      <th>differentiate</th>\n",
       "      <th>Grade</th>\n",
       "      <th>A Stage</th>\n",
       "      <th>Tumor Size</th>\n",
       "      <th>Estrogen Status</th>\n",
       "      <th>Progesterone Status</th>\n",
       "      <th>Regional Node Examined</th>\n",
       "      <th>Reginol Node Positive</th>\n",
       "      <th>Survival Months</th>\n",
       "    </tr>\n",
       "  </thead>\n",
       "  <tbody>\n",
       "    <tr>\n",
       "      <th>0</th>\n",
       "      <td>68</td>\n",
       "      <td>White</td>\n",
       "      <td>Married</td>\n",
       "      <td>T1</td>\n",
       "      <td>N1</td>\n",
       "      <td>IIA</td>\n",
       "      <td>Poorly differentiated</td>\n",
       "      <td>3</td>\n",
       "      <td>Regional</td>\n",
       "      <td>4</td>\n",
       "      <td>Positive</td>\n",
       "      <td>Positive</td>\n",
       "      <td>24</td>\n",
       "      <td>1</td>\n",
       "      <td>60</td>\n",
       "    </tr>\n",
       "    <tr>\n",
       "      <th>1</th>\n",
       "      <td>50</td>\n",
       "      <td>White</td>\n",
       "      <td>Married</td>\n",
       "      <td>T2</td>\n",
       "      <td>N2</td>\n",
       "      <td>IIIA</td>\n",
       "      <td>Moderately differentiated</td>\n",
       "      <td>2</td>\n",
       "      <td>Regional</td>\n",
       "      <td>35</td>\n",
       "      <td>Positive</td>\n",
       "      <td>Positive</td>\n",
       "      <td>14</td>\n",
       "      <td>5</td>\n",
       "      <td>62</td>\n",
       "    </tr>\n",
       "    <tr>\n",
       "      <th>2</th>\n",
       "      <td>58</td>\n",
       "      <td>White</td>\n",
       "      <td>Divorced</td>\n",
       "      <td>T3</td>\n",
       "      <td>N3</td>\n",
       "      <td>IIIC</td>\n",
       "      <td>Moderately differentiated</td>\n",
       "      <td>2</td>\n",
       "      <td>Regional</td>\n",
       "      <td>63</td>\n",
       "      <td>Positive</td>\n",
       "      <td>Positive</td>\n",
       "      <td>14</td>\n",
       "      <td>7</td>\n",
       "      <td>75</td>\n",
       "    </tr>\n",
       "    <tr>\n",
       "      <th>3</th>\n",
       "      <td>58</td>\n",
       "      <td>White</td>\n",
       "      <td>Married</td>\n",
       "      <td>T1</td>\n",
       "      <td>N1</td>\n",
       "      <td>IIA</td>\n",
       "      <td>Poorly differentiated</td>\n",
       "      <td>3</td>\n",
       "      <td>Regional</td>\n",
       "      <td>18</td>\n",
       "      <td>Positive</td>\n",
       "      <td>Positive</td>\n",
       "      <td>2</td>\n",
       "      <td>1</td>\n",
       "      <td>84</td>\n",
       "    </tr>\n",
       "    <tr>\n",
       "      <th>4</th>\n",
       "      <td>47</td>\n",
       "      <td>White</td>\n",
       "      <td>Married</td>\n",
       "      <td>T2</td>\n",
       "      <td>N1</td>\n",
       "      <td>IIB</td>\n",
       "      <td>Poorly differentiated</td>\n",
       "      <td>3</td>\n",
       "      <td>Regional</td>\n",
       "      <td>41</td>\n",
       "      <td>Positive</td>\n",
       "      <td>Positive</td>\n",
       "      <td>3</td>\n",
       "      <td>1</td>\n",
       "      <td>50</td>\n",
       "    </tr>\n",
       "  </tbody>\n",
       "</table>\n",
       "</div>"
      ],
      "text/plain": [
       "   Age   Race Marital Status T Stage  N Stage 6th Stage  \\\n",
       "0   68  White        Married       T1      N1       IIA   \n",
       "1   50  White        Married       T2      N2      IIIA   \n",
       "2   58  White       Divorced       T3      N3      IIIC   \n",
       "3   58  White        Married       T1      N1       IIA   \n",
       "4   47  White        Married       T2      N1       IIB   \n",
       "\n",
       "               differentiate Grade   A Stage  Tumor Size Estrogen Status  \\\n",
       "0      Poorly differentiated     3  Regional           4        Positive   \n",
       "1  Moderately differentiated     2  Regional          35        Positive   \n",
       "2  Moderately differentiated     2  Regional          63        Positive   \n",
       "3      Poorly differentiated     3  Regional          18        Positive   \n",
       "4      Poorly differentiated     3  Regional          41        Positive   \n",
       "\n",
       "  Progesterone Status  Regional Node Examined  Reginol Node Positive  \\\n",
       "0            Positive                      24                      1   \n",
       "1            Positive                      14                      5   \n",
       "2            Positive                      14                      7   \n",
       "3            Positive                       2                      1   \n",
       "4            Positive                       3                      1   \n",
       "\n",
       "   Survival Months  \n",
       "0               60  \n",
       "1               62  \n",
       "2               75  \n",
       "3               84  \n",
       "4               50  "
      ]
     },
     "execution_count": 39,
     "metadata": {},
     "output_type": "execute_result"
    }
   ],
   "source": [
    "X.head()"
   ]
  },
  {
   "cell_type": "code",
   "execution_count": 40,
   "id": "488b5cc1",
   "metadata": {},
   "outputs": [
    {
     "data": {
      "text/plain": [
       "(0    Alive\n",
       " 1    Alive\n",
       " 2    Alive\n",
       " 3    Alive\n",
       " 4    Alive\n",
       " Name: Status, dtype: object,\n",
       " Alive    3408\n",
       " Dead      616\n",
       " Name: Status, dtype: int64)"
      ]
     },
     "execution_count": 40,
     "metadata": {},
     "output_type": "execute_result"
    }
   ],
   "source": [
    "y.head(), y.value_counts()"
   ]
  },
  {
   "cell_type": "code",
   "execution_count": 42,
   "id": "94fafc83",
   "metadata": {},
   "outputs": [
    {
     "data": {
      "text/plain": [
       "((3219, 15), (805, 15), (3219,), (805,))"
      ]
     },
     "execution_count": 42,
     "metadata": {},
     "output_type": "execute_result"
    }
   ],
   "source": [
    "# 3. Fit the model to the training data\n",
    "from sklearn.model_selection import train_test_split\n",
    "\n",
    "X_train, X_test, y_train, y_test = train_test_split(X, y, test_size=0.2)\n",
    "X_train.shape, X_test.shape, y_train.shape, y_test.shape"
   ]
  },
  {
   "cell_type": "code",
   "execution_count": 25,
   "id": "ecfed084",
   "metadata": {},
   "outputs": [
    {
     "data": {
      "text/plain": [
       "{'bootstrap': True,\n",
       " 'ccp_alpha': 0.0,\n",
       " 'class_weight': None,\n",
       " 'criterion': 'gini',\n",
       " 'max_depth': None,\n",
       " 'max_features': 'auto',\n",
       " 'max_leaf_nodes': None,\n",
       " 'max_samples': None,\n",
       " 'min_impurity_decrease': 0.0,\n",
       " 'min_samples_leaf': 1,\n",
       " 'min_samples_split': 2,\n",
       " 'min_weight_fraction_leaf': 0.0,\n",
       " 'n_estimators': 100,\n",
       " 'n_jobs': None,\n",
       " 'oob_score': False,\n",
       " 'random_state': None,\n",
       " 'verbose': 0,\n",
       " 'warm_start': False}"
      ]
     },
     "execution_count": 25,
     "metadata": {},
     "output_type": "execute_result"
    }
   ],
   "source": [
    "# Choose the right estimator/algorithm or models and hyperparamtersfor our problems\n",
    "from sklearn.ensemble import RandomForestClassifier\n",
    "\n",
    "model = RandomForestClassifier(n_estimators=100)\n",
    "\n",
    "# we keep the default hyperparameters\n",
    "model.get_params()"
   ]
  },
  {
   "cell_type": "code",
   "execution_count": 16,
   "id": "fa6ef0fb",
   "metadata": {},
   "outputs": [
    {
     "data": {
      "text/plain": [
       "Index(['Age', 'Race', 'Marital Status', 'T Stage ', 'N Stage', '6th Stage',\n",
       "       'differentiate', 'Grade', 'A Stage', 'Tumor Size', 'Estrogen Status',\n",
       "       'Progesterone Status', 'Regional Node Examined',\n",
       "       'Reginol Node Positive', 'Survival Months', 'Status'],\n",
       "      dtype='object')"
      ]
     },
     "execution_count": 16,
     "metadata": {},
     "output_type": "execute_result"
    }
   ],
   "source": [
    "Breast_cancer.columns"
   ]
  },
  {
   "cell_type": "code",
   "execution_count": 44,
   "id": "b413670e",
   "metadata": {},
   "outputs": [
    {
     "data": {
      "text/plain": [
       "<4024x383 sparse matrix of type '<class 'numpy.float64'>'\n",
       "\twith 60360 stored elements in Compressed Sparse Row format>"
      ]
     },
     "execution_count": 44,
     "metadata": {},
     "output_type": "execute_result"
    }
   ],
   "source": [
    "# Turn the categories into numbers\n",
    "from sklearn.preprocessing import OneHotEncoder\n",
    "from sklearn.compose import ColumnTransformer\n",
    "\n",
    "categorical_features = ['Age', 'Race', 'Marital Status', 'T Stage ', 'N Stage', '6th Stage',\n",
    "       'differentiate', 'Grade', 'A Stage', 'Tumor Size', 'Estrogen Status',\n",
    "       'Progesterone Status', 'Regional Node Examined',\n",
    "       'Reginol Node Positive', 'Survival Months']\n",
    "one_hot = OneHotEncoder()\n",
    "transformer = ColumnTransformer([(\"one_hot\", \n",
    "                                 one_hot, \n",
    "                                 categorical_features)],\n",
    "                                 remainder=\"passthrough\")\n",
    "transformed_X = transformer.fit_transform(X)\n",
    "transformed_X"
   ]
  },
  {
   "cell_type": "code",
   "execution_count": 45,
   "id": "abd07775",
   "metadata": {},
   "outputs": [
    {
     "data": {
      "text/plain": [
       "<1x383 sparse matrix of type '<class 'numpy.float64'>'\n",
       "\twith 15 stored elements in Compressed Sparse Row format>"
      ]
     },
     "execution_count": 45,
     "metadata": {},
     "output_type": "execute_result"
    }
   ],
   "source": [
    "transformed_X[0]"
   ]
  },
  {
   "cell_type": "code",
   "execution_count": 60,
   "id": "281e8537",
   "metadata": {},
   "outputs": [
    {
     "data": {
      "text/html": [
       "<div>\n",
       "<style scoped>\n",
       "    .dataframe tbody tr th:only-of-type {\n",
       "        vertical-align: middle;\n",
       "    }\n",
       "\n",
       "    .dataframe tbody tr th {\n",
       "        vertical-align: top;\n",
       "    }\n",
       "\n",
       "    .dataframe thead th {\n",
       "        text-align: right;\n",
       "    }\n",
       "</style>\n",
       "<table border=\"1\" class=\"dataframe\">\n",
       "  <thead>\n",
       "    <tr style=\"text-align: right;\">\n",
       "      <th></th>\n",
       "      <th>0</th>\n",
       "    </tr>\n",
       "  </thead>\n",
       "  <tbody>\n",
       "    <tr>\n",
       "      <th>0</th>\n",
       "      <td>(0, 38)\\t1.0\\n  (0, 42)\\t1.0\\n  (0, 44)\\t1.0...</td>\n",
       "    </tr>\n",
       "    <tr>\n",
       "      <th>1</th>\n",
       "      <td>(0, 20)\\t1.0\\n  (0, 42)\\t1.0\\n  (0, 44)\\t1.0...</td>\n",
       "    </tr>\n",
       "    <tr>\n",
       "      <th>2</th>\n",
       "      <td>(0, 28)\\t1.0\\n  (0, 42)\\t1.0\\n  (0, 43)\\t1.0...</td>\n",
       "    </tr>\n",
       "    <tr>\n",
       "      <th>3</th>\n",
       "      <td>(0, 28)\\t1.0\\n  (0, 42)\\t1.0\\n  (0, 44)\\t1.0...</td>\n",
       "    </tr>\n",
       "    <tr>\n",
       "      <th>4</th>\n",
       "      <td>(0, 17)\\t1.0\\n  (0, 42)\\t1.0\\n  (0, 44)\\t1.0...</td>\n",
       "    </tr>\n",
       "    <tr>\n",
       "      <th>...</th>\n",
       "      <td>...</td>\n",
       "    </tr>\n",
       "    <tr>\n",
       "      <th>4019</th>\n",
       "      <td>(0, 32)\\t1.0\\n  (0, 41)\\t1.0\\n  (0, 44)\\t1.0...</td>\n",
       "    </tr>\n",
       "    <tr>\n",
       "      <th>4020</th>\n",
       "      <td>(0, 26)\\t1.0\\n  (0, 42)\\t1.0\\n  (0, 43)\\t1.0...</td>\n",
       "    </tr>\n",
       "    <tr>\n",
       "      <th>4021</th>\n",
       "      <td>(0, 38)\\t1.0\\n  (0, 42)\\t1.0\\n  (0, 44)\\t1.0...</td>\n",
       "    </tr>\n",
       "    <tr>\n",
       "      <th>4022</th>\n",
       "      <td>(0, 28)\\t1.0\\n  (0, 40)\\t1.0\\n  (0, 43)\\t1.0...</td>\n",
       "    </tr>\n",
       "    <tr>\n",
       "      <th>4023</th>\n",
       "      <td>(0, 16)\\t1.0\\n  (0, 42)\\t1.0\\n  (0, 44)\\t1.0...</td>\n",
       "    </tr>\n",
       "  </tbody>\n",
       "</table>\n",
       "<p>4024 rows × 1 columns</p>\n",
       "</div>"
      ],
      "text/plain": [
       "                                                      0\n",
       "0       (0, 38)\\t1.0\\n  (0, 42)\\t1.0\\n  (0, 44)\\t1.0...\n",
       "1       (0, 20)\\t1.0\\n  (0, 42)\\t1.0\\n  (0, 44)\\t1.0...\n",
       "2       (0, 28)\\t1.0\\n  (0, 42)\\t1.0\\n  (0, 43)\\t1.0...\n",
       "3       (0, 28)\\t1.0\\n  (0, 42)\\t1.0\\n  (0, 44)\\t1.0...\n",
       "4       (0, 17)\\t1.0\\n  (0, 42)\\t1.0\\n  (0, 44)\\t1.0...\n",
       "...                                                 ...\n",
       "4019    (0, 32)\\t1.0\\n  (0, 41)\\t1.0\\n  (0, 44)\\t1.0...\n",
       "4020    (0, 26)\\t1.0\\n  (0, 42)\\t1.0\\n  (0, 43)\\t1.0...\n",
       "4021    (0, 38)\\t1.0\\n  (0, 42)\\t1.0\\n  (0, 44)\\t1.0...\n",
       "4022    (0, 28)\\t1.0\\n  (0, 40)\\t1.0\\n  (0, 43)\\t1.0...\n",
       "4023    (0, 16)\\t1.0\\n  (0, 42)\\t1.0\\n  (0, 44)\\t1.0...\n",
       "\n",
       "[4024 rows x 1 columns]"
      ]
     },
     "execution_count": 60,
     "metadata": {},
     "output_type": "execute_result"
    }
   ],
   "source": [
    "pd.DataFrame(transformed_X)"
   ]
  },
  {
   "cell_type": "code",
   "execution_count": 46,
   "id": "ca0d69dc",
   "metadata": {},
   "outputs": [
    {
     "data": {
      "text/plain": [
       "Age                                          68\n",
       "Race                                      White\n",
       "Marital Status                          Married\n",
       "T Stage                                      T1\n",
       "N Stage                                      N1\n",
       "6th Stage                                   IIA\n",
       "differentiate             Poorly differentiated\n",
       "Grade                                         3\n",
       "A Stage                                Regional\n",
       "Tumor Size                                    4\n",
       "Estrogen Status                        Positive\n",
       "Progesterone Status                    Positive\n",
       "Regional Node Examined                       24\n",
       "Reginol Node Positive                         1\n",
       "Survival Months                              60\n",
       "Name: 0, dtype: object"
      ]
     },
     "execution_count": 46,
     "metadata": {},
     "output_type": "execute_result"
    }
   ],
   "source": [
    "X.iloc[0]"
   ]
  },
  {
   "cell_type": "code",
   "execution_count": 51,
   "id": "0ec0625a",
   "metadata": {},
   "outputs": [
    {
     "data": {
      "text/plain": [
       "(<805x383 sparse matrix of type '<class 'numpy.float64'>'\n",
       " \twith 12075 stored elements in Compressed Sparse Row format>,\n",
       " 1718    Alive\n",
       " 1204    Alive\n",
       " 2722    Alive\n",
       " 1937     Dead\n",
       " 1226    Alive\n",
       "         ...  \n",
       " 1601    Alive\n",
       " 3471    Alive\n",
       " 3463     Dead\n",
       " 3883     Dead\n",
       " 2215    Alive\n",
       " Name: Status, Length: 805, dtype: object)"
      ]
     },
     "execution_count": 51,
     "metadata": {},
     "output_type": "execute_result"
    }
   ],
   "source": [
    "X_train,y_train\n",
    "X_test, y_test"
   ]
  },
  {
   "cell_type": "code",
   "execution_count": 47,
   "id": "d191fdb4",
   "metadata": {},
   "outputs": [
    {
     "data": {
      "text/plain": [
       "0.8695652173913043"
      ]
     },
     "execution_count": 47,
     "metadata": {},
     "output_type": "execute_result"
    }
   ],
   "source": [
    "# Let's refit the model\n",
    "np.random.seed(42)\n",
    "X_train, X_test, y_train, y_test = train_test_split(transformed_X,\n",
    "                                                    y,\n",
    "                                                    test_size=0.2)\n",
    "\n",
    "model.fit(X_train, y_train)\n",
    "model.score(X_test, y_test)"
   ]
  },
  {
   "cell_type": "code",
   "execution_count": 80,
   "id": "96b995eb",
   "metadata": {},
   "outputs": [
    {
     "data": {
      "text/plain": [
       "1718    Alive\n",
       "1204    Alive\n",
       "2722    Alive\n",
       "1937     Dead\n",
       "1226    Alive\n",
       "        ...  \n",
       "1601    Alive\n",
       "3471    Alive\n",
       "3463     Dead\n",
       "3883     Dead\n",
       "2215    Alive\n",
       "Name: Status, Length: 805, dtype: object"
      ]
     },
     "execution_count": 80,
     "metadata": {},
     "output_type": "execute_result"
    }
   ],
   "source": [
    "y_test"
   ]
  },
  {
   "cell_type": "code",
   "execution_count": 53,
   "id": "6b64050d",
   "metadata": {},
   "outputs": [],
   "source": [
    "# Make predictions\n",
    "y_preds = model.predict(X_test)"
   ]
  },
  {
   "cell_type": "code",
   "execution_count": 55,
   "id": "bc478285",
   "metadata": {},
   "outputs": [
    {
     "data": {
      "text/plain": [
       "array(['Alive', 'Alive', 'Alive', 'Alive', 'Alive', 'Alive', 'Alive',\n",
       "       'Alive', 'Alive', 'Alive'], dtype=object)"
      ]
     },
     "execution_count": 55,
     "metadata": {},
     "output_type": "execute_result"
    }
   ],
   "source": [
    "y_preds[:10]"
   ]
  },
  {
   "cell_type": "code",
   "execution_count": 76,
   "id": "d3e69cc0",
   "metadata": {},
   "outputs": [
    {
     "data": {
      "text/plain": [
       "(array([[0.94444444, 0.05555556],\n",
       "        [0.96666667, 0.03333333],\n",
       "        [0.75555556, 0.24444444],\n",
       "        [0.87777778, 0.12222222],\n",
       "        [1.        , 0.        ],\n",
       "        [0.95555556, 0.04444444],\n",
       "        [1.        , 0.        ],\n",
       "        [0.96666667, 0.03333333],\n",
       "        [0.81111111, 0.18888889],\n",
       "        [0.95555556, 0.04444444]]),\n",
       " 805)"
      ]
     },
     "execution_count": 76,
     "metadata": {},
     "output_type": "execute_result"
    }
   ],
   "source": [
    "# Make predictions with probabilities\n",
    "y_probs = model.predict_proba(X_test)\n",
    "\n",
    "y_probs[:10], len(y_probs)"
   ]
  },
  {
   "cell_type": "code",
   "execution_count": 77,
   "id": "c87574be",
   "metadata": {},
   "outputs": [
    {
     "data": {
      "text/plain": [
       "array([0.05555556, 0.03333333, 0.24444444, 0.12222222, 0.        ,\n",
       "       0.04444444, 0.        , 0.03333333, 0.18888889, 0.04444444])"
      ]
     },
     "execution_count": 77,
     "metadata": {},
     "output_type": "execute_result"
    }
   ],
   "source": [
    "y_probs_positive = y_probs[:, 1]\n",
    "y_probs_positive[:10]"
   ]
  },
  {
   "cell_type": "code",
   "execution_count": 107,
   "id": "b322ee0f",
   "metadata": {},
   "outputs": [
    {
     "name": "stderr",
     "output_type": "stream",
     "text": [
      "C:\\Users\\Henry Morgan\\anaconda3\\lib\\site-packages\\sklearn\\metrics\\_ranking.py:999: UndefinedMetricWarning: No positive samples in y_true, true positive value should be meaningless\n",
      "  warnings.warn(\n"
     ]
    },
    {
     "data": {
      "text/plain": [
       "array([0.        , 0.00248447, 0.00496894, 0.01490683, 0.01863354,\n",
       "       0.02236025, 0.02484472, 0.02732919, 0.0310559 , 0.03850932,\n",
       "       0.04099379, 0.04223602, 0.04720497, 0.05465839, 0.05590062,\n",
       "       0.0621118 , 0.06335404, 0.06708075, 0.07453416, 0.08322981,\n",
       "       0.08695652, 0.10434783, 0.13416149, 0.14782609, 0.15403727,\n",
       "       0.16645963, 0.18012422, 0.18757764, 0.20372671, 0.22236025,\n",
       "       0.24347826, 0.26708075, 0.29813665, 0.32670807, 0.3515528 ,\n",
       "       0.37267081, 0.40621118, 0.44223602, 0.47701863, 0.51801242,\n",
       "       0.57763975, 0.63602484, 0.70931677, 0.79627329, 0.85962733,\n",
       "       0.9242236 , 1.        ])"
      ]
     },
     "execution_count": 107,
     "metadata": {},
     "output_type": "execute_result"
    }
   ],
   "source": [
    "# Caculate fpr, tpr and thresholds\n",
    "from sklearn.metrics import roc_curve\n",
    "\n",
    "fpr, tpr, thresholds_ = roc_curve(y_test, y_probs_positive, pos_label=1)\n",
    "\n",
    "# Check the false positive rates\n",
    "fpr"
   ]
  },
  {
   "cell_type": "code",
   "execution_count": 100,
   "id": "492cda13",
   "metadata": {},
   "outputs": [
    {
     "data": {
      "image/png": "[encoded data removed]",
      "text/plain": [
       "<Figure size 432x288 with 1 Axes>"
      ]
     },
     "metadata": {
      "needs_background": "light"
     },
     "output_type": "display_data"
    }
   ],
   "source": [
    "# Create a function for plotting ROC curves\n",
    "\n",
    "def plot_roc_curve(fpr, tpr):\n",
    "    \"\"\"\n",
    "    Plots a ROC curve given the false positive rate (fpr)\n",
    "    and true positive rate (tpr) of a model.\n",
    "    \"\"\"\n",
    "    # Plot roc curve\n",
    "    plt.plot(fpr, tpr, color=\"orange\", label=\"ROC\")\n",
    "    # Plot line with no predictive power (baseline)\n",
    "    plt.plot([0, 1], [0, 1], color=\"darkblue\", linestyle=\"--\", label=\"Guessing\")\n",
    "    \n",
    "    # Customize the plot\n",
    "    plt.xlabel(\"False positive rate (fpr)\")\n",
    "    plt.ylabel(\"True positive rate (tpr)\")\n",
    "    plt.title(\"Receiver Operating Characteristic (ROC) Curve\")\n",
    "    plt.legend()\n",
    "    plt.show()\n",
    "\n",
    "plot_roc_curve(fpr, tpr)"
   ]
  },
  {
   "cell_type": "code",
   "execution_count": 88,
   "id": "59fe58cc",
   "metadata": {},
   "outputs": [
    {
     "name": "stdout",
     "output_type": "stream",
     "text": [
      "              precision    recall  f1-score   support\n",
      "\n",
      "       Alive       0.87      1.00      0.93       685\n",
      "        Dead       0.89      0.14      0.24       120\n",
      "\n",
      "    accuracy                           0.87       805\n",
      "   macro avg       0.88      0.57      0.59       805\n",
      "weighted avg       0.87      0.87      0.83       805\n",
      "\n"
     ]
    }
   ],
   "source": [
    "from sklearn.metrics import classification_report, confusion_matrix, accuracy_score\n",
    "\n",
    "print(classification_report(y_test, y_preds))"
   ]
  },
  {
   "cell_type": "code",
   "execution_count": 89,
   "id": "3088a5da",
   "metadata": {},
   "outputs": [
    {
     "data": {
      "text/plain": [
       "0.8695652173913043"
      ]
     },
     "execution_count": 89,
     "metadata": {},
     "output_type": "execute_result"
    }
   ],
   "source": [
    "from sklearn.metrics import  accuracy_score\n",
    "accuracy_score(y_test, y_preds)"
   ]
  },
  {
   "cell_type": "code",
   "execution_count": 90,
   "id": "aaa8afe1",
   "metadata": {},
   "outputs": [
    {
     "data": {
      "text/plain": [
       "array([[683,   2],\n",
       "       [103,  17]], dtype=int64)"
      ]
     },
     "execution_count": 90,
     "metadata": {},
     "output_type": "execute_result"
    }
   ],
   "source": [
    "confusion_matrix(y_test, y_preds)"
   ]
  },
  {
   "cell_type": "code",
   "execution_count": 91,
   "id": "eaeb1ddc",
   "metadata": {},
   "outputs": [
    {
     "name": "stdout",
     "output_type": "stream",
     "text": [
      "training accuaracy: 1.0\n"
     ]
    }
   ],
   "source": [
    "# Evaluating the model\n",
    "print(f'training accuaracy: {model.score(X_train,y_train)}')"
   ]
  },
  {
   "cell_type": "code",
   "execution_count": 92,
   "id": "28690c60",
   "metadata": {},
   "outputs": [
    {
     "name": "stdout",
     "output_type": "stream",
     "text": [
      "testing accuaracy: 0.8645962732919255\n"
     ]
    }
   ],
   "source": [
    "print(f'testing accuaracy: {model.score(X_test,y_test)}')"
   ]
  },
  {
   "cell_type": "code",
   "execution_count": 93,
   "id": "00ab694c",
   "metadata": {},
   "outputs": [
    {
     "data": {
      "image/png": "[encoded data removed]",
      "text/plain": [
       "<Figure size 432x288 with 2 Axes>"
      ]
     },
     "metadata": {
      "needs_background": "light"
     },
     "output_type": "display_data"
    }
   ],
   "source": [
    "# Plot confusion matrix from predictions\n",
    "ConfusionMatrixDisplay.from_predictions(y_true=y_test, \n",
    "                                        y_pred=y_preds);"
   ]
  },
  {
   "cell_type": "code",
   "execution_count": 94,
   "id": "087a28da",
   "metadata": {},
   "outputs": [
    {
     "data": {
      "text/html": [
       "<div>\n",
       "<style scoped>\n",
       "    .dataframe tbody tr th:only-of-type {\n",
       "        vertical-align: middle;\n",
       "    }\n",
       "\n",
       "    .dataframe tbody tr th {\n",
       "        vertical-align: top;\n",
       "    }\n",
       "\n",
       "    .dataframe thead th {\n",
       "        text-align: right;\n",
       "    }\n",
       "</style>\n",
       "<table border=\"1\" class=\"dataframe\">\n",
       "  <thead>\n",
       "    <tr style=\"text-align: right;\">\n",
       "      <th>Predicted Label</th>\n",
       "      <th>Alive</th>\n",
       "      <th>Dead</th>\n",
       "    </tr>\n",
       "    <tr>\n",
       "      <th>Actual Label</th>\n",
       "      <th></th>\n",
       "      <th></th>\n",
       "    </tr>\n",
       "  </thead>\n",
       "  <tbody>\n",
       "    <tr>\n",
       "      <th>Alive</th>\n",
       "      <td>683</td>\n",
       "      <td>2</td>\n",
       "    </tr>\n",
       "    <tr>\n",
       "      <th>Dead</th>\n",
       "      <td>103</td>\n",
       "      <td>17</td>\n",
       "    </tr>\n",
       "  </tbody>\n",
       "</table>\n",
       "</div>"
      ],
      "text/plain": [
       "Predicted Label  Alive  Dead\n",
       "Actual Label                \n",
       "Alive              683     2\n",
       "Dead               103    17"
      ]
     },
     "execution_count": 94,
     "metadata": {},
     "output_type": "execute_result"
    }
   ],
   "source": [
    "pd.crosstab(y_test, \n",
    "            y_preds, \n",
    "            rownames=[\"Actual Label\"], \n",
    "            colnames=[\"Predicted Label\"])"
   ]
  },
  {
   "cell_type": "code",
   "execution_count": 95,
   "id": "a1cef6a5",
   "metadata": {},
   "outputs": [
    {
     "name": "stdout",
     "output_type": "stream",
     "text": [
      "Trying model with 10 estimators...\n",
      "Model accuracy on test set: 86.96%\n",
      "\n",
      "Trying model with 20 estimators...\n",
      "Model accuracy on test set: 86.58%\n",
      "\n",
      "Trying model with 30 estimators...\n",
      "Model accuracy on test set: 87.33%\n",
      "\n",
      "Trying model with 40 estimators...\n",
      "Model accuracy on test set: 86.96%\n",
      "\n",
      "Trying model with 50 estimators...\n",
      "Model accuracy on test set: 86.71%\n",
      "\n",
      "Trying model with 60 estimators...\n",
      "Model accuracy on test set: 87.33%\n",
      "\n",
      "Trying model with 70 estimators...\n",
      "Model accuracy on test set: 86.96%\n",
      "\n",
      "Trying model with 80 estimators...\n",
      "Model accuracy on test set: 86.46%\n",
      "\n",
      "Trying model with 90 estimators...\n",
      "Model accuracy on test set: 86.46%\n",
      "\n"
     ]
    }
   ],
   "source": [
    "# Improve a model\n",
    "# Try different amount of n_estimators\n",
    "np.random.seed(42)\n",
    "for i in range(10, 100, 10):\n",
    "    print(f\"Trying model with {i} estimators...\")\n",
    "    model = RandomForestClassifier(n_estimators=i).fit(X_train, y_train)\n",
    "    print(f\"Model accuracy on test set: {model.score(X_test, y_test) * 100:.2f}%\")\n",
    "    print(\"\")"
   ]
  },
  {
   "cell_type": "code",
   "execution_count": 96,
   "id": "d3ee3433",
   "metadata": {},
   "outputs": [],
   "source": [
    "import pickle\n",
    "\n",
    "# Save an extisting model to file\n",
    "pickle.dump(model, open(\"gs_random_random_forest_model_1.pkl\", \"wb\"))"
   ]
  },
  {
   "cell_type": "code",
   "execution_count": 97,
   "id": "091bcfe7",
   "metadata": {},
   "outputs": [],
   "source": [
    "# Load a saved model\n",
    "loaded_pickle_model = pickle.load(open(\"gs_random_random_forest_model_1.pkl\", \"rb\"))"
   ]
  }
 ],
 "metadata": {
  "kernelspec": {
   "display_name": "Python 3 (ipykernel)",
   "language": "python",
   "name": "python3"
  },
  "language_info": {
   "codemirror_mode": {
    "name": "ipython",
    "version": 3
   },
   "file_extension": ".py",
   "mimetype": "text/x-python",
   "name": "python",
   "nbconvert_exporter": "python",
   "pygments_lexer": "ipython3",
   "version": "3.9.12"
  }
 },
 "nbformat": 4,
 "nbformat_minor": 5
}
