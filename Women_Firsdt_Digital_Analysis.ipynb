{
 "cells": [
  {
   "cell_type": "code",
   "execution_count": 1,
   "id": "2bd4d1b0",
   "metadata": {},
   "outputs": [],
   "source": [
    "import pandas as pd\n",
    "import numpy as np\n",
    "import seaborn as sns\n",
    "import matplotlib.pyplot as plt\n",
    "\n",
    "%matplotlib inline\n",
    "\n",
    "import warnings\n",
    "warnings.filterwarnings(\"ignore\")"
   ]
  },
  {
   "cell_type": "code",
   "execution_count": 2,
   "id": "dc935296",
   "metadata": {},
   "outputs": [
    {
     "data": {
      "text/html": [
       "<div>\n",
       "<style scoped>\n",
       "    .dataframe tbody tr th:only-of-type {\n",
       "        vertical-align: middle;\n",
       "    }\n",
       "\n",
       "    .dataframe tbody tr th {\n",
       "        vertical-align: top;\n",
       "    }\n",
       "\n",
       "    .dataframe thead th {\n",
       "        text-align: right;\n",
       "    }\n",
       "</style>\n",
       "<table border=\"1\" class=\"dataframe\">\n",
       "  <thead>\n",
       "    <tr style=\"text-align: right;\">\n",
       "      <th></th>\n",
       "      <th>Ticket ID</th>\n",
       "      <th>Status</th>\n",
       "      <th>Source</th>\n",
       "      <th>Agent</th>\n",
       "      <th>Group</th>\n",
       "      <th>Created time</th>\n",
       "      <th>Month</th>\n",
       "      <th>Last update time</th>\n",
       "      <th>Resolution time (in hrs)</th>\n",
       "      <th>Agent interactions</th>\n",
       "      <th>...</th>\n",
       "      <th>D&amp;E</th>\n",
       "      <th>Induction</th>\n",
       "      <th>PAC</th>\n",
       "      <th>Referral</th>\n",
       "      <th>Ability to pay for referral services/products</th>\n",
       "      <th>Reason for not referring</th>\n",
       "      <th>Reason for referral</th>\n",
       "      <th>ref-Subreason 1</th>\n",
       "      <th>Referred to on-the-ground org</th>\n",
       "      <th>Referred to direct provider</th>\n",
       "    </tr>\n",
       "  </thead>\n",
       "  <tbody>\n",
       "    <tr>\n",
       "      <th>0</th>\n",
       "      <td>92854</td>\n",
       "      <td>Waiting on User</td>\n",
       "      <td>Email</td>\n",
       "      <td>Julia L</td>\n",
       "      <td>Spanish</td>\n",
       "      <td>2022-09-01 00:01:23</td>\n",
       "      <td>September</td>\n",
       "      <td>2022-09-01 16:32:04</td>\n",
       "      <td>00:00:00</td>\n",
       "      <td>1</td>\n",
       "      <td>...</td>\n",
       "      <td>False</td>\n",
       "      <td>False</td>\n",
       "      <td>False</td>\n",
       "      <td>No</td>\n",
       "      <td>NaN</td>\n",
       "      <td>Suspected Pregnancy</td>\n",
       "      <td>NaN</td>\n",
       "      <td>NaN</td>\n",
       "      <td>False</td>\n",
       "      <td>False</td>\n",
       "    </tr>\n",
       "    <tr>\n",
       "      <th>1</th>\n",
       "      <td>92855</td>\n",
       "      <td>Evaluation sent</td>\n",
       "      <td>Chat</td>\n",
       "      <td>No Agent</td>\n",
       "      <td>Spanish</td>\n",
       "      <td>2022-09-01 00:05:46</td>\n",
       "      <td>September</td>\n",
       "      <td>2022-09-27 18:12:41</td>\n",
       "      <td>00:00:00</td>\n",
       "      <td>0</td>\n",
       "      <td>...</td>\n",
       "      <td>False</td>\n",
       "      <td>False</td>\n",
       "      <td>False</td>\n",
       "      <td>NaN</td>\n",
       "      <td>NaN</td>\n",
       "      <td>NaN</td>\n",
       "      <td>NaN</td>\n",
       "      <td>NaN</td>\n",
       "      <td>False</td>\n",
       "      <td>False</td>\n",
       "    </tr>\n",
       "    <tr>\n",
       "      <th>2</th>\n",
       "      <td>92856</td>\n",
       "      <td>Evaluation sent</td>\n",
       "      <td>Email</td>\n",
       "      <td>No Agent</td>\n",
       "      <td>Spanish</td>\n",
       "      <td>2022-09-01 00:10:48</td>\n",
       "      <td>September</td>\n",
       "      <td>2022-09-27 18:12:41</td>\n",
       "      <td>00:00:00</td>\n",
       "      <td>0</td>\n",
       "      <td>...</td>\n",
       "      <td>False</td>\n",
       "      <td>False</td>\n",
       "      <td>False</td>\n",
       "      <td>NaN</td>\n",
       "      <td>NaN</td>\n",
       "      <td>NaN</td>\n",
       "      <td>NaN</td>\n",
       "      <td>NaN</td>\n",
       "      <td>False</td>\n",
       "      <td>False</td>\n",
       "    </tr>\n",
       "    <tr>\n",
       "      <th>3</th>\n",
       "      <td>101202</td>\n",
       "      <td>Waiting on KQ - reminder</td>\n",
       "      <td>Chat</td>\n",
       "      <td>Lucy P</td>\n",
       "      <td>Spanish</td>\n",
       "      <td>2022-09-23 18:20:24</td>\n",
       "      <td>September</td>\n",
       "      <td>2022-09-30 20:23:28</td>\n",
       "      <td>00:00:00</td>\n",
       "      <td>1</td>\n",
       "      <td>...</td>\n",
       "      <td>False</td>\n",
       "      <td>False</td>\n",
       "      <td>False</td>\n",
       "      <td>No</td>\n",
       "      <td>NaN</td>\n",
       "      <td>Dropped</td>\n",
       "      <td>NaN</td>\n",
       "      <td>NaN</td>\n",
       "      <td>False</td>\n",
       "      <td>False</td>\n",
       "    </tr>\n",
       "    <tr>\n",
       "      <th>4</th>\n",
       "      <td>101407</td>\n",
       "      <td>Waiting on KQ</td>\n",
       "      <td>Chat</td>\n",
       "      <td>No Agent</td>\n",
       "      <td>No Group</td>\n",
       "      <td>2022-09-24 12:16:03</td>\n",
       "      <td>September</td>\n",
       "      <td>2022-09-24 12:16:03</td>\n",
       "      <td>00:00:00</td>\n",
       "      <td>0</td>\n",
       "      <td>...</td>\n",
       "      <td>False</td>\n",
       "      <td>False</td>\n",
       "      <td>False</td>\n",
       "      <td>NaN</td>\n",
       "      <td>NaN</td>\n",
       "      <td>NaN</td>\n",
       "      <td>NaN</td>\n",
       "      <td>NaN</td>\n",
       "      <td>False</td>\n",
       "      <td>False</td>\n",
       "    </tr>\n",
       "  </tbody>\n",
       "</table>\n",
       "<p>5 rows × 45 columns</p>\n",
       "</div>"
      ],
      "text/plain": [
       "   Ticket ID                    Status Source     Agent     Group  \\\n",
       "0      92854           Waiting on User  Email   Julia L   Spanish   \n",
       "1      92855           Evaluation sent   Chat  No Agent   Spanish   \n",
       "2      92856           Evaluation sent  Email  No Agent   Spanish   \n",
       "3     101202  Waiting on KQ - reminder   Chat    Lucy P   Spanish   \n",
       "4     101407             Waiting on KQ   Chat  No Agent  No Group   \n",
       "\n",
       "          Created time      Month     Last update time  \\\n",
       "0  2022-09-01 00:01:23  September  2022-09-01 16:32:04   \n",
       "1  2022-09-01 00:05:46  September  2022-09-27 18:12:41   \n",
       "2  2022-09-01 00:10:48  September  2022-09-27 18:12:41   \n",
       "3  2022-09-23 18:20:24  September  2022-09-30 20:23:28   \n",
       "4  2022-09-24 12:16:03  September  2022-09-24 12:16:03   \n",
       "\n",
       "  Resolution time (in hrs)  Agent interactions  ...    D&E Induction    PAC  \\\n",
       "0                 00:00:00                   1  ...  False     False  False   \n",
       "1                 00:00:00                   0  ...  False     False  False   \n",
       "2                 00:00:00                   0  ...  False     False  False   \n",
       "3                 00:00:00                   1  ...  False     False  False   \n",
       "4                 00:00:00                   0  ...  False     False  False   \n",
       "\n",
       "  Referral   Ability to pay for referral services/products  \\\n",
       "0        No                                            NaN   \n",
       "1       NaN                                            NaN   \n",
       "2       NaN                                            NaN   \n",
       "3        No                                            NaN   \n",
       "4       NaN                                            NaN   \n",
       "\n",
       "  Reason for not referring Reason for referral ref-Subreason 1  \\\n",
       "0      Suspected Pregnancy                 NaN             NaN   \n",
       "1                      NaN                 NaN             NaN   \n",
       "2                      NaN                 NaN             NaN   \n",
       "3                  Dropped                 NaN             NaN   \n",
       "4                      NaN                 NaN             NaN   \n",
       "\n",
       "  Referred to on-the-ground org  Referred to direct provider  \n",
       "0                         False                        False  \n",
       "1                         False                        False  \n",
       "2                         False                        False  \n",
       "3                         False                        False  \n",
       "4                         False                        False  \n",
       "\n",
       "[5 rows x 45 columns]"
      ]
     },
     "execution_count": 2,
     "metadata": {},
     "output_type": "execute_result"
    }
   ],
   "source": [
    "df1 = pd.read_excel(\"Counselling_referral data_Sep - Dec 2022 - safe2choose (1).xlsx\")\n",
    "df1.head()"
   ]
  },
  {
   "cell_type": "code",
   "execution_count": 3,
   "id": "9adb16dd",
   "metadata": {},
   "outputs": [
    {
     "name": "stdout",
     "output_type": "stream",
     "text": [
      "<class 'pandas.core.frame.DataFrame'>\n",
      "RangeIndex: 2336 entries, 0 to 2335\n",
      "Data columns (total 45 columns):\n",
      " #   Column                                         Non-Null Count  Dtype  \n",
      "---  ------                                         --------------  -----  \n",
      " 0   Ticket ID                                      2336 non-null   int64  \n",
      " 1   Status                                         2336 non-null   object \n",
      " 2   Source                                         2336 non-null   object \n",
      " 3   Agent                                          2336 non-null   object \n",
      " 4   Group                                          2336 non-null   object \n",
      " 5   Created time                                   2336 non-null   object \n",
      " 6   Month                                          2336 non-null   object \n",
      " 7   Last update time                               2336 non-null   object \n",
      " 8   Resolution time (in hrs)                       2336 non-null   object \n",
      " 9   Agent interactions                             2336 non-null   int64  \n",
      " 10  Customer interactions                          2336 non-null   int64  \n",
      " 11  First response status                          587 non-null    object \n",
      " 12  Tags                                           1291 non-null   object \n",
      " 13  Countries (NEW)                                573 non-null    object \n",
      " 14  Region                                         0 non-null      float64\n",
      " 15  Agent 2                                        88 non-null     object \n",
      " 16  Agent 3                                        11 non-null     object \n",
      " 17  Language                                       1758 non-null   object \n",
      " 18  City                                           364 non-null    object \n",
      " 19  Age                                            34 non-null     float64\n",
      " 20  Gestational weeks at first contact             384 non-null    object \n",
      " 21  + days                                         287 non-null    float64\n",
      " 22  Main reason for contact                        693 non-null    object \n",
      " 23  Subreason 1                                    245 non-null    object \n",
      " 24  Subreason 2                                    78 non-null     object \n",
      " 25  2nd reason for contact                         239 non-null    object \n",
      " 26  2nd Subreason 1                                196 non-null    object \n",
      " 27  3rd reason for contact                         38 non-null     object \n",
      " 28  3rd Subreason 1                                29 non-null     object \n",
      " 29  In possession of pills                         367 non-null    object \n",
      " 30  Kind of pills                                  90 non-null     object \n",
      " 31  Amount of pills                                63 non-null     object \n",
      " 32  Abortion method counselled on                  412 non-null    object \n",
      " 33  MA                                             2336 non-null   bool   \n",
      " 34  MVA/EVA                                        2336 non-null   bool   \n",
      " 35  D&E                                            2336 non-null   bool   \n",
      " 36  Induction                                      2336 non-null   bool   \n",
      " 37  PAC                                            2336 non-null   bool   \n",
      " 38  Referral                                       688 non-null    object \n",
      " 39  Ability to pay for referral services/products  3 non-null      object \n",
      " 40  Reason for not referring                       320 non-null    object \n",
      " 41  Reason for referral                            397 non-null    object \n",
      " 42  ref-Subreason 1                                2 non-null      object \n",
      " 43  Referred to on-the-ground org                  2336 non-null   bool   \n",
      " 44  Referred to direct provider                    2336 non-null   bool   \n",
      "dtypes: bool(7), float64(3), int64(3), object(32)\n",
      "memory usage: 709.6+ KB\n"
     ]
    }
   ],
   "source": [
    "df1.info()"
   ]
  },
  {
   "cell_type": "code",
   "execution_count": 4,
   "id": "c46c3594",
   "metadata": {},
   "outputs": [
    {
     "data": {
      "text/html": [
       "<div>\n",
       "<style scoped>\n",
       "    .dataframe tbody tr th:only-of-type {\n",
       "        vertical-align: middle;\n",
       "    }\n",
       "\n",
       "    .dataframe tbody tr th {\n",
       "        vertical-align: top;\n",
       "    }\n",
       "\n",
       "    .dataframe thead th {\n",
       "        text-align: right;\n",
       "    }\n",
       "</style>\n",
       "<table border=\"1\" class=\"dataframe\">\n",
       "  <thead>\n",
       "    <tr style=\"text-align: right;\">\n",
       "      <th></th>\n",
       "      <th>Ticket ID</th>\n",
       "      <th>Agent interactions</th>\n",
       "      <th>Customer interactions</th>\n",
       "      <th>Region</th>\n",
       "      <th>Age</th>\n",
       "      <th>+ days</th>\n",
       "      <th>MA</th>\n",
       "      <th>MVA/EVA</th>\n",
       "      <th>D&amp;E</th>\n",
       "      <th>Induction</th>\n",
       "      <th>PAC</th>\n",
       "      <th>Referred to on-the-ground org</th>\n",
       "      <th>Referred to direct provider</th>\n",
       "    </tr>\n",
       "  </thead>\n",
       "  <tbody>\n",
       "    <tr>\n",
       "      <th>Ticket ID</th>\n",
       "      <td>1.000000</td>\n",
       "      <td>-0.035752</td>\n",
       "      <td>-0.044351</td>\n",
       "      <td>NaN</td>\n",
       "      <td>0.178044</td>\n",
       "      <td>0.077881</td>\n",
       "      <td>-0.027744</td>\n",
       "      <td>-0.001457</td>\n",
       "      <td>0.002244</td>\n",
       "      <td>-0.004405</td>\n",
       "      <td>0.002838</td>\n",
       "      <td>-0.039085</td>\n",
       "      <td>-0.027828</td>\n",
       "    </tr>\n",
       "    <tr>\n",
       "      <th>Agent interactions</th>\n",
       "      <td>-0.035752</td>\n",
       "      <td>1.000000</td>\n",
       "      <td>0.754758</td>\n",
       "      <td>NaN</td>\n",
       "      <td>-0.125321</td>\n",
       "      <td>0.045541</td>\n",
       "      <td>0.560131</td>\n",
       "      <td>0.127262</td>\n",
       "      <td>0.087121</td>\n",
       "      <td>0.084799</td>\n",
       "      <td>0.275291</td>\n",
       "      <td>0.509586</td>\n",
       "      <td>0.138334</td>\n",
       "    </tr>\n",
       "    <tr>\n",
       "      <th>Customer interactions</th>\n",
       "      <td>-0.044351</td>\n",
       "      <td>0.754758</td>\n",
       "      <td>1.000000</td>\n",
       "      <td>NaN</td>\n",
       "      <td>0.040484</td>\n",
       "      <td>0.005504</td>\n",
       "      <td>0.474834</td>\n",
       "      <td>0.117633</td>\n",
       "      <td>0.156038</td>\n",
       "      <td>0.146411</td>\n",
       "      <td>0.191439</td>\n",
       "      <td>0.471374</td>\n",
       "      <td>0.129254</td>\n",
       "    </tr>\n",
       "    <tr>\n",
       "      <th>Region</th>\n",
       "      <td>NaN</td>\n",
       "      <td>NaN</td>\n",
       "      <td>NaN</td>\n",
       "      <td>NaN</td>\n",
       "      <td>NaN</td>\n",
       "      <td>NaN</td>\n",
       "      <td>NaN</td>\n",
       "      <td>NaN</td>\n",
       "      <td>NaN</td>\n",
       "      <td>NaN</td>\n",
       "      <td>NaN</td>\n",
       "      <td>NaN</td>\n",
       "      <td>NaN</td>\n",
       "    </tr>\n",
       "    <tr>\n",
       "      <th>Age</th>\n",
       "      <td>0.178044</td>\n",
       "      <td>-0.125321</td>\n",
       "      <td>0.040484</td>\n",
       "      <td>NaN</td>\n",
       "      <td>1.000000</td>\n",
       "      <td>-0.421508</td>\n",
       "      <td>0.147828</td>\n",
       "      <td>NaN</td>\n",
       "      <td>NaN</td>\n",
       "      <td>NaN</td>\n",
       "      <td>-0.007619</td>\n",
       "      <td>-0.128810</td>\n",
       "      <td>-0.100908</td>\n",
       "    </tr>\n",
       "    <tr>\n",
       "      <th>+ days</th>\n",
       "      <td>0.077881</td>\n",
       "      <td>0.045541</td>\n",
       "      <td>0.005504</td>\n",
       "      <td>NaN</td>\n",
       "      <td>-0.421508</td>\n",
       "      <td>1.000000</td>\n",
       "      <td>0.064458</td>\n",
       "      <td>-0.037327</td>\n",
       "      <td>-0.117358</td>\n",
       "      <td>-0.081600</td>\n",
       "      <td>0.132612</td>\n",
       "      <td>0.037633</td>\n",
       "      <td>0.070658</td>\n",
       "    </tr>\n",
       "    <tr>\n",
       "      <th>MA</th>\n",
       "      <td>-0.027744</td>\n",
       "      <td>0.560131</td>\n",
       "      <td>0.474834</td>\n",
       "      <td>NaN</td>\n",
       "      <td>0.147828</td>\n",
       "      <td>0.064458</td>\n",
       "      <td>1.000000</td>\n",
       "      <td>0.145971</td>\n",
       "      <td>-0.025651</td>\n",
       "      <td>-0.022612</td>\n",
       "      <td>0.187213</td>\n",
       "      <td>0.683591</td>\n",
       "      <td>0.166644</td>\n",
       "    </tr>\n",
       "    <tr>\n",
       "      <th>MVA/EVA</th>\n",
       "      <td>-0.001457</td>\n",
       "      <td>0.127262</td>\n",
       "      <td>0.117633</td>\n",
       "      <td>NaN</td>\n",
       "      <td>NaN</td>\n",
       "      <td>-0.037327</td>\n",
       "      <td>0.145971</td>\n",
       "      <td>1.000000</td>\n",
       "      <td>0.170755</td>\n",
       "      <td>0.118966</td>\n",
       "      <td>0.079519</td>\n",
       "      <td>0.140714</td>\n",
       "      <td>-0.007910</td>\n",
       "    </tr>\n",
       "    <tr>\n",
       "      <th>D&amp;E</th>\n",
       "      <td>0.002244</td>\n",
       "      <td>0.087121</td>\n",
       "      <td>0.156038</td>\n",
       "      <td>NaN</td>\n",
       "      <td>NaN</td>\n",
       "      <td>-0.117358</td>\n",
       "      <td>-0.025651</td>\n",
       "      <td>0.170755</td>\n",
       "      <td>1.000000</td>\n",
       "      <td>0.942403</td>\n",
       "      <td>-0.010385</td>\n",
       "      <td>0.156205</td>\n",
       "      <td>0.095342</td>\n",
       "    </tr>\n",
       "    <tr>\n",
       "      <th>Induction</th>\n",
       "      <td>-0.004405</td>\n",
       "      <td>0.084799</td>\n",
       "      <td>0.146411</td>\n",
       "      <td>NaN</td>\n",
       "      <td>NaN</td>\n",
       "      <td>-0.081600</td>\n",
       "      <td>-0.022612</td>\n",
       "      <td>0.118966</td>\n",
       "      <td>0.942403</td>\n",
       "      <td>1.000000</td>\n",
       "      <td>-0.009787</td>\n",
       "      <td>0.169937</td>\n",
       "      <td>0.102070</td>\n",
       "    </tr>\n",
       "    <tr>\n",
       "      <th>PAC</th>\n",
       "      <td>0.002838</td>\n",
       "      <td>0.275291</td>\n",
       "      <td>0.191439</td>\n",
       "      <td>NaN</td>\n",
       "      <td>-0.007619</td>\n",
       "      <td>0.132612</td>\n",
       "      <td>0.187213</td>\n",
       "      <td>0.079519</td>\n",
       "      <td>-0.010385</td>\n",
       "      <td>-0.009787</td>\n",
       "      <td>1.000000</td>\n",
       "      <td>0.096010</td>\n",
       "      <td>0.027794</td>\n",
       "    </tr>\n",
       "    <tr>\n",
       "      <th>Referred to on-the-ground org</th>\n",
       "      <td>-0.039085</td>\n",
       "      <td>0.509586</td>\n",
       "      <td>0.471374</td>\n",
       "      <td>NaN</td>\n",
       "      <td>-0.128810</td>\n",
       "      <td>0.037633</td>\n",
       "      <td>0.683591</td>\n",
       "      <td>0.140714</td>\n",
       "      <td>0.156205</td>\n",
       "      <td>0.169937</td>\n",
       "      <td>0.096010</td>\n",
       "      <td>1.000000</td>\n",
       "      <td>0.215646</td>\n",
       "    </tr>\n",
       "    <tr>\n",
       "      <th>Referred to direct provider</th>\n",
       "      <td>-0.027828</td>\n",
       "      <td>0.138334</td>\n",
       "      <td>0.129254</td>\n",
       "      <td>NaN</td>\n",
       "      <td>-0.100908</td>\n",
       "      <td>0.070658</td>\n",
       "      <td>0.166644</td>\n",
       "      <td>-0.007910</td>\n",
       "      <td>0.095342</td>\n",
       "      <td>0.102070</td>\n",
       "      <td>0.027794</td>\n",
       "      <td>0.215646</td>\n",
       "      <td>1.000000</td>\n",
       "    </tr>\n",
       "  </tbody>\n",
       "</table>\n",
       "</div>"
      ],
      "text/plain": [
       "                               Ticket ID  Agent interactions  \\\n",
       "Ticket ID                       1.000000           -0.035752   \n",
       "Agent interactions             -0.035752            1.000000   \n",
       "Customer interactions          -0.044351            0.754758   \n",
       "Region                               NaN                 NaN   \n",
       "Age                             0.178044           -0.125321   \n",
       "+ days                          0.077881            0.045541   \n",
       "MA                             -0.027744            0.560131   \n",
       "MVA/EVA                        -0.001457            0.127262   \n",
       "D&E                             0.002244            0.087121   \n",
       "Induction                      -0.004405            0.084799   \n",
       "PAC                             0.002838            0.275291   \n",
       "Referred to on-the-ground org  -0.039085            0.509586   \n",
       "Referred to direct provider    -0.027828            0.138334   \n",
       "\n",
       "                               Customer interactions  Region       Age  \\\n",
       "Ticket ID                                  -0.044351     NaN  0.178044   \n",
       "Agent interactions                          0.754758     NaN -0.125321   \n",
       "Customer interactions                       1.000000     NaN  0.040484   \n",
       "Region                                           NaN     NaN       NaN   \n",
       "Age                                         0.040484     NaN  1.000000   \n",
       "+ days                                      0.005504     NaN -0.421508   \n",
       "MA                                          0.474834     NaN  0.147828   \n",
       "MVA/EVA                                     0.117633     NaN       NaN   \n",
       "D&E                                         0.156038     NaN       NaN   \n",
       "Induction                                   0.146411     NaN       NaN   \n",
       "PAC                                         0.191439     NaN -0.007619   \n",
       "Referred to on-the-ground org               0.471374     NaN -0.128810   \n",
       "Referred to direct provider                 0.129254     NaN -0.100908   \n",
       "\n",
       "                                 + days        MA   MVA/EVA       D&E  \\\n",
       "Ticket ID                      0.077881 -0.027744 -0.001457  0.002244   \n",
       "Agent interactions             0.045541  0.560131  0.127262  0.087121   \n",
       "Customer interactions          0.005504  0.474834  0.117633  0.156038   \n",
       "Region                              NaN       NaN       NaN       NaN   \n",
       "Age                           -0.421508  0.147828       NaN       NaN   \n",
       "+ days                         1.000000  0.064458 -0.037327 -0.117358   \n",
       "MA                             0.064458  1.000000  0.145971 -0.025651   \n",
       "MVA/EVA                       -0.037327  0.145971  1.000000  0.170755   \n",
       "D&E                           -0.117358 -0.025651  0.170755  1.000000   \n",
       "Induction                     -0.081600 -0.022612  0.118966  0.942403   \n",
       "PAC                            0.132612  0.187213  0.079519 -0.010385   \n",
       "Referred to on-the-ground org  0.037633  0.683591  0.140714  0.156205   \n",
       "Referred to direct provider    0.070658  0.166644 -0.007910  0.095342   \n",
       "\n",
       "                               Induction       PAC  \\\n",
       "Ticket ID                      -0.004405  0.002838   \n",
       "Agent interactions              0.084799  0.275291   \n",
       "Customer interactions           0.146411  0.191439   \n",
       "Region                               NaN       NaN   \n",
       "Age                                  NaN -0.007619   \n",
       "+ days                         -0.081600  0.132612   \n",
       "MA                             -0.022612  0.187213   \n",
       "MVA/EVA                         0.118966  0.079519   \n",
       "D&E                             0.942403 -0.010385   \n",
       "Induction                       1.000000 -0.009787   \n",
       "PAC                            -0.009787  1.000000   \n",
       "Referred to on-the-ground org   0.169937  0.096010   \n",
       "Referred to direct provider     0.102070  0.027794   \n",
       "\n",
       "                               Referred to on-the-ground org  \\\n",
       "Ticket ID                                          -0.039085   \n",
       "Agent interactions                                  0.509586   \n",
       "Customer interactions                               0.471374   \n",
       "Region                                                   NaN   \n",
       "Age                                                -0.128810   \n",
       "+ days                                              0.037633   \n",
       "MA                                                  0.683591   \n",
       "MVA/EVA                                             0.140714   \n",
       "D&E                                                 0.156205   \n",
       "Induction                                           0.169937   \n",
       "PAC                                                 0.096010   \n",
       "Referred to on-the-ground org                       1.000000   \n",
       "Referred to direct provider                         0.215646   \n",
       "\n",
       "                               Referred to direct provider  \n",
       "Ticket ID                                        -0.027828  \n",
       "Agent interactions                                0.138334  \n",
       "Customer interactions                             0.129254  \n",
       "Region                                                 NaN  \n",
       "Age                                              -0.100908  \n",
       "+ days                                            0.070658  \n",
       "MA                                                0.166644  \n",
       "MVA/EVA                                          -0.007910  \n",
       "D&E                                               0.095342  \n",
       "Induction                                         0.102070  \n",
       "PAC                                               0.027794  \n",
       "Referred to on-the-ground org                     0.215646  \n",
       "Referred to direct provider                       1.000000  "
      ]
     },
     "execution_count": 4,
     "metadata": {},
     "output_type": "execute_result"
    }
   ],
   "source": [
    "df1.corr()"
   ]
  },
  {
   "cell_type": "code",
   "execution_count": 5,
   "id": "bcec50b3",
   "metadata": {},
   "outputs": [
    {
     "data": {
      "text/plain": [
       "Ticket ID                                          0.000000\n",
       "Status                                             0.000000\n",
       "Source                                             0.000000\n",
       "Agent                                              0.000000\n",
       "Group                                              0.000000\n",
       "Created time                                       0.000000\n",
       "Month                                              0.000000\n",
       "Last update time                                   0.000000\n",
       "Resolution time (in hrs)                           0.000000\n",
       "Agent interactions                                 0.000000\n",
       "Customer interactions                              0.000000\n",
       "First response status                             74.871575\n",
       "Tags                                              44.734589\n",
       "Countries (NEW)                                   75.470890\n",
       "Region                                           100.000000\n",
       "Agent 2                                           96.232877\n",
       "Agent 3                                           99.529110\n",
       "Language                                          24.743151\n",
       "City                                              84.417808\n",
       "Age                                               98.544521\n",
       "Gestational weeks at first contact                83.561644\n",
       "+ days                                            87.714041\n",
       "Main reason for contact                           70.333904\n",
       "Subreason 1                                       89.511986\n",
       "Subreason 2                                       96.660959\n",
       "2nd reason for contact                            89.768836\n",
       "2nd Subreason 1                                   91.609589\n",
       "3rd reason for contact                            98.373288\n",
       "3rd Subreason 1                                   98.758562\n",
       "In possession of pills                            84.289384\n",
       "Kind of pills                                     96.147260\n",
       "Amount of pills                                   97.303082\n",
       "Abortion method counselled on                     82.363014\n",
       "MA                                                 0.000000\n",
       "MVA/EVA                                            0.000000\n",
       "D&E                                                0.000000\n",
       "Induction                                          0.000000\n",
       "PAC                                                0.000000\n",
       "Referral                                          70.547945\n",
       "Ability to pay for referral services/products     99.871575\n",
       "Reason for not referring                          86.301370\n",
       "Reason for referral                               83.005137\n",
       "ref-Subreason 1                                   99.914384\n",
       "Referred to on-the-ground org                      0.000000\n",
       "Referred to direct provider                        0.000000\n",
       "dtype: float64"
      ]
     },
     "execution_count": 5,
     "metadata": {},
     "output_type": "execute_result"
    }
   ],
   "source": [
    "miss = df1.isnull().sum()/len(df1) *100\n",
    "miss"
   ]
  },
  {
   "cell_type": "code",
   "execution_count": 6,
   "id": "19070a3e",
   "metadata": {},
   "outputs": [],
   "source": [
    "for i in miss.index:\n",
    "    if miss[i]>60:\n",
    "        df1 = df1.drop(i, 1)"
   ]
  },
  {
   "cell_type": "code",
   "execution_count": 7,
   "id": "aaa34923",
   "metadata": {},
   "outputs": [
    {
     "name": "stdout",
     "output_type": "stream",
     "text": [
      "<class 'pandas.core.frame.DataFrame'>\n",
      "RangeIndex: 2336 entries, 0 to 2335\n",
      "Data columns (total 20 columns):\n",
      " #   Column                         Non-Null Count  Dtype \n",
      "---  ------                         --------------  ----- \n",
      " 0   Ticket ID                      2336 non-null   int64 \n",
      " 1   Status                         2336 non-null   object\n",
      " 2   Source                         2336 non-null   object\n",
      " 3   Agent                          2336 non-null   object\n",
      " 4   Group                          2336 non-null   object\n",
      " 5   Created time                   2336 non-null   object\n",
      " 6   Month                          2336 non-null   object\n",
      " 7   Last update time               2336 non-null   object\n",
      " 8   Resolution time (in hrs)       2336 non-null   object\n",
      " 9   Agent interactions             2336 non-null   int64 \n",
      " 10  Customer interactions          2336 non-null   int64 \n",
      " 11  Tags                           1291 non-null   object\n",
      " 12  Language                       1758 non-null   object\n",
      " 13  MA                             2336 non-null   bool  \n",
      " 14  MVA/EVA                        2336 non-null   bool  \n",
      " 15  D&E                            2336 non-null   bool  \n",
      " 16  Induction                      2336 non-null   bool  \n",
      " 17  PAC                            2336 non-null   bool  \n",
      " 18  Referred to on-the-ground org  2336 non-null   bool  \n",
      " 19  Referred to direct provider    2336 non-null   bool  \n",
      "dtypes: bool(7), int64(3), object(10)\n",
      "memory usage: 253.3+ KB\n"
     ]
    }
   ],
   "source": [
    "df1.info()"
   ]
  },
  {
   "cell_type": "code",
   "execution_count": 8,
   "id": "0649a731",
   "metadata": {},
   "outputs": [
    {
     "data": {
      "text/plain": [
       "Ticket ID                           0\n",
       "Status                              0\n",
       "Source                              0\n",
       "Agent                               0\n",
       "Group                               0\n",
       "Created time                        0\n",
       "Month                               0\n",
       "Last update time                    0\n",
       "Resolution time (in hrs)            0\n",
       "Agent interactions                  0\n",
       "Customer interactions               0\n",
       "Tags                             1045\n",
       "Language                          578\n",
       "MA                                  0\n",
       "MVA/EVA                             0\n",
       "D&E                                 0\n",
       "Induction                           0\n",
       "PAC                                 0\n",
       "Referred to on-the-ground org       0\n",
       "Referred to direct provider         0\n",
       "dtype: int64"
      ]
     },
     "execution_count": 8,
     "metadata": {},
     "output_type": "execute_result"
    }
   ],
   "source": [
    "df1.isnull().sum()"
   ]
  },
  {
   "cell_type": "code",
   "execution_count": 9,
   "id": "ad7aeaf7",
   "metadata": {},
   "outputs": [
    {
     "data": {
      "text/html": [
       "<div>\n",
       "<style scoped>\n",
       "    .dataframe tbody tr th:only-of-type {\n",
       "        vertical-align: middle;\n",
       "    }\n",
       "\n",
       "    .dataframe tbody tr th {\n",
       "        vertical-align: top;\n",
       "    }\n",
       "\n",
       "    .dataframe thead th {\n",
       "        text-align: right;\n",
       "    }\n",
       "</style>\n",
       "<table border=\"1\" class=\"dataframe\">\n",
       "  <thead>\n",
       "    <tr style=\"text-align: right;\">\n",
       "      <th></th>\n",
       "      <th>Ticket ID</th>\n",
       "      <th>Status</th>\n",
       "      <th>Source</th>\n",
       "      <th>Agent</th>\n",
       "      <th>Group</th>\n",
       "      <th>Created time</th>\n",
       "      <th>Month</th>\n",
       "      <th>Last update time</th>\n",
       "      <th>Resolution time (in hrs)</th>\n",
       "      <th>Agent interactions</th>\n",
       "      <th>Customer interactions</th>\n",
       "      <th>Tags</th>\n",
       "      <th>Language</th>\n",
       "      <th>MA</th>\n",
       "      <th>MVA/EVA</th>\n",
       "      <th>D&amp;E</th>\n",
       "      <th>Induction</th>\n",
       "      <th>PAC</th>\n",
       "      <th>Referred to on-the-ground org</th>\n",
       "      <th>Referred to direct provider</th>\n",
       "    </tr>\n",
       "  </thead>\n",
       "  <tbody>\n",
       "    <tr>\n",
       "      <th>0</th>\n",
       "      <td>92854</td>\n",
       "      <td>Waiting on User</td>\n",
       "      <td>Email</td>\n",
       "      <td>Julia L</td>\n",
       "      <td>Spanish</td>\n",
       "      <td>2022-09-01 00:01:23</td>\n",
       "      <td>September</td>\n",
       "      <td>2022-09-01 16:32:04</td>\n",
       "      <td>00:00:00</td>\n",
       "      <td>1</td>\n",
       "      <td>2</td>\n",
       "      <td>NaN</td>\n",
       "      <td>Spanish</td>\n",
       "      <td>False</td>\n",
       "      <td>False</td>\n",
       "      <td>False</td>\n",
       "      <td>False</td>\n",
       "      <td>False</td>\n",
       "      <td>False</td>\n",
       "      <td>False</td>\n",
       "    </tr>\n",
       "    <tr>\n",
       "      <th>1</th>\n",
       "      <td>92855</td>\n",
       "      <td>Evaluation sent</td>\n",
       "      <td>Chat</td>\n",
       "      <td>No Agent</td>\n",
       "      <td>Spanish</td>\n",
       "      <td>2022-09-01 00:05:46</td>\n",
       "      <td>September</td>\n",
       "      <td>2022-09-27 18:12:41</td>\n",
       "      <td>00:00:00</td>\n",
       "      <td>0</td>\n",
       "      <td>1</td>\n",
       "      <td>Away conversation</td>\n",
       "      <td>Spanish</td>\n",
       "      <td>False</td>\n",
       "      <td>False</td>\n",
       "      <td>False</td>\n",
       "      <td>False</td>\n",
       "      <td>False</td>\n",
       "      <td>False</td>\n",
       "      <td>False</td>\n",
       "    </tr>\n",
       "    <tr>\n",
       "      <th>2</th>\n",
       "      <td>92856</td>\n",
       "      <td>Evaluation sent</td>\n",
       "      <td>Email</td>\n",
       "      <td>No Agent</td>\n",
       "      <td>Spanish</td>\n",
       "      <td>2022-09-01 00:10:48</td>\n",
       "      <td>September</td>\n",
       "      <td>2022-09-27 18:12:41</td>\n",
       "      <td>00:00:00</td>\n",
       "      <td>0</td>\n",
       "      <td>1</td>\n",
       "      <td>NaN</td>\n",
       "      <td>Spanish</td>\n",
       "      <td>False</td>\n",
       "      <td>False</td>\n",
       "      <td>False</td>\n",
       "      <td>False</td>\n",
       "      <td>False</td>\n",
       "      <td>False</td>\n",
       "      <td>False</td>\n",
       "    </tr>\n",
       "    <tr>\n",
       "      <th>3</th>\n",
       "      <td>101202</td>\n",
       "      <td>Waiting on KQ - reminder</td>\n",
       "      <td>Chat</td>\n",
       "      <td>Lucy P</td>\n",
       "      <td>Spanish</td>\n",
       "      <td>2022-09-23 18:20:24</td>\n",
       "      <td>September</td>\n",
       "      <td>2022-09-30 20:23:28</td>\n",
       "      <td>00:00:00</td>\n",
       "      <td>1</td>\n",
       "      <td>1</td>\n",
       "      <td>NaN</td>\n",
       "      <td>Spanish</td>\n",
       "      <td>False</td>\n",
       "      <td>False</td>\n",
       "      <td>False</td>\n",
       "      <td>False</td>\n",
       "      <td>False</td>\n",
       "      <td>False</td>\n",
       "      <td>False</td>\n",
       "    </tr>\n",
       "    <tr>\n",
       "      <th>4</th>\n",
       "      <td>101407</td>\n",
       "      <td>Waiting on KQ</td>\n",
       "      <td>Chat</td>\n",
       "      <td>No Agent</td>\n",
       "      <td>No Group</td>\n",
       "      <td>2022-09-24 12:16:03</td>\n",
       "      <td>September</td>\n",
       "      <td>2022-09-24 12:16:03</td>\n",
       "      <td>00:00:00</td>\n",
       "      <td>0</td>\n",
       "      <td>1</td>\n",
       "      <td>Away conversation</td>\n",
       "      <td>NaN</td>\n",
       "      <td>False</td>\n",
       "      <td>False</td>\n",
       "      <td>False</td>\n",
       "      <td>False</td>\n",
       "      <td>False</td>\n",
       "      <td>False</td>\n",
       "      <td>False</td>\n",
       "    </tr>\n",
       "  </tbody>\n",
       "</table>\n",
       "</div>"
      ],
      "text/plain": [
       "   Ticket ID                    Status Source     Agent     Group  \\\n",
       "0      92854           Waiting on User  Email   Julia L   Spanish   \n",
       "1      92855           Evaluation sent   Chat  No Agent   Spanish   \n",
       "2      92856           Evaluation sent  Email  No Agent   Spanish   \n",
       "3     101202  Waiting on KQ - reminder   Chat    Lucy P   Spanish   \n",
       "4     101407             Waiting on KQ   Chat  No Agent  No Group   \n",
       "\n",
       "          Created time      Month     Last update time  \\\n",
       "0  2022-09-01 00:01:23  September  2022-09-01 16:32:04   \n",
       "1  2022-09-01 00:05:46  September  2022-09-27 18:12:41   \n",
       "2  2022-09-01 00:10:48  September  2022-09-27 18:12:41   \n",
       "3  2022-09-23 18:20:24  September  2022-09-30 20:23:28   \n",
       "4  2022-09-24 12:16:03  September  2022-09-24 12:16:03   \n",
       "\n",
       "  Resolution time (in hrs)  Agent interactions  Customer interactions  \\\n",
       "0                 00:00:00                   1                      2   \n",
       "1                 00:00:00                   0                      1   \n",
       "2                 00:00:00                   0                      1   \n",
       "3                 00:00:00                   1                      1   \n",
       "4                 00:00:00                   0                      1   \n",
       "\n",
       "                Tags Language     MA  MVA/EVA    D&E  Induction    PAC  \\\n",
       "0                NaN  Spanish  False    False  False      False  False   \n",
       "1  Away conversation  Spanish  False    False  False      False  False   \n",
       "2                NaN  Spanish  False    False  False      False  False   \n",
       "3                NaN  Spanish  False    False  False      False  False   \n",
       "4  Away conversation      NaN  False    False  False      False  False   \n",
       "\n",
       "   Referred to on-the-ground org  Referred to direct provider  \n",
       "0                          False                        False  \n",
       "1                          False                        False  \n",
       "2                          False                        False  \n",
       "3                          False                        False  \n",
       "4                          False                        False  "
      ]
     },
     "execution_count": 9,
     "metadata": {},
     "output_type": "execute_result"
    }
   ],
   "source": [
    "df1.head()"
   ]
  },
  {
   "cell_type": "markdown",
   "id": "0351f0fc",
   "metadata": {},
   "source": [
    "### Dealing with the Language missing dataset"
   ]
  },
  {
   "cell_type": "code",
   "execution_count": 10,
   "id": "62ed00a8",
   "metadata": {},
   "outputs": [
    {
     "data": {
      "text/plain": [
       "Spanish       1123\n",
       "English        389\n",
       "Portuguese     114\n",
       "French         101\n",
       "Kiswahili       20\n",
       "Hindi            8\n",
       "Tagalog          2\n",
       "Luganda          1\n",
       "Name: Language, dtype: int64"
      ]
     },
     "execution_count": 10,
     "metadata": {},
     "output_type": "execute_result"
    }
   ],
   "source": [
    "df1.Language.value_counts()"
   ]
  },
  {
   "cell_type": "code",
   "execution_count": 11,
   "id": "bcf76d4a",
   "metadata": {},
   "outputs": [
    {
     "name": "stdout",
     "output_type": "stream",
     "text": [
      "No Group    574\n",
      "Testing       3\n",
      "English       1\n",
      "Name: Group, dtype: int64\n",
      "*****\n",
      "No Agent     573\n",
      "Pauline D      5\n",
      "Name: Agent, dtype: int64\n"
     ]
    }
   ],
   "source": [
    "print(df1[df1.Language.isnull()][\"Group\"].value_counts())\n",
    "print(\"*****\")\n",
    "print(df1[df1.Language.isnull()][\"Agent\"].value_counts())"
   ]
  },
  {
   "cell_type": "markdown",
   "id": "b4eeb749",
   "metadata": {},
   "source": [
    "> The empty cells in Langauage had the Majority falling under \"No Group\", therfore, the missing languages will be filled with \"None\""
   ]
  },
  {
   "cell_type": "code",
   "execution_count": 12,
   "id": "85b26629",
   "metadata": {},
   "outputs": [
    {
     "data": {
      "text/html": [
       "<div>\n",
       "<style scoped>\n",
       "    .dataframe tbody tr th:only-of-type {\n",
       "        vertical-align: middle;\n",
       "    }\n",
       "\n",
       "    .dataframe tbody tr th {\n",
       "        vertical-align: top;\n",
       "    }\n",
       "\n",
       "    .dataframe thead th {\n",
       "        text-align: right;\n",
       "    }\n",
       "</style>\n",
       "<table border=\"1\" class=\"dataframe\">\n",
       "  <thead>\n",
       "    <tr style=\"text-align: right;\">\n",
       "      <th></th>\n",
       "      <th>Ticket ID</th>\n",
       "      <th>Status</th>\n",
       "      <th>Source</th>\n",
       "      <th>Agent</th>\n",
       "      <th>Group</th>\n",
       "      <th>Created time</th>\n",
       "      <th>Month</th>\n",
       "      <th>Last update time</th>\n",
       "      <th>Resolution time (in hrs)</th>\n",
       "      <th>Agent interactions</th>\n",
       "      <th>Customer interactions</th>\n",
       "      <th>Tags</th>\n",
       "      <th>Language</th>\n",
       "      <th>MA</th>\n",
       "      <th>MVA/EVA</th>\n",
       "      <th>D&amp;E</th>\n",
       "      <th>Induction</th>\n",
       "      <th>PAC</th>\n",
       "      <th>Referred to on-the-ground org</th>\n",
       "      <th>Referred to direct provider</th>\n",
       "    </tr>\n",
       "  </thead>\n",
       "  <tbody>\n",
       "    <tr>\n",
       "      <th>4</th>\n",
       "      <td>101407</td>\n",
       "      <td>Waiting on KQ</td>\n",
       "      <td>Chat</td>\n",
       "      <td>No Agent</td>\n",
       "      <td>No Group</td>\n",
       "      <td>2022-09-24 12:16:03</td>\n",
       "      <td>September</td>\n",
       "      <td>2022-09-24 12:16:03</td>\n",
       "      <td>00:00:00</td>\n",
       "      <td>0</td>\n",
       "      <td>1</td>\n",
       "      <td>Away conversation</td>\n",
       "      <td>NaN</td>\n",
       "      <td>False</td>\n",
       "      <td>False</td>\n",
       "      <td>False</td>\n",
       "      <td>False</td>\n",
       "      <td>False</td>\n",
       "      <td>False</td>\n",
       "      <td>False</td>\n",
       "    </tr>\n",
       "    <tr>\n",
       "      <th>10</th>\n",
       "      <td>101632</td>\n",
       "      <td>Waiting on KQ</td>\n",
       "      <td>Chat</td>\n",
       "      <td>No Agent</td>\n",
       "      <td>No Group</td>\n",
       "      <td>2022-09-25 10:07:02</td>\n",
       "      <td>September</td>\n",
       "      <td>2022-09-25 10:07:03</td>\n",
       "      <td>00:00:00</td>\n",
       "      <td>0</td>\n",
       "      <td>1</td>\n",
       "      <td>Away conversation</td>\n",
       "      <td>NaN</td>\n",
       "      <td>False</td>\n",
       "      <td>False</td>\n",
       "      <td>False</td>\n",
       "      <td>False</td>\n",
       "      <td>False</td>\n",
       "      <td>False</td>\n",
       "      <td>False</td>\n",
       "    </tr>\n",
       "    <tr>\n",
       "      <th>11</th>\n",
       "      <td>101633</td>\n",
       "      <td>Waiting on KQ</td>\n",
       "      <td>Chat</td>\n",
       "      <td>No Agent</td>\n",
       "      <td>No Group</td>\n",
       "      <td>2022-09-25 10:22:33</td>\n",
       "      <td>September</td>\n",
       "      <td>2022-09-25 10:22:34</td>\n",
       "      <td>00:00:00</td>\n",
       "      <td>0</td>\n",
       "      <td>1</td>\n",
       "      <td>Away conversation</td>\n",
       "      <td>NaN</td>\n",
       "      <td>False</td>\n",
       "      <td>False</td>\n",
       "      <td>False</td>\n",
       "      <td>False</td>\n",
       "      <td>False</td>\n",
       "      <td>False</td>\n",
       "      <td>False</td>\n",
       "    </tr>\n",
       "  </tbody>\n",
       "</table>\n",
       "</div>"
      ],
      "text/plain": [
       "    Ticket ID         Status Source     Agent     Group         Created time  \\\n",
       "4      101407  Waiting on KQ   Chat  No Agent  No Group  2022-09-24 12:16:03   \n",
       "10     101632  Waiting on KQ   Chat  No Agent  No Group  2022-09-25 10:07:02   \n",
       "11     101633  Waiting on KQ   Chat  No Agent  No Group  2022-09-25 10:22:33   \n",
       "\n",
       "        Month     Last update time Resolution time (in hrs)  \\\n",
       "4   September  2022-09-24 12:16:03                 00:00:00   \n",
       "10  September  2022-09-25 10:07:03                 00:00:00   \n",
       "11  September  2022-09-25 10:22:34                 00:00:00   \n",
       "\n",
       "    Agent interactions  Customer interactions               Tags Language  \\\n",
       "4                    0                      1  Away conversation      NaN   \n",
       "10                   0                      1  Away conversation      NaN   \n",
       "11                   0                      1  Away conversation      NaN   \n",
       "\n",
       "       MA  MVA/EVA    D&E  Induction    PAC  Referred to on-the-ground org  \\\n",
       "4   False    False  False      False  False                          False   \n",
       "10  False    False  False      False  False                          False   \n",
       "11  False    False  False      False  False                          False   \n",
       "\n",
       "    Referred to direct provider  \n",
       "4                         False  \n",
       "10                        False  \n",
       "11                        False  "
      ]
     },
     "execution_count": 12,
     "metadata": {},
     "output_type": "execute_result"
    }
   ],
   "source": [
    "df1[df1.Language.isnull()].head(3)"
   ]
  },
  {
   "cell_type": "code",
   "execution_count": 13,
   "id": "5be4c655",
   "metadata": {},
   "outputs": [],
   "source": [
    "df1[\"Language\"].fillna(\"None\", inplace = True)"
   ]
  },
  {
   "cell_type": "markdown",
   "id": "a87cc166",
   "metadata": {},
   "source": [
    "### Dealing with the Tag missing dataset"
   ]
  },
  {
   "cell_type": "code",
   "execution_count": 14,
   "id": "0346836a",
   "metadata": {},
   "outputs": [
    {
     "data": {
      "text/plain": [
       "Away conversation                   995\n",
       "Unattended - No                     153\n",
       "Unattended - Yes                    139\n",
       "Unattended - Yes,Unattended - No      4\n",
       "Name: Tags, dtype: int64"
      ]
     },
     "execution_count": 14,
     "metadata": {},
     "output_type": "execute_result"
    }
   ],
   "source": [
    "# To deal with Tags missing value\n",
    "\n",
    "df1.Tags.value_counts()"
   ]
  },
  {
   "cell_type": "code",
   "execution_count": 15,
   "id": "95a28361",
   "metadata": {},
   "outputs": [
    {
     "name": "stdout",
     "output_type": "stream",
     "text": [
      "Spanish       371\n",
      "English       324\n",
      "None          175\n",
      "French         88\n",
      "Portuguese     68\n",
      "Kiswahili      12\n",
      "Hindi           4\n",
      "Tagalog         2\n",
      "Luganda         1\n",
      "Name: Language, dtype: int64\n",
      "***\n",
      "Email    851\n",
      "Chat     194\n",
      "Name: Source, dtype: int64\n",
      "***\n",
      "Spanish       371\n",
      "English       328\n",
      "No Group      171\n",
      "French         88\n",
      "Portuguese     68\n",
      "Kiswahili      11\n",
      "Hindi           4\n",
      "Testing         3\n",
      "Luganda         1\n",
      "Name: Group, dtype: int64\n"
     ]
    }
   ],
   "source": [
    "print(df1[df1.Tags.isnull()][\"Language\"].value_counts())\n",
    "print(\"***\")\n",
    "print(df1[df1.Tags.isnull()][\"Source\"].value_counts())\n",
    "print(\"***\")\n",
    "print(df1[df1.Tags.isnull()][\"Group\"].value_counts())"
   ]
  },
  {
   "cell_type": "markdown",
   "id": "561b0291",
   "metadata": {},
   "source": [
    "> Visually looking at the dataset relating to Tags, it can be noted that tags has no visual relationship with any of the dataset, therefore the missing value will be filled with the _mode_"
   ]
  },
  {
   "cell_type": "code",
   "execution_count": 16,
   "id": "59635a2d",
   "metadata": {},
   "outputs": [],
   "source": [
    "df1[\"Tags\"].fillna(df1[\"Tags\"].mode()[0], inplace = True)"
   ]
  },
  {
   "cell_type": "code",
   "execution_count": 17,
   "id": "f7cfcb9d",
   "metadata": {},
   "outputs": [
    {
     "name": "stdout",
     "output_type": "stream",
     "text": [
      "<class 'pandas.core.frame.DataFrame'>\n",
      "RangeIndex: 2336 entries, 0 to 2335\n",
      "Data columns (total 20 columns):\n",
      " #   Column                         Non-Null Count  Dtype \n",
      "---  ------                         --------------  ----- \n",
      " 0   Ticket ID                      2336 non-null   int64 \n",
      " 1   Status                         2336 non-null   object\n",
      " 2   Source                         2336 non-null   object\n",
      " 3   Agent                          2336 non-null   object\n",
      " 4   Group                          2336 non-null   object\n",
      " 5   Created time                   2336 non-null   object\n",
      " 6   Month                          2336 non-null   object\n",
      " 7   Last update time               2336 non-null   object\n",
      " 8   Resolution time (in hrs)       2336 non-null   object\n",
      " 9   Agent interactions             2336 non-null   int64 \n",
      " 10  Customer interactions          2336 non-null   int64 \n",
      " 11  Tags                           2336 non-null   object\n",
      " 12  Language                       2336 non-null   object\n",
      " 13  MA                             2336 non-null   bool  \n",
      " 14  MVA/EVA                        2336 non-null   bool  \n",
      " 15  D&E                            2336 non-null   bool  \n",
      " 16  Induction                      2336 non-null   bool  \n",
      " 17  PAC                            2336 non-null   bool  \n",
      " 18  Referred to on-the-ground org  2336 non-null   bool  \n",
      " 19  Referred to direct provider    2336 non-null   bool  \n",
      "dtypes: bool(7), int64(3), object(10)\n",
      "memory usage: 253.3+ KB\n"
     ]
    }
   ],
   "source": [
    "df1.info()"
   ]
  },
  {
   "cell_type": "code",
   "execution_count": 18,
   "id": "6ce06327",
   "metadata": {},
   "outputs": [
    {
     "data": {
      "text/html": [
       "<div>\n",
       "<style scoped>\n",
       "    .dataframe tbody tr th:only-of-type {\n",
       "        vertical-align: middle;\n",
       "    }\n",
       "\n",
       "    .dataframe tbody tr th {\n",
       "        vertical-align: top;\n",
       "    }\n",
       "\n",
       "    .dataframe thead th {\n",
       "        text-align: right;\n",
       "    }\n",
       "</style>\n",
       "<table border=\"1\" class=\"dataframe\">\n",
       "  <thead>\n",
       "    <tr style=\"text-align: right;\">\n",
       "      <th></th>\n",
       "      <th>Ticket ID</th>\n",
       "      <th>Status</th>\n",
       "      <th>Source</th>\n",
       "      <th>Agent</th>\n",
       "      <th>Group</th>\n",
       "      <th>Created time</th>\n",
       "      <th>Month</th>\n",
       "      <th>Last update time</th>\n",
       "      <th>Resolution time (in hrs)</th>\n",
       "      <th>Agent interactions</th>\n",
       "      <th>Customer interactions</th>\n",
       "      <th>Tags</th>\n",
       "      <th>Language</th>\n",
       "      <th>MA</th>\n",
       "      <th>MVA/EVA</th>\n",
       "      <th>D&amp;E</th>\n",
       "      <th>Induction</th>\n",
       "      <th>PAC</th>\n",
       "      <th>Referred to on-the-ground org</th>\n",
       "      <th>Referred to direct provider</th>\n",
       "    </tr>\n",
       "  </thead>\n",
       "  <tbody>\n",
       "    <tr>\n",
       "      <th>0</th>\n",
       "      <td>92854</td>\n",
       "      <td>Waiting on User</td>\n",
       "      <td>Email</td>\n",
       "      <td>Julia L</td>\n",
       "      <td>Spanish</td>\n",
       "      <td>2022-09-01 00:01:23</td>\n",
       "      <td>September</td>\n",
       "      <td>2022-09-01 16:32:04</td>\n",
       "      <td>00:00:00</td>\n",
       "      <td>1</td>\n",
       "      <td>2</td>\n",
       "      <td>Away conversation</td>\n",
       "      <td>Spanish</td>\n",
       "      <td>False</td>\n",
       "      <td>False</td>\n",
       "      <td>False</td>\n",
       "      <td>False</td>\n",
       "      <td>False</td>\n",
       "      <td>False</td>\n",
       "      <td>False</td>\n",
       "    </tr>\n",
       "    <tr>\n",
       "      <th>1</th>\n",
       "      <td>92855</td>\n",
       "      <td>Evaluation sent</td>\n",
       "      <td>Chat</td>\n",
       "      <td>No Agent</td>\n",
       "      <td>Spanish</td>\n",
       "      <td>2022-09-01 00:05:46</td>\n",
       "      <td>September</td>\n",
       "      <td>2022-09-27 18:12:41</td>\n",
       "      <td>00:00:00</td>\n",
       "      <td>0</td>\n",
       "      <td>1</td>\n",
       "      <td>Away conversation</td>\n",
       "      <td>Spanish</td>\n",
       "      <td>False</td>\n",
       "      <td>False</td>\n",
       "      <td>False</td>\n",
       "      <td>False</td>\n",
       "      <td>False</td>\n",
       "      <td>False</td>\n",
       "      <td>False</td>\n",
       "    </tr>\n",
       "    <tr>\n",
       "      <th>2</th>\n",
       "      <td>92856</td>\n",
       "      <td>Evaluation sent</td>\n",
       "      <td>Email</td>\n",
       "      <td>No Agent</td>\n",
       "      <td>Spanish</td>\n",
       "      <td>2022-09-01 00:10:48</td>\n",
       "      <td>September</td>\n",
       "      <td>2022-09-27 18:12:41</td>\n",
       "      <td>00:00:00</td>\n",
       "      <td>0</td>\n",
       "      <td>1</td>\n",
       "      <td>Away conversation</td>\n",
       "      <td>Spanish</td>\n",
       "      <td>False</td>\n",
       "      <td>False</td>\n",
       "      <td>False</td>\n",
       "      <td>False</td>\n",
       "      <td>False</td>\n",
       "      <td>False</td>\n",
       "      <td>False</td>\n",
       "    </tr>\n",
       "    <tr>\n",
       "      <th>3</th>\n",
       "      <td>101202</td>\n",
       "      <td>Waiting on KQ - reminder</td>\n",
       "      <td>Chat</td>\n",
       "      <td>Lucy P</td>\n",
       "      <td>Spanish</td>\n",
       "      <td>2022-09-23 18:20:24</td>\n",
       "      <td>September</td>\n",
       "      <td>2022-09-30 20:23:28</td>\n",
       "      <td>00:00:00</td>\n",
       "      <td>1</td>\n",
       "      <td>1</td>\n",
       "      <td>Away conversation</td>\n",
       "      <td>Spanish</td>\n",
       "      <td>False</td>\n",
       "      <td>False</td>\n",
       "      <td>False</td>\n",
       "      <td>False</td>\n",
       "      <td>False</td>\n",
       "      <td>False</td>\n",
       "      <td>False</td>\n",
       "    </tr>\n",
       "    <tr>\n",
       "      <th>4</th>\n",
       "      <td>101407</td>\n",
       "      <td>Waiting on KQ</td>\n",
       "      <td>Chat</td>\n",
       "      <td>No Agent</td>\n",
       "      <td>No Group</td>\n",
       "      <td>2022-09-24 12:16:03</td>\n",
       "      <td>September</td>\n",
       "      <td>2022-09-24 12:16:03</td>\n",
       "      <td>00:00:00</td>\n",
       "      <td>0</td>\n",
       "      <td>1</td>\n",
       "      <td>Away conversation</td>\n",
       "      <td>None</td>\n",
       "      <td>False</td>\n",
       "      <td>False</td>\n",
       "      <td>False</td>\n",
       "      <td>False</td>\n",
       "      <td>False</td>\n",
       "      <td>False</td>\n",
       "      <td>False</td>\n",
       "    </tr>\n",
       "  </tbody>\n",
       "</table>\n",
       "</div>"
      ],
      "text/plain": [
       "   Ticket ID                    Status Source     Agent     Group  \\\n",
       "0      92854           Waiting on User  Email   Julia L   Spanish   \n",
       "1      92855           Evaluation sent   Chat  No Agent   Spanish   \n",
       "2      92856           Evaluation sent  Email  No Agent   Spanish   \n",
       "3     101202  Waiting on KQ - reminder   Chat    Lucy P   Spanish   \n",
       "4     101407             Waiting on KQ   Chat  No Agent  No Group   \n",
       "\n",
       "          Created time      Month     Last update time  \\\n",
       "0  2022-09-01 00:01:23  September  2022-09-01 16:32:04   \n",
       "1  2022-09-01 00:05:46  September  2022-09-27 18:12:41   \n",
       "2  2022-09-01 00:10:48  September  2022-09-27 18:12:41   \n",
       "3  2022-09-23 18:20:24  September  2022-09-30 20:23:28   \n",
       "4  2022-09-24 12:16:03  September  2022-09-24 12:16:03   \n",
       "\n",
       "  Resolution time (in hrs)  Agent interactions  Customer interactions  \\\n",
       "0                 00:00:00                   1                      2   \n",
       "1                 00:00:00                   0                      1   \n",
       "2                 00:00:00                   0                      1   \n",
       "3                 00:00:00                   1                      1   \n",
       "4                 00:00:00                   0                      1   \n",
       "\n",
       "                Tags Language     MA  MVA/EVA    D&E  Induction    PAC  \\\n",
       "0  Away conversation  Spanish  False    False  False      False  False   \n",
       "1  Away conversation  Spanish  False    False  False      False  False   \n",
       "2  Away conversation  Spanish  False    False  False      False  False   \n",
       "3  Away conversation  Spanish  False    False  False      False  False   \n",
       "4  Away conversation     None  False    False  False      False  False   \n",
       "\n",
       "   Referred to on-the-ground org  Referred to direct provider  \n",
       "0                          False                        False  \n",
       "1                          False                        False  \n",
       "2                          False                        False  \n",
       "3                          False                        False  \n",
       "4                          False                        False  "
      ]
     },
     "execution_count": 18,
     "metadata": {},
     "output_type": "execute_result"
    }
   ],
   "source": [
    "df1.head()"
   ]
  },
  {
   "cell_type": "code",
   "execution_count": 19,
   "id": "bc60d197",
   "metadata": {},
   "outputs": [
    {
     "name": "stdout",
     "output_type": "stream",
     "text": [
      "False    1955\n",
      "True      381\n",
      "Name: MA, dtype: int64\n",
      "****\n",
      "False    2320\n",
      "True       16\n",
      "Name: MVA/EVA, dtype: int64\n",
      "****\n",
      "False    2318\n",
      "True       18\n",
      "Name: D&E, dtype: int64\n",
      "****\n",
      "False    2320\n",
      "True       16\n",
      "Name: Induction, dtype: int64\n"
     ]
    }
   ],
   "source": [
    "print(df1.MA.value_counts())\n",
    "print(\"****\")\n",
    "print(df1[\"MVA/EVA\"].value_counts())\n",
    "print(\"****\")\n",
    "print(df1[\"D&E\"].value_counts())\n",
    "print(\"****\")\n",
    "print(df1.Induction.value_counts())"
   ]
  },
  {
   "cell_type": "code",
   "execution_count": 20,
   "id": "78723513",
   "metadata": {},
   "outputs": [
    {
     "name": "stdout",
     "output_type": "stream",
     "text": [
      "Waiting on KQ                   655\n",
      "Resolved                        397\n",
      "Waiting on User                 308\n",
      "Waiting on KQ - reminder        298\n",
      "Closed                          228\n",
      "Referral                        227\n",
      "Evaluation sent                 154\n",
      "Referral - reminder              35\n",
      "Need to fill properties chat     22\n",
      "Open                             12\n",
      "Name: Status, dtype: int64\n"
     ]
    },
    {
     "data": {
      "text/plain": [
       "<AxesSubplot:>"
      ]
     },
     "execution_count": 20,
     "metadata": {},
     "output_type": "execute_result"
    },
    {
     "data": {
      "image/png": "[encoded data removed]",
      "text/plain": [
       "<Figure size 576x360 with 1 Axes>"
      ]
     },
     "metadata": {
      "needs_background": "light"
     },
     "output_type": "display_data"
    }
   ],
   "source": [
    "status = df1.Status.value_counts()\n",
    "print(status)\n",
    "status.plot.barh(y = status.values, figsize = (8,5))\n"
   ]
  },
  {
   "cell_type": "code",
   "execution_count": 21,
   "id": "12e1c8ec",
   "metadata": {},
   "outputs": [
    {
     "name": "stdout",
     "output_type": "stream",
     "text": [
      "Chat     1485\n",
      "Email     851\n",
      "Name: Source, dtype: int64\n"
     ]
    },
    {
     "data": {
      "image/png": "[encoded data removed]",
      "text/plain": [
       "<Figure size 720x576 with 1 Axes>"
      ]
     },
     "metadata": {},
     "output_type": "display_data"
    }
   ],
   "source": [
    "plt.figure(figsize = [10,8])\n",
    "source = df1[\"Source\"].value_counts()\n",
    "print(source)\n",
    "\n",
    "base_color = sns.color_palette()[0:3]\n",
    "plt.pie(source, labels = source.index, \n",
    "        autopct='%.0f%%',\n",
    "        wedgeprops = {\"width\":0.5},\n",
    "        startangle = 90,\n",
    "        counterclock = False,\n",
    "       colors = base_color)\n",
    "\n",
    "plt.title(\"Distribution of Sources\");"
   ]
  },
  {
   "cell_type": "code",
   "execution_count": 22,
   "id": "aff3c92d",
   "metadata": {},
   "outputs": [
    {
     "name": "stdout",
     "output_type": "stream",
     "text": [
      "Lucy P            102\n",
      "Maria Silva        99\n",
      "Emma G             97\n",
      "Hellena Brinas     81\n",
      "Wendy S.           79\n",
      "Paty C.            67\n",
      "Bonnie K           62\n",
      "Salma S.           62\n",
      "Teresa V.          43\n",
      "Zoe Z              37\n",
      "Pauline D          19\n",
      "Julia L             5\n",
      "Name: Agent, dtype: int64\n"
     ]
    },
    {
     "data": {
      "text/plain": [
       "<AxesSubplot:>"
      ]
     },
     "execution_count": 22,
     "metadata": {},
     "output_type": "execute_result"
    },
    {
     "data": {
      "image/png": "[encoded data removed]",
      "text/plain": [
       "<Figure size 576x360 with 1 Axes>"
      ]
     },
     "metadata": {
      "needs_background": "light"
     },
     "output_type": "display_data"
    }
   ],
   "source": [
    "agent_no_agent = df1.query(\"Agent != 'No Agent'\")  #to exclude No Agent\n",
    "\n",
    "agent = agent_no_agent.Agent.value_counts()\n",
    "print(agent)\n",
    "agent.plot.barh(y = agent.values, figsize = (8,5))"
   ]
  },
  {
   "cell_type": "code",
   "execution_count": 23,
   "id": "035314ea",
   "metadata": {},
   "outputs": [
    {
     "name": "stdout",
     "output_type": "stream",
     "text": [
      "Spanish       1123\n",
      "No Group       574\n",
      "English        393\n",
      "Portuguese     114\n",
      "French         101\n",
      "Kiswahili       19\n",
      "Hindi            8\n",
      "Testing          3\n",
      "Luganda          1\n",
      "Name: Group, dtype: int64\n"
     ]
    },
    {
     "data": {
      "text/plain": [
       "<AxesSubplot:>"
      ]
     },
     "execution_count": 23,
     "metadata": {},
     "output_type": "execute_result"
    },
    {
     "data": {
      "image/png": "[encoded data removed]",
      "text/plain": [
       "<Figure size 576x360 with 1 Axes>"
      ]
     },
     "metadata": {
      "needs_background": "light"
     },
     "output_type": "display_data"
    }
   ],
   "source": [
    "group = df1.Group.value_counts()\n",
    "print(group)\n",
    "group.plot.barh(y = group.values, figsize = (8,5))"
   ]
  },
  {
   "cell_type": "code",
   "execution_count": null,
   "id": "f3f6bfed",
   "metadata": {},
   "outputs": [],
   "source": []
  },
  {
   "cell_type": "code",
   "execution_count": null,
   "id": "fb01bbc8",
   "metadata": {},
   "outputs": [],
   "source": []
  },
  {
   "cell_type": "code",
   "execution_count": null,
   "id": "c9aa9843",
   "metadata": {},
   "outputs": [],
   "source": []
  },
  {
   "cell_type": "markdown",
   "id": "c5086f2a",
   "metadata": {},
   "source": [
    "# Google Anlaytics data_Sep-Dec 22-safe2choose"
   ]
  },
  {
   "cell_type": "code",
   "execution_count": null,
   "id": "b0c5cd19",
   "metadata": {},
   "outputs": [],
   "source": [
    "df2_acq = pd.read_excel(\"Google Anlaytics data_Sep-Dec 22-safe2choose.xlsx\", sheet_name = \"Acquisition\")\n",
    "df2_age = pd.read_excel(\"Google Anlaytics data_Sep-Dec 22-safe2choose.xlsx\", sheet_name = \"Age\")\n",
    "df2_gen = pd.read_excel(\"Google Anlaytics data_Sep-Dec 22-safe2choose.xlsx\", sheet_name = \"Gender\")\n",
    "df2_pv = pd.read_excel(\"Google Anlaytics data_Sep-Dec 22-safe2choose.xlsx\", sheet_name = \"Page visits\")\n",
    "df2_geo = pd.read_excel(\"Google Anlaytics data_Sep-Dec 22-safe2choose.xlsx\", sheet_name = \"Geography\")\n",
    "df2_users = pd.read_excel(\"Google Anlaytics data_Sep-Dec 22-safe2choose.xlsx\", sheet_name = \"Users - Sep-Dec 22\")"
   ]
  },
  {
   "cell_type": "code",
   "execution_count": null,
   "id": "1c74654d",
   "metadata": {},
   "outputs": [],
   "source": []
  },
  {
   "cell_type": "code",
   "execution_count": null,
   "id": "fd09cc91",
   "metadata": {},
   "outputs": [],
   "source": [
    "print(df2_acq.head())\n",
    "print(\"****\")\n",
    "print(df2_age.head())\n",
    "print(\"****\")\n",
    "print(df2_gen.head())\n",
    "print(\"****\")\n",
    "print(df2_pv.head())\n",
    "print(\"****\")\n",
    "print(df2_geo.head())\n",
    "print(\"****\")\n",
    "print(df2_users.head())"
   ]
  },
  {
   "cell_type": "markdown",
   "id": "2c8aefb8",
   "metadata": {},
   "source": [
    "### Acquisition"
   ]
  },
  {
   "cell_type": "code",
   "execution_count": null,
   "id": "8a3a1a14",
   "metadata": {},
   "outputs": [],
   "source": [
    "df2_acq.info()"
   ]
  },
  {
   "cell_type": "code",
   "execution_count": null,
   "id": "268ff58b",
   "metadata": {},
   "outputs": [],
   "source": [
    "df2_acq"
   ]
  },
  {
   "cell_type": "code",
   "execution_count": null,
   "id": "79dc4fef",
   "metadata": {},
   "outputs": [],
   "source": [
    "# fill missing channel with unidentified\n",
    "\n",
    "# df2_acq.fillna(\"Unidentified\", inplace = True)"
   ]
  },
  {
   "cell_type": "code",
   "execution_count": null,
   "id": "d51ea677",
   "metadata": {},
   "outputs": [],
   "source": [
    "df2_acq.corr()"
   ]
  },
  {
   "cell_type": "markdown",
   "id": "d8da50db",
   "metadata": {},
   "source": [
    "> - New users and sessions are highly positively correlated with the number of users, with the bounce rate having a very low correlation with the users.\n",
    "> - Bounce rate is averagely negatively correlated with the pages/sessions visited and avg. session duration.\n",
    "> - Pages/Session has a weak negative correlation with the number of users, session."
   ]
  },
  {
   "cell_type": "code",
   "execution_count": null,
   "id": "c82ded4c",
   "metadata": {},
   "outputs": [],
   "source": [
    "df_num = df2_acq.drop(\"Default Channel Grouping\", 1)"
   ]
  },
  {
   "cell_type": "code",
   "execution_count": null,
   "id": "b6dd18e7",
   "metadata": {},
   "outputs": [],
   "source": [
    "plt.figure(figsize = (12,8))\n",
    "sns.heatmap(df_num.corr(), cmap=\"YlGnBu\", annot=True)"
   ]
  },
  {
   "cell_type": "code",
   "execution_count": null,
   "id": "798cbf1f",
   "metadata": {},
   "outputs": [],
   "source": [
    "df2_acq[\"Default Channel Grouping\"].value_counts()"
   ]
  },
  {
   "cell_type": "code",
   "execution_count": null,
   "id": "e43d02d0",
   "metadata": {},
   "outputs": [],
   "source": [
    "df2_acq.describe()"
   ]
  },
  {
   "cell_type": "code",
   "execution_count": null,
   "id": "e39903ef",
   "metadata": {
    "scrolled": true
   },
   "outputs": [],
   "source": [
    "sns.barplot(x = \"Default Channel Grouping\", y = \"Users\", data = df2_acq)\n",
    "plt.xticks(rotation = 45);"
   ]
  },
  {
   "cell_type": "code",
   "execution_count": null,
   "id": "d9c9599d",
   "metadata": {},
   "outputs": [],
   "source": [
    "\n",
    "\n",
    "\n",
    "plt.figure(figsize = [8,18])\n",
    "plt.subplot(5, 1, 1)\n",
    "sns.barplot(x = \"Default Channel Grouping\", y = \"Users\", data = df2_acq, palette = 'Blues')\n",
    "\n",
    "\n",
    "ax = plt.subplot(5, 1, 2)\n",
    "sns.barplot(x = \"Default Channel Grouping\", y = \"Sessions\", data = df2_acq, palette = 'Blues')\n",
    "\n",
    "\n",
    "ax = plt.subplot(5, 1, 3)\n",
    "sns.barplot(x = \"Default Channel Grouping\", y = \"Bounce Rate\", data = df2_acq, palette = 'Blues')\n",
    "\n",
    "ax = plt.subplot(5, 1, 4)\n",
    "sns.barplot(x = \"Default Channel Grouping\", y = \"Pages/Session\", data = df2_acq, palette = 'Blues')\n",
    "\n",
    "\n",
    "ax = plt.subplot(5, 1, 5)\n",
    "sns.barplot(x = \"Default Channel Grouping\", y = \"Avg. Session Duration\", data = df2_acq, palette = 'Blues');\n",
    "\n",
    "\n"
   ]
  },
  {
   "cell_type": "code",
   "execution_count": null,
   "id": "eba0be28",
   "metadata": {},
   "outputs": [],
   "source": [
    "# fig, ax = plt.subplots(2,2, figsize = [15,6])\n",
    "\n",
    "\n",
    "# # base_color = sns.color_palette()[0]\n",
    "# sns.barplot(x = \"Default Channel Grouping\", y = \"Users\", data = df2_acq, palette = 'Blues' ax = ax[0])\n",
    "# ax[0].set_ylabel(\"Duration (Secs)\")\n",
    "# ax[0].set_xlabel(\"User Type\")\n",
    "\n",
    "# sns.barplot(x = \"Default Channel Grouping\", y = \"Sessions\", data = df2_acq, palette = 'Blues', ax = ax[1])\n",
    "# plt.suptitle(\"Trip By User Type\", fontsize = 20, fontweight='bold')\n",
    "# ax[1].set_ylabel(\"Duration (Secs)\")\n",
    "# ax[1].set_xlabel(\"User Type\")\n",
    "\n",
    "# sns.barplot(x = \"Default Channel Grouping\", y = \"Pages/Session\", data = df2_acq, palette = 'Blues', ax = ax[3])\n",
    "# ax[3].set_ylabel(\"Duration (Secs)\")\n",
    "# ax[3].set_xlabel(\"User Type\")\n",
    "\n",
    "# sns.barplot(x = \"Default Channel Grouping\", y = \"Bounce Rate\", data = df2_acq, palette = 'Blues', ax = ax[4])\n",
    "# plt.suptitle(\"Trip By User Type\", fontsize = 20, fontweight='bold')\n",
    "# ax[4].set_ylabel(\"Duration (Secs)\")\n",
    "# ax[4].set_xlabel(\"User Type\");"
   ]
  },
  {
   "cell_type": "markdown",
   "id": "dc6a79b5",
   "metadata": {},
   "source": [
    "### Age"
   ]
  },
  {
   "cell_type": "code",
   "execution_count": null,
   "id": "b4935531",
   "metadata": {},
   "outputs": [],
   "source": [
    "df2_age"
   ]
  },
  {
   "cell_type": "code",
   "execution_count": null,
   "id": "8150dc3d",
   "metadata": {},
   "outputs": [],
   "source": [
    "sns.barplot(x = \"Age\", y = \"Users\", data = df2_age, palette = 'Blues');"
   ]
  },
  {
   "cell_type": "markdown",
   "id": "4bbcdde2",
   "metadata": {},
   "source": [
    "### Gender"
   ]
  },
  {
   "cell_type": "code",
   "execution_count": null,
   "id": "df6a96d8",
   "metadata": {},
   "outputs": [],
   "source": [
    "df2_gen"
   ]
  },
  {
   "cell_type": "code",
   "execution_count": null,
   "id": "d0be3d63",
   "metadata": {},
   "outputs": [],
   "source": [
    "sns.barplot(x = \"Gender\", y = \"Users\", data = df2_gen, palette = 'Blues_d');"
   ]
  },
  {
   "cell_type": "markdown",
   "id": "aa390b24",
   "metadata": {},
   "source": [
    "### Geography"
   ]
  },
  {
   "cell_type": "code",
   "execution_count": null,
   "id": "f7238757",
   "metadata": {},
   "outputs": [],
   "source": [
    "df2_geo"
   ]
  },
  {
   "cell_type": "code",
   "execution_count": null,
   "id": "f3342d54",
   "metadata": {},
   "outputs": [],
   "source": [
    "df2_geo.info()"
   ]
  },
  {
   "cell_type": "code",
   "execution_count": null,
   "id": "f762a0a1",
   "metadata": {},
   "outputs": [],
   "source": [
    "# fill missing channel with unidentified\n",
    "\n",
    "# df2_geo.fillna(\"Unidentified\", inplace = True)"
   ]
  },
  {
   "cell_type": "code",
   "execution_count": null,
   "id": "9193cedf",
   "metadata": {},
   "outputs": [],
   "source": [
    "df2_geo.corr()"
   ]
  },
  {
   "cell_type": "markdown",
   "id": "652e49ad",
   "metadata": {},
   "source": [
    "> - New users and sessions are highly positively correlated with the number of users, with the bounce rate having a very low correlation with the users.\n",
    "> - Bounce rate is highly negatively correlated with the pages/sessions visited and avg. session duration.\n",
    "> - Pages/Session has a positive correlation with the avg session duration."
   ]
  },
  {
   "cell_type": "code",
   "execution_count": null,
   "id": "cffa4618",
   "metadata": {},
   "outputs": [],
   "source": [
    "df_num = df2_geo.drop(\"Country\", 1)"
   ]
  },
  {
   "cell_type": "code",
   "execution_count": null,
   "id": "9c3237d3",
   "metadata": {},
   "outputs": [],
   "source": [
    "plt.figure(figsize = (12,8))\n",
    "sns.heatmap(df_num.corr(), annot=True, cmap = \"rocket\", fmt = \".2f\")"
   ]
  },
  {
   "cell_type": "code",
   "execution_count": null,
   "id": "a0607239",
   "metadata": {},
   "outputs": [],
   "source": [
    "df2_geo[\"Country\"].value_counts()"
   ]
  },
  {
   "cell_type": "code",
   "execution_count": null,
   "id": "5ed0246b",
   "metadata": {},
   "outputs": [],
   "source": [
    "df2_geo.describe()"
   ]
  },
  {
   "cell_type": "code",
   "execution_count": null,
   "id": "92a00d81",
   "metadata": {},
   "outputs": [],
   "source": [
    "plt.figure(figsize = [8,5])\n",
    "sns.barplot(x = \"Country\", y = \"Users\", data = df2_geo, palette = \"rocket_r\")\n",
    "plt.xticks(rotation = 45);"
   ]
  },
  {
   "cell_type": "code",
   "execution_count": null,
   "id": "ad9c3f24",
   "metadata": {},
   "outputs": [],
   "source": [
    "plt.figure(figsize = [8,18])\n",
    "plt.subplot(5, 1, 1)\n",
    "sns.barplot(x = \"Country\", y = \"Users\", data = df2_geo, palette = 'Blues')\n",
    "\n",
    "\n",
    "ax = plt.subplot(5, 1, 2)\n",
    "sns.barplot(x = \"Country\", y = \"Sessions\", data = df2_geo, palette = 'Blues')\n",
    "\n",
    "\n",
    "ax = plt.subplot(5, 1, 3)\n",
    "sns.barplot(x = \"Country\", y = \"Bounce Rate\", data = df2_geo, palette = 'Blues')\n",
    "\n",
    "ax = plt.subplot(5, 1, 4)\n",
    "sns.barplot(x = \"Country\", y = \"Pages/Session\", data = df2_geo, palette = 'Blues')\n",
    "\n",
    "\n",
    "ax = plt.subplot(5, 1, 5)\n",
    "sns.barplot(x = \"Country\", y = \"Avg. Session Duration\", data = df2_geo, palette = 'Blues')\n",
    "plt.xticks(rotation = 45);\n",
    "\n"
   ]
  },
  {
   "cell_type": "markdown",
   "id": "42fb69b5",
   "metadata": {},
   "source": [
    "### Users"
   ]
  },
  {
   "cell_type": "code",
   "execution_count": null,
   "id": "55ea1561",
   "metadata": {},
   "outputs": [],
   "source": [
    "df2_users.head()"
   ]
  },
  {
   "cell_type": "code",
   "execution_count": null,
   "id": "10a3f782",
   "metadata": {},
   "outputs": [],
   "source": [
    "df2_users.info()"
   ]
  },
  {
   "cell_type": "code",
   "execution_count": null,
   "id": "41e25251",
   "metadata": {},
   "outputs": [],
   "source": [
    "df2_users.dropna(inplace= True)"
   ]
  },
  {
   "cell_type": "code",
   "execution_count": null,
   "id": "7a534251",
   "metadata": {},
   "outputs": [],
   "source": [
    "\n",
    "df2_users[\"month\"] = df2_users[\"Day Index\"].dt.strftime(\"%B\")\n",
    "df2_users[\"day\"] = df2_users[\"Day Index\"].dt.day.astype(\"Int64\")\n",
    "df2_users[\"year\"] = df2_users[\"Day Index\"].dt.year.astype(\"Int64\")\n",
    "df2_users[\"weekday\"] = df2_users[\"Day Index\"].dt.strftime(\"%A\")"
   ]
  },
  {
   "cell_type": "code",
   "execution_count": null,
   "id": "9fce81b2",
   "metadata": {},
   "outputs": [],
   "source": [
    "df2_users.head()"
   ]
  },
  {
   "cell_type": "code",
   "execution_count": null,
   "id": "91948d16",
   "metadata": {},
   "outputs": [],
   "source": [
    "df2_users.month.value_counts()"
   ]
  },
  {
   "cell_type": "code",
   "execution_count": null,
   "id": "6af2c2bf",
   "metadata": {},
   "outputs": [],
   "source": [
    "df2_users.day.unique()"
   ]
  },
  {
   "cell_type": "code",
   "execution_count": null,
   "id": "dab38ea1",
   "metadata": {},
   "outputs": [],
   "source": [
    "df2_users.year.unique()"
   ]
  },
  {
   "cell_type": "code",
   "execution_count": null,
   "id": "76bb2448",
   "metadata": {},
   "outputs": [],
   "source": [
    "## which month has the highest number of users?\n",
    "\n",
    "sns.barplot(x = \"month\", y = \"Users\", data = df2_users, palette = 'Blues')"
   ]
  },
  {
   "cell_type": "code",
   "execution_count": null,
   "id": "881ad211",
   "metadata": {},
   "outputs": [],
   "source": [
    "## which day has the highest number of users?\n",
    "plt.figure(figsize = [18,10])\n",
    "sns.barplot(x = \"day\", y = \"Users\", data = df2_users, palette = 'Blues')"
   ]
  },
  {
   "cell_type": "code",
   "execution_count": null,
   "id": "430c8987",
   "metadata": {},
   "outputs": [],
   "source": [
    "## which day of the week has the highest number of users?\n",
    "\n",
    "sns.barplot(x = \"weekday\", y = \"Users\", data = df2_users, palette = 'Blues')\n",
    "plt.xticks(rotation = 45);"
   ]
  },
  {
   "cell_type": "code",
   "execution_count": null,
   "id": "5f0bd01d",
   "metadata": {},
   "outputs": [],
   "source": []
  }
 ],
 "metadata": {
  "kernelspec": {
   "display_name": "Python 3 (ipykernel)",
   "language": "python",
   "name": "python3"
  },
  "language_info": {
   "codemirror_mode": {
    "name": "ipython",
    "version": 3
   },
   "file_extension": ".py",
   "mimetype": "text/x-python",
   "name": "python",
   "nbconvert_exporter": "python",
   "pygments_lexer": "ipython3",
   "version": "3.9.12"
  }
 },
 "nbformat": 4,
 "nbformat_minor": 5
}
